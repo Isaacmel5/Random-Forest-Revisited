{
  "cells": [
    {
      "cell_type": "markdown",
      "metadata": {
        "id": "LeynjEuQo82E"
      },
      "source": [
        "# RANDOM FOREST REVISITED"
      ]
    },
    {
      "cell_type": "markdown",
      "source": [
        "# LLIBRERIES"
      ],
      "metadata": {
        "id": "R0R8FfMJwuS2"
      }
    },
    {
      "cell_type": "markdown",
      "metadata": {
        "id": "mKf_KPk5Owa9"
      },
      "source": [
        "Visualize trees libraries"
      ]
    },
    {
      "cell_type": "code",
      "execution_count": 1,
      "metadata": {
        "colab": {
          "base_uri": "https://localhost:8080/"
        },
        "id": "2RbaEL5jdJR3",
        "outputId": "691d47e1-05e5-4b68-c569-bf4c804fa797"
      },
      "outputs": [
        {
          "output_type": "stream",
          "name": "stdout",
          "text": [
            "Reading package lists... Done\n",
            "Building dependency tree... Done\n",
            "Reading state information... Done\n",
            "graphviz is already the newest version (2.42.2-6ubuntu0.1).\n",
            "0 upgraded, 0 newly installed, 0 to remove and 34 not upgraded.\n",
            "Requirement already satisfied: graphviz in /usr/local/lib/python3.11/dist-packages (0.20.3)\n"
          ]
        }
      ],
      "source": [
        "!apt-get install graphviz\n",
        "!pip install graphviz"
      ]
    },
    {
      "cell_type": "markdown",
      "metadata": {
        "id": "nGGvgdPMrU_E"
      },
      "source": [
        "UCI MLR Respository"
      ]
    },
    {
      "cell_type": "code",
      "execution_count": 2,
      "metadata": {
        "colab": {
          "base_uri": "https://localhost:8080/"
        },
        "id": "w67srF3qu0rn",
        "outputId": "f247ce04-a841-4aa8-af22-3934538d12d0"
      },
      "outputs": [
        {
          "output_type": "stream",
          "name": "stdout",
          "text": [
            "Collecting ucimlrepo\n",
            "  Downloading ucimlrepo-0.0.7-py3-none-any.whl.metadata (5.5 kB)\n",
            "Requirement already satisfied: pandas>=1.0.0 in /usr/local/lib/python3.11/dist-packages (from ucimlrepo) (2.2.2)\n",
            "Requirement already satisfied: certifi>=2020.12.5 in /usr/local/lib/python3.11/dist-packages (from ucimlrepo) (2025.4.26)\n",
            "Requirement already satisfied: numpy>=1.23.2 in /usr/local/lib/python3.11/dist-packages (from pandas>=1.0.0->ucimlrepo) (2.0.2)\n",
            "Requirement already satisfied: python-dateutil>=2.8.2 in /usr/local/lib/python3.11/dist-packages (from pandas>=1.0.0->ucimlrepo) (2.9.0.post0)\n",
            "Requirement already satisfied: pytz>=2020.1 in /usr/local/lib/python3.11/dist-packages (from pandas>=1.0.0->ucimlrepo) (2025.2)\n",
            "Requirement already satisfied: tzdata>=2022.7 in /usr/local/lib/python3.11/dist-packages (from pandas>=1.0.0->ucimlrepo) (2025.2)\n",
            "Requirement already satisfied: six>=1.5 in /usr/local/lib/python3.11/dist-packages (from python-dateutil>=2.8.2->pandas>=1.0.0->ucimlrepo) (1.17.0)\n",
            "Downloading ucimlrepo-0.0.7-py3-none-any.whl (8.0 kB)\n",
            "Installing collected packages: ucimlrepo\n",
            "Successfully installed ucimlrepo-0.0.7\n"
          ]
        }
      ],
      "source": [
        "pip install ucimlrepo"
      ]
    },
    {
      "cell_type": "markdown",
      "source": [
        "LightGBM and Xgboost Libraries"
      ],
      "metadata": {
        "id": "82N8LrPYwN7z"
      }
    },
    {
      "cell_type": "code",
      "source": [
        "!pip install lightgbm xgboost"
      ],
      "metadata": {
        "colab": {
          "base_uri": "https://localhost:8080/"
        },
        "id": "Nci2wpt8cuZi",
        "outputId": "2349b9a9-9976-40ce-dfc5-a23e4f4ebfc4"
      },
      "execution_count": 3,
      "outputs": [
        {
          "output_type": "stream",
          "name": "stdout",
          "text": [
            "Requirement already satisfied: lightgbm in /usr/local/lib/python3.11/dist-packages (4.5.0)\n",
            "Requirement already satisfied: xgboost in /usr/local/lib/python3.11/dist-packages (2.1.4)\n",
            "Requirement already satisfied: numpy>=1.17.0 in /usr/local/lib/python3.11/dist-packages (from lightgbm) (2.0.2)\n",
            "Requirement already satisfied: scipy in /usr/local/lib/python3.11/dist-packages (from lightgbm) (1.15.3)\n",
            "Requirement already satisfied: nvidia-nccl-cu12 in /usr/local/lib/python3.11/dist-packages (from xgboost) (2.21.5)\n"
          ]
        }
      ]
    },
    {
      "cell_type": "markdown",
      "source": [
        "Imports for other libraries"
      ],
      "metadata": {
        "id": "g16o_WxvwR3N"
      }
    },
    {
      "cell_type": "code",
      "execution_count": 4,
      "metadata": {
        "id": "ZgTbLJbMPRhR"
      },
      "outputs": [],
      "source": [
        "\n",
        "import numpy as np\n",
        "import pandas as pd\n",
        "import random\n",
        "import pprint\n",
        "import time\n",
        "import os\n",
        "from collections import Counter\n",
        "from graphviz import Digraph\n",
        "from sklearn.ensemble import RandomForestClassifier\n",
        "from sklearn.model_selection import train_test_split"
      ]
    },
    {
      "cell_type": "markdown",
      "metadata": {
        "id": "Zot2xQrIPkIw"
      },
      "source": [
        "# DECISION TREE"
      ]
    },
    {
      "cell_type": "code",
      "execution_count": 5,
      "metadata": {
        "id": "tTr3MmqBHnqe"
      },
      "outputs": [],
      "source": [
        "\n",
        "class DecisionTree:\n",
        "    \"\"\"Implementacio de un arbre de decisio CART personalitzat que gestiona NUllS.\n",
        "\n",
        "    Parametres\n",
        "    ----------\n",
        "    max_depth : int o None\n",
        "        Profunditat màxima de l’arbre. Si és None, els nodes s’expandeixen fins que totes les fulles siguin pures\n",
        "        o continguin menys de `min_samples_split` mostres.\n",
        "    min_samples_split : int, per defecte 2\n",
        "        Nombre mínim de mostres requerit per dividir un node intern.\n",
        "    feature_subset : int o None\n",
        "        Nombre de característiques a considerar a l’hora de buscar el millor punt de divisió.\n",
        "        Si és None, s’utilitzen totes les característiques.\n",
        "    \"\"\"\n",
        "        #Constructor de l'arbre\n",
        "    def __init__(self, max_depth=None, min_samples_split=2, feature_subset=None):\n",
        "        self.max_depth = max_depth\n",
        "        self.min_samples_split = min_samples_split\n",
        "        self.feature_subset = feature_subset\n",
        "        self.tree = None\n",
        "\n",
        "    def fit(self, X: pd.DataFrame, y: pd.Series):\n",
        "        \"\"\"Entrena l'arbre de decisio\"\"\"\n",
        "        self.n_features = self.feature_subset or X.shape[1] # Guarda num features per split\n",
        "        self.y_train = y #Guarda y\n",
        "        self.tree = self._build_tree(X, y, depth=0) #inici construccio arbre\n",
        "\n",
        "    def _gini(self, y: pd.Series):\n",
        "        \"\"\"Calcula l'impuresa de Gini\"\"\"\n",
        "        counts = y.value_counts().values\n",
        "        probs = counts / counts.sum()  # Normalitzem per obtenir probabilitats\n",
        "        return 1 - np.sum(probs ** 2)  # Retorna l'impuresa del node\n",
        "\n",
        "    def _best_split(self, X: pd.DataFrame, y: pd.Series):\n",
        "        \"\"\"Troba la millor divisió segons el gain amb l'índex de Gini, gestionant valors nuls i categòriques.\"\"\"\n",
        "        best_gain = 0\n",
        "        best_feature = None\n",
        "        best_threshold = None\n",
        "        best_is_categorical = False\n",
        "\n",
        "        current_gini = self._gini(y)  # Gini actual del node\n",
        "        feature_idxs = random.sample(range(X.shape[1]), self.n_features)  # Selecció aleatòria de característiques\n",
        "\n",
        "        for feature in feature_idxs:\n",
        "            col = X.iloc[:, feature]  # Agafa la columna corresponent a feature del conjunt\n",
        "\n",
        "            # Detectem si és categòrica\n",
        "            is_categorical = col.dtype.name == \"category\" or col.dtype == object\n",
        "\n",
        "            if is_categorical:\n",
        "                #CATEGÒRIQUES\n",
        "                values = col.dropna().unique()  # Guardem valors unics (sense NaNs)\n",
        "                for val in values:\n",
        "                    if pd.isna(val):  # Evitem usar NaN per fer split\n",
        "                        continue\n",
        "                    #Pertinença/grups per categòriques i nulls apart\n",
        "                    left_mask = col == val\n",
        "                    right_mask = col != val\n",
        "                    null_mask = col.isna()\n",
        "\n",
        "                    #Si hi ha una branca pel llindar, salta al seguent\n",
        "                    if left_mask.sum() == 0 or right_mask.sum() == 0:\n",
        "                        continue\n",
        "\n",
        "                    #Generem llistes de valors segons les mascares booleanes\n",
        "                    y_left, y_right, y_null = y[left_mask], y[right_mask], y[null_mask]\n",
        "                    #Calcul del Gini amb la feature i llindar actual de cada subconjunt\n",
        "                    gini_left, gini_right, gini_null = self._gini(y_left), self._gini(y_right), self._gini(y_null)\n",
        "                    #Calcul de l'imupresa mitjana ponderada segons la dimensio dels subconnjunts anteriors\n",
        "                    weighted_gini = (\n",
        "                        (len(y_left) * gini_left + len(y_right) * gini_right + len(y_null) * gini_null) / len(y)\n",
        "                    )\n",
        "                    #Calcul del gain global, per saber quant ha millorat el node\n",
        "                    gain = current_gini - weighted_gini\n",
        "\n",
        "                    #Historial que es sobreescriu per quedarnos al final amb el milllor gain i els parametres relacionats\n",
        "                    if gain > best_gain:\n",
        "                        best_gain = gain\n",
        "                        best_feature = feature\n",
        "                        best_threshold = val\n",
        "                        best_is_categorical = True\n",
        "\n",
        "            else:\n",
        "                # NUMÈRIQUES\n",
        "                thresholds = col.dropna().unique()  # Elimina NaNs per trobar valors reals\n",
        "                for threshold in thresholds:\n",
        "                    if pd.isna(threshold):  # Evitem thresholds nuls\n",
        "                        continue\n",
        "\n",
        "                    left_mask = col <= threshold\n",
        "                    right_mask = col > threshold\n",
        "                    null_mask = col.isna()\n",
        "\n",
        "                    if left_mask.sum() == 0 or right_mask.sum() == 0:\n",
        "                        continue\n",
        "\n",
        "                    y_left, y_right, y_null = y[left_mask], y[right_mask], y[null_mask]\n",
        "                    gini_left, gini_right, gini_null = self._gini(y_left), self._gini(y_right), self._gini(y_null)\n",
        "                    weighted_gini = (\n",
        "                        (len(y_left) * gini_left + len(y_right) * gini_right + len(y_null) * gini_null) / len(y)\n",
        "                    )\n",
        "                    gain = current_gini - weighted_gini\n",
        "\n",
        "                    if gain > best_gain:\n",
        "                        best_gain = gain\n",
        "                        best_feature = feature\n",
        "                        best_threshold = threshold\n",
        "                        best_is_categorical = False\n",
        "\n",
        "        # Si no es troba un gain millor a 0 o threshold és null, retorna None per indicar que no es pot construir més ---> (fulla)\n",
        "        if best_feature is None or pd.isna(best_threshold):\n",
        "            return None, None, None\n",
        "        else:\n",
        "            return best_feature, best_threshold, best_is_categorical\n",
        "\n",
        "    def _split_dataset(self, X: pd.DataFrame, y: pd.Series, feature, threshold, is_categorical):\n",
        "        \"\"\"Divideix el dataset en tres subconjunts: esquerra, dreta i valors nuls.\n",
        "        Per categòriques: esquerra = igualtat, dreta = diferent. Per numèriques: esquerra = <= threshold, dreta = > threshold.\n",
        "        \"\"\"\n",
        "        col = X.iloc[:, feature] #Accedim a la columna feature\n",
        "\n",
        "        if is_categorical:\n",
        "            left_mask = col == threshold     # Pertinença (categoria igual)\n",
        "            right_mask = col != threshold    # Categoria diferent\n",
        "        else:\n",
        "            left_mask = col <= threshold     # Numèrica segons threshold\n",
        "            right_mask = col > threshold\n",
        "\n",
        "        null_mask = col.isna()\n",
        "\n",
        "        return (\n",
        "            X[left_mask], y[left_mask],\n",
        "            X[right_mask], y[right_mask],\n",
        "            X[null_mask], y[null_mask]\n",
        "        )\n",
        "\n",
        "    def _build_tree(self, X: pd.DataFrame, y: pd.Series, depth):\n",
        "        \"\"\"Construcció recursiva de l'arbre, incloent una branca per valors nuls.\"\"\"\n",
        "\n",
        "        #Si s'ha de crear fulla es retorna la classe majoritaria\n",
        "        #Raons: max depth, poques mostres per dividir o totes les clases son la mateixa\n",
        "        if depth == self.max_depth or len(X) < self.min_samples_split or self._gini(y) == 0:\n",
        "            return self._most_common_class(y)\n",
        "\n",
        "        #Es busca el seguent millor split\n",
        "        best_feature, best_threshold, is_categorical = self._best_split(X, y)\n",
        "\n",
        "        #Si no s'ha trobat un split millor, retornem classe majoritaria, es crea fulla\n",
        "        if best_feature is None or pd.isna(best_threshold):\n",
        "            return self._most_common_class(y)\n",
        "\n",
        "        #Es divideix el dataset segons el best_split trobat\n",
        "        X_left, y_left, X_right, y_right, X_null, y_null = self._split_dataset(X, y, best_feature, best_threshold, is_categorical)\n",
        "\n",
        "        #Es crea la branca especial peer nulls i es retorna fulla si no hi ha nulls a la branca, sino es continua recursivament\n",
        "        if len(y_null) == 0:\n",
        "            null_branch = self._most_common_class(y)\n",
        "        else:\n",
        "            null_branch = self._build_tree(X_null, y_null, depth + 1)\n",
        "\n",
        "        #Return i crida rescursiva\n",
        "        return {\n",
        "            'feature': best_feature,\n",
        "            'threshold': best_threshold,\n",
        "            'is_categorical': is_categorical,\n",
        "            'left': self._build_tree(X_left, y_left, depth + 1),\n",
        "            'right': self._build_tree(X_right, y_right, depth + 1),\n",
        "            'null': null_branch,\n",
        "            'depth': depth\n",
        "        }\n",
        "\n",
        "    def _predict_one(self, row: pd.Series, node):\n",
        "        \"\"\"Passa una única mostra per l'arbre fins a trobar una fulla, manejant valors nuls i categòrics.\"\"\"\n",
        "        if not isinstance(node, dict):\n",
        "            return node  # Si és una fulla, retornem la predicció\n",
        "\n",
        "        #Rceuperem info del node\n",
        "        feature = node[\"feature\"]\n",
        "        threshold = node[\"threshold\"]\n",
        "        is_categorical = node.get(\"is_categorical\", False)\n",
        "\n",
        "        value = row.iloc[feature]\n",
        "\n",
        "        # Tractament de valors numerics com a strings ex:\"5\", Pandas els pot passar a strings a vegades, han de ser Float\n",
        "        try:\n",
        "            if not is_categorical:\n",
        "                value = float(value)\n",
        "        except (ValueError, TypeError):\n",
        "            value = np.nan\n",
        "\n",
        "        # Si és NaN, seguim la branca \"null\"\n",
        "        if pd.isna(value):\n",
        "            return self._predict_one(row, node[\"null\"]) if \"null\" in node else self._most_common_class(self.y_train)\n",
        "\n",
        "        # Comparació segons tipus de variable\n",
        "        if is_categorical:\n",
        "            if value == threshold:\n",
        "                return self._predict_one(row, node[\"left\"])\n",
        "            else:\n",
        "                return self._predict_one(row, node[\"right\"])\n",
        "        else:\n",
        "            if value <= threshold:\n",
        "                return self._predict_one(row, node[\"left\"])\n",
        "            else:\n",
        "                return self._predict_one(row, node[\"right\"])\n",
        "\n",
        "    def predict(self, X: pd.DataFrame):\n",
        "        \"\"\"Prediu la classe per a totes les mostres de X utilitzant un sol arbre de decisió.\"\"\"\n",
        "        #Llista de prediccions\n",
        "        predictions = np.array([self._predict_one(row, self.tree) for _, row in X.iterrows()])\n",
        "        #Detecta si hi ha una prediccio buida i s'omple amb la classe mes comuna\n",
        "        nan_mask = pd.isna(predictions)\n",
        "        if np.any(nan_mask):\n",
        "            predictions[nan_mask] = self._most_common_class(self.y_train)\n",
        "\n",
        "        return predictions\n",
        "\n",
        "    def _most_common_class(self, y):\n",
        "        \"\"\"Retorna la classe majoritaria\"\"\"\n",
        "        #Elimina valors buits del target y\n",
        "        y = y.dropna()\n",
        "        #Troba el valor mes frequent(moda)\n",
        "        mode_result = y.mode()\n",
        "        return mode_result.iloc[0]"
      ]
    },
    {
      "cell_type": "markdown",
      "source": [
        "# RANDOM FOREST"
      ],
      "metadata": {
        "id": "rCShu3qY0QEp"
      }
    },
    {
      "cell_type": "code",
      "execution_count": 6,
      "metadata": {
        "id": "ZWzKwQcoY4Uz"
      },
      "outputs": [],
      "source": [
        "class RandomForest:\n",
        "    \"\"\"\n",
        "    Ensemble de DecisionTree CART amb suport per a dades numèriques, categòriques i valors nuls.\n",
        "\n",
        "    Cada arbre s’entrena sobre una mostra bootstrap diferent i utilitza un\n",
        "    subconjunt aleatori de característiques per a cada split.\n",
        "\n",
        "    Parametres\n",
        "    ----------\n",
        "    n_trees : int\n",
        "        Nombre d’arbres en el bosc.\n",
        "    max_depth : Optional[int]\n",
        "        Profunditat màxima per arbre. Si és None, no es limita per profunditat.\n",
        "    max_features : Optional[int]\n",
        "        Nombre de característiques seleccionades aleatòriament per split. Si és None,\n",
        "        es consideren totes les característiques.\n",
        "    min_samples_split : int, default=2\n",
        "        Nombre mínim de mostres requerit per fer un split.\n",
        "    random_state : Optional[int]\n",
        "        Contrasenya per al generador aleatori, per reproducibilitat.\n",
        "    \"\"\"\n",
        "\n",
        "        #Constructor del bosc ---> Conjunt de DecisionTree's\n",
        "    def __init__(self, n_trees=10, max_depth=None, min_samples_split=2, max_features=None):\n",
        "        self.n_trees = n_trees\n",
        "        self.max_depth = max_depth\n",
        "        self.min_samples_split = min_samples_split\n",
        "        self.max_features = max_features\n",
        "        self.trees = []\n",
        "\n",
        "    def _bootstrap_sample(self, X: pd.DataFrame, y: pd.Series):\n",
        "        \"\"\"Crear una mostra bootstrap amb reemplaçament (bagging), assegurant que es manté en format pandas\"\"\"\n",
        "        #Obtenim nombre total de mostres\n",
        "        n_samples = X.shape[0]\n",
        "        #Generem llista de index aleatoris\n",
        "        indices = np.random.choice(n_samples, size=n_samples, replace=True)\n",
        "        #Retornem llista amb valors aleatoris del dataset original --> Bagging\n",
        "        return X.iloc[indices], y.iloc[indices]\n",
        "\n",
        "    def fit(self, X: pd.DataFrame, y: pd.Series):\n",
        "        \"\"\"Entrena el RF entrenant multiples arbres\"\"\"\n",
        "        self.trees = []  # Reinicialitza la llista d'arbres en cada entrenament\n",
        "\n",
        "        for _ in range(self.n_trees):\n",
        "            #Crea amb bagging una mostra aleatoria pe cada arbre\n",
        "            X_sample, y_sample = self._bootstrap_sample(X, y)\n",
        "            #Crea el Decison Tree\n",
        "            tree = DecisionTree(max_depth=self.max_depth,\n",
        "                                min_samples_split=self.min_samples_split,\n",
        "                                feature_subset=self.max_features)\n",
        "            #Entrenem el Decison Tree\n",
        "            tree.fit(X_sample, y_sample)\n",
        "            #S'afageix el Decsion Tree al conjunt d'arbres(Random Forest) per participar en la predicció\n",
        "            self.trees.append(tree)\n",
        "\n",
        "    def predict(self, X: pd.DataFrame):\n",
        "        \"\"\"Prediu la classe per a totes les mostres combinant les prediccions dels arbres.\"\"\"\n",
        "\n",
        "        #Recollim totes les prediccions de cada arbre com arrays 1D\n",
        "        #Cada arbre retorna un array de prediccions, una per mostra\n",
        "        #Tree_predictions sera una matriu de n_arbresXn_mostres\n",
        "        tree_predictions = [\n",
        "            np.ravel(tree.predict(X)) for tree in self.trees\n",
        "        ]\n",
        "\n",
        "        # Les posem en DataFrame transposat: files = mostres, columnes = arbres\n",
        "        tree_predictions_df = pd.DataFrame(tree_predictions).T\n",
        "\n",
        "        # Votació per majoria, troba el valor mes frequent per fila\n",
        "        final_predictions = tree_predictions_df.mode(axis=1)[0]\n",
        "\n",
        "        #Retorna un pd.series amb les prediccions de totes les mostres\n",
        "        return final_predictions\n",
        "\n",
        "    def _majority_vote(self, predictions: pd.Series):\n",
        "        \"\"\"Retorna la classe mes comuna\"\"\"\n",
        "        return predictions.mode()[0]  #usa `pandas.mode()`, més eficient, es retorna un únic valor, la prediccio final"
      ]
    },
    {
      "cell_type": "markdown",
      "metadata": {
        "id": "kS3b5hfNowK8"
      },
      "source": [
        "# Functions"
      ]
    },
    {
      "cell_type": "markdown",
      "metadata": {
        "id": "82D-mh1En2Mv"
      },
      "source": [
        "Graph Function"
      ]
    },
    {
      "cell_type": "code",
      "execution_count": 7,
      "metadata": {
        "id": "QaceUnzIdS8p"
      },
      "outputs": [],
      "source": [
        "from graphviz import Digraph\n",
        "from pandas.api.types import is_categorical_dtype, is_object_dtype\n",
        "import pandas as pd, numpy as np\n",
        "\n",
        "def visualize_tree(tree, Xdata, parent=None, edge_label=None, graph=None):\n",
        "    \"\"\"Funció recursiva per dibuixar l'arbre, amb branches NULL i splits categòrics.\"\"\"\n",
        "    if graph is None:\n",
        "        graph = Digraph(format=\"png\")\n",
        "\n",
        "    if isinstance(tree, dict):\n",
        "        feature_idx = tree['feature']\n",
        "        col_name    = Xdata.columns[feature_idx]\n",
        "        threshold   = tree['threshold']\n",
        "\n",
        "        # 1) Detectem dtype real\n",
        "        is_categorical = is_categorical_dtype(Xdata[col_name]) \\\n",
        "                      or is_object_dtype(Xdata[col_name])\n",
        "\n",
        "\n",
        "        # 2) Formatem l’etiqueta del node\n",
        "        thr_str   = f\"{threshold:.2f}\" if isinstance(threshold, float) else str(threshold)\n",
        "        node_lbl  = f\"{col_name}\\nThreshold: {thr_str}\"\n",
        "        node_id   = str(id(tree))\n",
        "        graph.node(node_id, node_lbl, style=\"filled\", fillcolor=\"lightblue\")\n",
        "        if parent:\n",
        "            graph.edge(parent, node_id, label=edge_label)\n",
        "\n",
        "        # 3) Triarem els símbols segons el tipus\n",
        "        left_lbl  = \"==\" if is_categorical else \"≤\"\n",
        "        right_lbl = \"!=\" if is_categorical else \">\"\n",
        "\n",
        "        # 4) Crides recursives (sempre passant Xdata!)\n",
        "        visualize_tree(tree['left'],  Xdata, node_id, left_lbl,  graph)\n",
        "        visualize_tree(tree['right'], Xdata, node_id, right_lbl, graph)\n",
        "        if 'null' in tree:\n",
        "            visualize_tree(tree['null'], Xdata, node_id, \"NULL\", graph)\n",
        "\n",
        "    else:\n",
        "        # Bloc fulla: extraiem un valor escalar\n",
        "        if isinstance(tree, pd.Series):\n",
        "            leaf_val = tree.iloc[0]\n",
        "        elif isinstance(tree, (list, np.ndarray, tuple)):\n",
        "            leaf_val = tree[0]\n",
        "        else:\n",
        "            leaf_val = tree\n",
        "\n",
        "        node_lbl = f\"Leaf: {leaf_val:.2f}\"\n",
        "        node_id  = str(id(tree))\n",
        "        graph.node(node_id, node_lbl, shape=\"box\", style=\"filled\", fillcolor=\"lightgreen\")\n",
        "        if parent:\n",
        "            graph.edge(parent, node_id, label=edge_label)\n",
        "\n",
        "    return graph"
      ]
    },
    {
      "cell_type": "markdown",
      "source": [
        "Funcio per trobar parametres optims"
      ],
      "metadata": {
        "id": "9AllV9ST0cUo"
      }
    },
    {
      "cell_type": "code",
      "source": [
        "def optimal_params(Xdata):\n",
        "    \"\"\" Toba els valors optims per entrenar segons les dimensions d'un dataset\"\"\"\n",
        "    n_files = Xdata.shape[0]\n",
        "    n_features = Xdata.shape[1]\n",
        "\n",
        "    print(f\" Dataset: {n_files} files, {n_features} columnes\")\n",
        "\n",
        "    if n_files <= 1000:\n",
        "        print(\"\\n Recomanació per a *dataset petit* (≤ 1000 files):\")\n",
        "        print(\"  - n_trees: 10–50\")\n",
        "        print(\"  - max_depth: 5–10\")\n",
        "        print(\"  - min_samples_split: 2–5\")\n",
        "        print(f\"  - max_features: 1–3 o sqrt(n) = {int(np.sqrt(n_features))}\")\n",
        "    else:\n",
        "        print(\"\\n Recomanació per a *dataset gran* (> 10.000 files):\")\n",
        "        print(\"  - n_trees: 100–200\")\n",
        "        print(\"  - max_depth: 10–20\")\n",
        "        print(\"  - min_samples_split: 10–20\")\n",
        "        print(f\"  - max_features: sqrt(n) = {int(np.sqrt(n_features))}\")"
      ],
      "metadata": {
        "id": "X-EV4CDXRoqv"
      },
      "execution_count": 12,
      "outputs": []
    },
    {
      "cell_type": "markdown",
      "metadata": {
        "id": "nYpxInoqP-rW"
      },
      "source": [
        "# DATASETS"
      ]
    },
    {
      "cell_type": "code",
      "execution_count": null,
      "metadata": {
        "id": "G6iIAbJFvkCu"
      },
      "outputs": [],
      "source": [
        "from ucimlrepo import fetch_ucirepo\n",
        "\n",
        "# LUNG CANCER DATASET\n",
        "# https://archive.ics.uci.edu/dataset/62/lung+cancer\n",
        "\n",
        "lung_cancer = fetch_ucirepo(id=62)\n",
        "\n",
        "# data (as pandas dataframes)\n",
        "Xdata = lung_cancer.data.features\n",
        "ydata_full = lung_cancer.data.targets"
      ]
    },
    {
      "cell_type": "code",
      "execution_count": null,
      "metadata": {
        "id": "42kH5sDb_oYQ"
      },
      "outputs": [],
      "source": [
        "from ucimlrepo import fetch_ucirepo\n",
        "\n",
        "# MYOCARDIAL INFARCTION\n",
        "# https://archive.ics.uci.edu/dataset/579/myocardial+infarction+complications\n",
        "\n",
        "myocardial_infarction_complications = fetch_ucirepo(id=579)\n",
        "\n",
        "# data (as pandas dataframes)\n",
        "Xdata = myocardial_infarction_complications.data.features\n",
        "ydata_full = myocardial_infarction_complications.data.targets"
      ]
    },
    {
      "cell_type": "code",
      "source": [
        "from ucimlrepo import fetch_ucirepo\n",
        "\n",
        "# HEART DISEASE\n",
        "# https://archive.ics.uci.edu/dataset/45/heart+disease\n",
        "\n",
        "heart_disease = fetch_ucirepo(id=45)\n",
        "\n",
        "# data (as pandas dataframes)\n",
        "Xdata = heart_disease.data.features\n",
        "ydata_full = heart_disease.data.targets\n"
      ],
      "metadata": {
        "id": "gTolNVZbIjk6"
      },
      "execution_count": null,
      "outputs": []
    },
    {
      "cell_type": "code",
      "source": [
        "from ucimlrepo import fetch_ucirepo\n",
        "\n",
        "# BREAST CANCER WISCONSIN\n",
        "# https://archive.ics.uci.edu/dataset/15/breast+cancer+wisconsin+original\n",
        "\n",
        "breast_cancer_wisconsin_original = fetch_ucirepo(id=15)\n",
        "\n",
        "# data (as pandas dataframes)\n",
        "Xdata = breast_cancer_wisconsin_original.data.features\n",
        "ydata_full = breast_cancer_wisconsin_original.data.targets\n",
        "\n"
      ],
      "metadata": {
        "id": "29lNZFKKDdRO"
      },
      "execution_count": 9,
      "outputs": []
    },
    {
      "cell_type": "code",
      "source": [
        "from ucimlrepo import fetch_ucirepo\n",
        "\n",
        "# MAMOGRAPGHIC MASS\n",
        "# https://archive.ics.uci.edu/dataset/161/mammographic+mass\n",
        "\n",
        "mammographic_mass = fetch_ucirepo(id=161)\n",
        "\n",
        "# data (as pandas dataframes)\n",
        "Xdata = mammographic_mass.data.features\n",
        "ydata_full= mammographic_mass.data.targets\n",
        "\n",
        "\n"
      ],
      "metadata": {
        "id": "qAIR-pp4rKjX"
      },
      "execution_count": null,
      "outputs": []
    },
    {
      "cell_type": "code",
      "source": [
        "from ucimlrepo import fetch_ucirepo\n",
        "\n",
        "#CHRONIC KIDNEY DISEASE\n",
        "# https://archive.ics.uci.edu/dataset/336/chronic+kidney+disease\n",
        "\n",
        "chronic_kidney_disease = fetch_ucirepo(id=336)\n",
        "\n",
        "# data (as pandas dataframes)\n",
        "Xdata = chronic_kidney_disease.data.features\n",
        "ydata_full = chronic_kidney_disease.data.targets\n",
        "\n"
      ],
      "metadata": {
        "id": "6fPBGt2Wflaa"
      },
      "execution_count": null,
      "outputs": []
    },
    {
      "cell_type": "markdown",
      "source": [
        "# ANALISIS DEL DATASET"
      ],
      "metadata": {
        "id": "t41zSznysitl"
      }
    },
    {
      "cell_type": "markdown",
      "metadata": {
        "id": "8XcO_LqIsMYR"
      },
      "source": [
        "Analitzem Mostra de dades"
      ]
    },
    {
      "cell_type": "code",
      "execution_count": 13,
      "metadata": {
        "colab": {
          "base_uri": "https://localhost:8080/"
        },
        "id": "ZAN9iwyswrIw",
        "outputId": "d8f10745-0522-4125-f0d9-e11c05460dc2"
      },
      "outputs": [
        {
          "output_type": "stream",
          "name": "stdout",
          "text": [
            "Mostra de dades:\n",
            "   Clump_thickness  Uniformity_of_cell_size  Uniformity_of_cell_shape  \\\n",
            "0                5                        1                         1   \n",
            "1                5                        4                         4   \n",
            "2                3                        1                         1   \n",
            "3                6                        8                         8   \n",
            "4                4                        1                         1   \n",
            "\n",
            "   Marginal_adhesion  Single_epithelial_cell_size  Bare_nuclei  \\\n",
            "0                  1                            2          1.0   \n",
            "1                  5                            7         10.0   \n",
            "2                  1                            2          2.0   \n",
            "3                  1                            3          4.0   \n",
            "4                  3                            2          1.0   \n",
            "\n",
            "   Bland_chromatin  Normal_nucleoli  Mitoses  \n",
            "0                3                1        1  \n",
            "1                3                2        1  \n",
            "2                3                1        1  \n",
            "3                3                7        1  \n",
            "4                3                1        1  \n",
            "\n",
            " Dimensions: 699 files, 9 columnes\n",
            "\n",
            " Valors únics (primeres 5 columnes com a exemple):\n",
            "Clump_thickness: [ 5  3  6  4  8  1  2  7 10  9]\n",
            "Uniformity_of_cell_size: [ 1  4  8 10  2  3  7  5  6  9]\n",
            "Uniformity_of_cell_shape: [ 1  4  8 10  2  3  5  6  7  9]\n",
            "Marginal_adhesion: [ 1  5  3  8 10  4  6  2  9  7]\n",
            "Single_epithelial_cell_size: [ 2  7  3  1  6  4  5  8 10  9]\n",
            "\n",
            " Columnes amb valors nuls (NaN):\n",
            "Bare_nuclei: 16 nuls (2.29%)\n",
            "\n",
            " Valors sospitosos (-1, '?') per columna:\n",
            "\n",
            " Tipus de variables: 9 numèriques, 0 categòriques\n"
          ]
        }
      ],
      "source": [
        "print(\"Mostra de dades:\")\n",
        "print(Xdata.head())\n",
        "\n",
        "# Dimensions del dataset\n",
        "print(f\"\\n Dimensions: {Xdata.shape[0]} files, {Xdata.shape[1]} columnes\")\n",
        "\n",
        "# Valors únics (primeres 5 columnes com a exemple)\n",
        "print(\"\\n Valors únics (primeres 5 columnes com a exemple):\")\n",
        "for col in Xdata.columns[:5]:\n",
        "    print(f\"{col}: {Xdata[col].unique()}\")\n",
        "\n",
        "# Anàlisi de valors nuls\n",
        "print(\"\\n Columnes amb valors nuls (NaN):\")\n",
        "nulls = Xdata.isnull().sum()\n",
        "nulls_percent = (nulls / len(Xdata)) * 100\n",
        "for col in Xdata.columns:\n",
        "    if nulls[col] > 0:\n",
        "        print(f\"{col}: {nulls[col]} nuls ({nulls_percent[col]:.2f}%)\")\n",
        "\n",
        "# Anàlisi de valors sospitosos com -1 o \"?\"\n",
        "print(\"\\n Valors sospitosos (-1, '?') per columna:\")\n",
        "for col in Xdata.columns:\n",
        "    suspicious = ((Xdata[col] == -1) | (Xdata[col] == \"?\")).sum()\n",
        "    if suspicious > 0:\n",
        "        print(f\"{col}: {suspicious} valors sospitosos\")\n",
        "\n",
        "# Tipus de variables\n",
        "num_vars = Xdata.select_dtypes(include=['int64', 'float64']).shape[1]\n",
        "cat_vars = Xdata.select_dtypes(include=['object', 'category']).shape[1]\n",
        "print(f\"\\n Tipus de variables: {num_vars} numèriques, {cat_vars} categòriques\")"
      ]
    },
    {
      "cell_type": "code",
      "source": [
        "#Parametres optims per fer el RF\n",
        "optimal_params(Xdata)"
      ],
      "metadata": {
        "colab": {
          "base_uri": "https://localhost:8080/"
        },
        "id": "d6u1GUvwR-zE",
        "outputId": "024aa033-1a5a-4f38-bdf2-b1c10e4c3342"
      },
      "execution_count": 14,
      "outputs": [
        {
          "output_type": "stream",
          "name": "stdout",
          "text": [
            " Dataset: 699 files, 9 columnes\n",
            "\n",
            " Recomanació per a *dataset petit* (≤ 1000 files):\n",
            "  - n_trees: 10–50\n",
            "  - max_depth: 5–10\n",
            "  - min_samples_split: 2–5\n",
            "  - max_features: 1–3 o sqrt(n) = 3\n"
          ]
        }
      ]
    },
    {
      "cell_type": "markdown",
      "metadata": {
        "id": "J5lW35Hbsc9l"
      },
      "source": [
        "Analitzem Dades Target"
      ]
    },
    {
      "cell_type": "code",
      "execution_count": 15,
      "metadata": {
        "colab": {
          "base_uri": "https://localhost:8080/"
        },
        "id": "Fkk-ZqSCf2Yc",
        "outputId": "420c0340-eb68-4866-f67f-1028f1966ef0"
      },
      "outputs": [
        {
          "output_type": "stream",
          "name": "stdout",
          "text": [
            "   Class\n",
            "0      2\n",
            "1      2\n",
            "2      2\n",
            "3      2\n",
            "4      2\n"
          ]
        }
      ],
      "source": [
        "#Posibles targets\n",
        "print(ydata_full.head())"
      ]
    },
    {
      "cell_type": "code",
      "execution_count": 18,
      "metadata": {
        "colab": {
          "base_uri": "https://localhost:8080/"
        },
        "id": "NVOGMfzqrcy1",
        "outputId": "4112444b-c36a-4c69-9f06-b7145506bd78"
      },
      "outputs": [
        {
          "output_type": "stream",
          "name": "stdout",
          "text": [
            "0    2\n",
            "1    2\n",
            "2    2\n",
            "3    2\n",
            "4    2\n",
            "Name: Class, dtype: int64\n"
          ]
        }
      ],
      "source": [
        "#Triar Target si hi ha mes de un com a Myocardial Infarction Complications (multilabel)\n",
        "ydata = ydata_full[\"Class\"]\n",
        "print(ydata.head())"
      ]
    },
    {
      "cell_type": "code",
      "source": [
        "ydata = ydata_full #Si nomes hi ha un target"
      ],
      "metadata": {
        "id": "L6FEr_sVMWK5"
      },
      "execution_count": 19,
      "outputs": []
    },
    {
      "cell_type": "code",
      "execution_count": 20,
      "metadata": {
        "colab": {
          "base_uri": "https://localhost:8080/"
        },
        "id": "Zv7h8o10vYrZ",
        "outputId": "92816360-e79f-44cd-8e2f-ed827d4e8ef0"
      },
      "outputs": [
        {
          "output_type": "stream",
          "name": "stdout",
          "text": [
            "[2 4]\n"
          ]
        }
      ],
      "source": [
        "print(ydata[\"Class\"].unique()) #Mirar posibles valors del target"
      ]
    },
    {
      "cell_type": "code",
      "source": [
        "#Proporcio ydata, per saber el balanceig i afegir oversampling si cal\n",
        "proporcions = ydata[\"Class\"].value_counts(normalize=True) * 100\n",
        "print(proporcions.round(2))  # Mostrem amb 2 decimals"
      ],
      "metadata": {
        "colab": {
          "base_uri": "https://localhost:8080/"
        },
        "id": "_WGcp2GSVhbx",
        "outputId": "01af089e-f07d-41ce-ede9-e8c08cbb7f2a"
      },
      "execution_count": 22,
      "outputs": [
        {
          "output_type": "stream",
          "name": "stdout",
          "text": [
            "Class\n",
            "2    65.52\n",
            "4    34.48\n",
            "Name: proportion, dtype: float64\n"
          ]
        }
      ]
    },
    {
      "cell_type": "markdown",
      "source": [
        "Oversampling complet (codi per copiar i portar al Main Test)"
      ],
      "metadata": {
        "id": "tO1zaxm3s5nI"
      }
    },
    {
      "cell_type": "code",
      "source": [
        "from sklearn.utils import shuffle\n",
        "\n",
        "# Trobar mida de la classe majoritària\n",
        "max_count = y_train.value_counts().max()\n",
        "\n",
        "# Inicialitzar llistes per concatenar\n",
        "X_balanced = []\n",
        "y_balanced = []\n",
        "\n",
        "# Iterar per cada classe i aplicar oversampling si cal\n",
        "for cls in np.unique(y_train):\n",
        "    X_cls = X_train[y_train == cls]\n",
        "    y_cls = y_train[y_train == cls]\n",
        "\n",
        "    # Oversample només si cal (classe minoritària)\n",
        "    if len(X_cls) < max_count:\n",
        "        X_resampled = X_cls.sample(n=max_count, replace=True, random_state=42)\n",
        "        y_resampled = y_cls.sample(n=max_count, replace=True, random_state=42)\n",
        "    else:\n",
        "        X_resampled = X_cls\n",
        "        y_resampled = y_cls\n",
        "\n",
        "    X_balanced.append(X_resampled)\n",
        "    y_balanced.append(y_resampled)\n",
        "\n",
        "# Concatenar i barrejar\n",
        "X_oversampled = pd.concat(X_balanced, ignore_index=True)\n",
        "y_oversampled = pd.concat(y_balanced, ignore_index=True)\n",
        "X_oversampled, y_oversampled = shuffle(X_oversampled, y_oversampled, random_state=42)\n"
      ],
      "metadata": {
        "id": "U5Q0f4uMbR6W",
        "colab": {
          "base_uri": "https://localhost:8080/",
          "height": 326
        },
        "outputId": "65a503cd-814f-4ed5-fc98-b003f6b2e499"
      },
      "execution_count": null,
      "outputs": [
        {
          "output_type": "error",
          "ename": "AttributeError",
          "evalue": "'DataFrame' object has no attribute 'unique'",
          "traceback": [
            "\u001b[0;31m---------------------------------------------------------------------------\u001b[0m",
            "\u001b[0;31mAttributeError\u001b[0m                            Traceback (most recent call last)",
            "\u001b[0;32m<ipython-input-20-76be504cac38>\u001b[0m in \u001b[0;36m<cell line: 0>\u001b[0;34m()\u001b[0m\n\u001b[1;32m      9\u001b[0m \u001b[0;34m\u001b[0m\u001b[0m\n\u001b[1;32m     10\u001b[0m \u001b[0;31m# Iterar per cada classe i aplicar oversampling si cal\u001b[0m\u001b[0;34m\u001b[0m\u001b[0;34m\u001b[0m\u001b[0m\n\u001b[0;32m---> 11\u001b[0;31m \u001b[0;32mfor\u001b[0m \u001b[0mcls\u001b[0m \u001b[0;32min\u001b[0m \u001b[0my_train\u001b[0m\u001b[0;34m.\u001b[0m\u001b[0munique\u001b[0m\u001b[0;34m(\u001b[0m\u001b[0;34m)\u001b[0m\u001b[0;34m:\u001b[0m\u001b[0;34m\u001b[0m\u001b[0;34m\u001b[0m\u001b[0m\n\u001b[0m\u001b[1;32m     12\u001b[0m     \u001b[0mX_cls\u001b[0m \u001b[0;34m=\u001b[0m \u001b[0mX_train\u001b[0m\u001b[0;34m[\u001b[0m\u001b[0my_train\u001b[0m \u001b[0;34m==\u001b[0m \u001b[0mcls\u001b[0m\u001b[0;34m]\u001b[0m\u001b[0;34m\u001b[0m\u001b[0;34m\u001b[0m\u001b[0m\n\u001b[1;32m     13\u001b[0m     \u001b[0my_cls\u001b[0m \u001b[0;34m=\u001b[0m \u001b[0my_train\u001b[0m\u001b[0;34m[\u001b[0m\u001b[0my_train\u001b[0m \u001b[0;34m==\u001b[0m \u001b[0mcls\u001b[0m\u001b[0;34m]\u001b[0m\u001b[0;34m\u001b[0m\u001b[0;34m\u001b[0m\u001b[0m\n",
            "\u001b[0;32m/usr/local/lib/python3.11/dist-packages/pandas/core/generic.py\u001b[0m in \u001b[0;36m__getattr__\u001b[0;34m(self, name)\u001b[0m\n\u001b[1;32m   6297\u001b[0m         ):\n\u001b[1;32m   6298\u001b[0m             \u001b[0;32mreturn\u001b[0m \u001b[0mself\u001b[0m\u001b[0;34m[\u001b[0m\u001b[0mname\u001b[0m\u001b[0;34m]\u001b[0m\u001b[0;34m\u001b[0m\u001b[0;34m\u001b[0m\u001b[0m\n\u001b[0;32m-> 6299\u001b[0;31m         \u001b[0;32mreturn\u001b[0m \u001b[0mobject\u001b[0m\u001b[0;34m.\u001b[0m\u001b[0m__getattribute__\u001b[0m\u001b[0;34m(\u001b[0m\u001b[0mself\u001b[0m\u001b[0;34m,\u001b[0m \u001b[0mname\u001b[0m\u001b[0;34m)\u001b[0m\u001b[0;34m\u001b[0m\u001b[0;34m\u001b[0m\u001b[0m\n\u001b[0m\u001b[1;32m   6300\u001b[0m \u001b[0;34m\u001b[0m\u001b[0m\n\u001b[1;32m   6301\u001b[0m     \u001b[0;34m@\u001b[0m\u001b[0mfinal\u001b[0m\u001b[0;34m\u001b[0m\u001b[0;34m\u001b[0m\u001b[0m\n",
            "\u001b[0;31mAttributeError\u001b[0m: 'DataFrame' object has no attribute 'unique'"
          ]
        }
      ]
    },
    {
      "cell_type": "markdown",
      "source": [
        "Undersampling complet (codi per copiar i portar al Main Test)"
      ],
      "metadata": {
        "id": "p7OIFn0dSngG"
      }
    },
    {
      "cell_type": "code",
      "source": [
        "from sklearn.utils import shuffle\n",
        "\n",
        "# Encontrar el tamaño de la clase minoritaria (la más pequeña)\n",
        "min_count = y_train.value_counts().min()\n",
        "\n",
        "# Inicializamos listas para guardar subconjuntos\n",
        "X_balanced = []\n",
        "y_balanced = []\n",
        "\n",
        "# Iterar por cada clase y aplicar undersampling si cal\n",
        "for cls in np.unique(y_train):\n",
        "    X_cls = X_train[y_train == cls]\n",
        "    y_cls = y_train[y_train == cls]\n",
        "\n",
        "    # Subsample (recorte) a min_count\n",
        "    X_resampled = X_cls.sample(n=min_count, random_state=42)\n",
        "    y_resampled = y_cls.sample(n=min_count, random_state=42)\n",
        "\n",
        "    X_balanced.append(X_resampled)\n",
        "    y_balanced.append(y_resampled)\n",
        "\n",
        "# Concatenar y barajar\n",
        "X_undersampled = pd.concat(X_balanced, ignore_index=True)\n",
        "y_undersampled = pd.concat(y_balanced, ignore_index=True)\n",
        "X_undersampled, y_undersampled = shuffle(X_undersampled, y_undersampled, random_state=42)\n"
      ],
      "metadata": {
        "id": "FASOLnveSkft"
      },
      "execution_count": null,
      "outputs": []
    },
    {
      "cell_type": "markdown",
      "source": [
        "# MAIN TEST"
      ],
      "metadata": {
        "id": "1mOWKgQz2y-O"
      }
    },
    {
      "cell_type": "code",
      "execution_count": 23,
      "metadata": {
        "colab": {
          "base_uri": "https://localhost:8080/"
        },
        "id": "ZvPgsshQIazI",
        "outputId": "c3c4a69d-c83f-447f-b103-fe63ac4f38cc"
      },
      "outputs": [
        {
          "output_type": "stream",
          "name": "stderr",
          "text": [
            "<ipython-input-23-b0f0040d16be>:11: SettingWithCopyWarning: \n",
            "A value is trying to be set on a copy of a slice from a DataFrame\n",
            "\n",
            "See the caveats in the documentation: https://pandas.pydata.org/pandas-docs/stable/user_guide/indexing.html#returning-a-view-versus-a-copy\n",
            "  Xdata.replace(['?', -1, 'unknown', 'Unknown', ''], np.nan, inplace=True)\n"
          ]
        },
        {
          "output_type": "stream",
          "name": "stdout",
          "text": [
            "X_test shape: (140, 9)\n",
            "y_test shape: (140, 1)\n",
            "\n",
            " Predicció del model:\n",
            "Tipus: <class 'pandas.core.series.Series'>\n",
            "Forma: (140,)\n",
            "Primers valors: [4 2 2 2 4 4 2 2 2 2]\n",
            " Temps de predicció: 1.4799 s\n",
            "\n",
            " Mètriques de classificació:\n",
            "Accuracy: 0.9643\n",
            "Precision: 0.9552\n",
            "Recall: 0.9678\n",
            "F1 Score: 0.9609\n",
            "\n",
            "📌 Matriu de confusió:\n",
            "[[88  4]\n",
            " [ 1 47]]\n",
            "\n",
            " Informe de classificació:\n",
            "              precision    recall  f1-score   support\n",
            "\n",
            "           2       0.99      0.96      0.97        92\n",
            "           4       0.92      0.98      0.95        48\n",
            "\n",
            "    accuracy                           0.96       140\n",
            "   macro avg       0.96      0.97      0.96       140\n",
            "weighted avg       0.97      0.96      0.96       140\n",
            "\n"
          ]
        }
      ],
      "source": [
        "from sklearn.metrics import (\n",
        "    accuracy_score,\n",
        "    precision_score,\n",
        "    recall_score,\n",
        "    f1_score,\n",
        "    confusion_matrix,\n",
        "    classification_report\n",
        ")\n",
        "\n",
        "# Substitueix valors especials per NaN\n",
        "Xdata.replace(['?', -1, 'unknown', 'Unknown', ''], np.nan, inplace=True)\n",
        "\n",
        "# Divisió en train i test\n",
        "#Amb stratify mantenim prorporcio de la clase en test i train\n",
        "X_train, X_test, y_train, y_test = train_test_split(Xdata, ydata, test_size=0.2, random_state=42, stratify=ydata)\n",
        "print(\"X_test shape:\", X_test.shape)\n",
        "print(\"y_test shape:\", y_test.shape)\n",
        "# // ----- SAMPLING -----\n",
        "\n",
        "#Afegir aqui oversampling o undersampling\n",
        "\n",
        "# ----- SAMPLING -----\n",
        "\n",
        "# Entrenar el model amb el nou RandomForest adaptat\n",
        "rf_custom = RandomForest(n_trees=25, max_depth=5, max_features=2)\n",
        "rf_custom.fit(X_train, y_train)\n",
        "\n",
        "# Predir amb el Random Forest personalitzat\n",
        "start_time = time.time()\n",
        "y_pred_custom = rf_custom.predict(X_test)\n",
        "time_custom = time.time() - start_time\n",
        "\n",
        "# Validació de resultats\n",
        "print(\"\\n Predicció del model:\")\n",
        "print(f\"Tipus: {type(y_pred_custom)}\")\n",
        "print(f\"Forma: {y_pred_custom.shape}\")\n",
        "print(f\"Primers valors: {y_pred_custom[:10].values if isinstance(y_pred_custom, pd.Series) else y_pred_custom[:10]}\")\n",
        "print(f\" Temps de predicció: {time_custom:.4f} s\")\n",
        "\n",
        "# Avaluació amb múltiples mètriques\n",
        "print(\"\\n Mètriques de classificació:\")\n",
        "\n",
        "print(f\"Accuracy: {accuracy_score(y_test, y_pred_custom):.4f}\")\n",
        "print(f\"Precision: {precision_score(y_test, y_pred_custom, average='macro'):.4f}\")\n",
        "print(f\"Recall: {recall_score(y_test, y_pred_custom, average='macro'):.4f}\")\n",
        "print(f\"F1 Score: {f1_score(y_test, y_pred_custom, average='macro'):.4f}\")\n",
        "\n",
        "print(\"\\n Matriu de confusió:\")\n",
        "print(confusion_matrix(y_test, y_pred_custom))\n",
        "\n",
        "# Resum complet per classe\n",
        "print(\"\\n Informe de classificació:\")\n",
        "print(classification_report(y_test, y_pred_custom))\n"
      ]
    },
    {
      "cell_type": "markdown",
      "source": [
        "Visualitzacio d'un arbre d'entrenament"
      ],
      "metadata": {
        "id": "yU64zsPU3SeJ"
      }
    },
    {
      "cell_type": "code",
      "source": [
        "treeView = rf_custom.trees[11].tree\n",
        "graph = visualize_tree(treeView, X_train)\n",
        "\n",
        "# Guardem a drive\n",
        "folder_path = '/content/drive/MyDrive/TFG/Trees'\n",
        "# path\n",
        "filepath = os.path.join(folder_path, 'tree11')\n",
        "# Guarda PNG\n",
        "graph.render(filename=filepath, format='png', cleanup=True)\n",
        "\n",
        "graph"
      ],
      "metadata": {
        "colab": {
          "base_uri": "https://localhost:8080/",
          "height": 832
        },
        "id": "RLEUnIM8zxyo",
        "outputId": "2156e557-84e2-4f76-cdb7-1ba4706da072"
      },
      "execution_count": 26,
      "outputs": [
        {
          "output_type": "stream",
          "name": "stderr",
          "text": [
            "<ipython-input-7-f8d1809ce0f8>:16: DeprecationWarning: is_categorical_dtype is deprecated and will be removed in a future version. Use isinstance(dtype, pd.CategoricalDtype) instead\n",
            "  is_categorical = is_categorical_dtype(Xdata[col_name]) \\\n"
          ]
        },
        {
          "output_type": "execute_result",
          "data": {
            "image/svg+xml": "<?xml version=\"1.0\" encoding=\"UTF-8\" standalone=\"no\"?>\n<!DOCTYPE svg PUBLIC \"-//W3C//DTD SVG 1.1//EN\"\n \"http://www.w3.org/Graphics/SVG/1.1/DTD/svg11.dtd\">\n<!-- Generated by graphviz version 2.43.0 (0)\n -->\n<!-- Title: %3 Pages: 1 -->\n<svg width=\"1726pt\" height=\"568pt\"\n viewBox=\"0.00 0.00 1726.00 567.70\" xmlns=\"http://www.w3.org/2000/svg\" xmlns:xlink=\"http://www.w3.org/1999/xlink\">\n<g id=\"graph0\" class=\"graph\" transform=\"scale(1 1) rotate(0) translate(4 563.7)\">\n<title>%3</title>\n<polygon fill=\"white\" stroke=\"transparent\" points=\"-4,4 -4,-563.7 1722,-563.7 1722,4 -4,4\"/>\n<!-- 136245990736768 -->\n<g id=\"node1\" class=\"node\">\n<title>136245990736768</title>\n<ellipse fill=\"lightblue\" stroke=\"black\" cx=\"1107.5\" cy=\"-532.83\" rx=\"77.15\" ry=\"26.74\"/>\n<text text-anchor=\"middle\" x=\"1107.5\" y=\"-536.63\" font-family=\"Times,serif\" font-size=\"14.00\">Normal_nucleoli</text>\n<text text-anchor=\"middle\" x=\"1107.5\" y=\"-521.63\" font-family=\"Times,serif\" font-size=\"14.00\">Threshold: 2</text>\n</g>\n<!-- 136245990617152 -->\n<g id=\"node2\" class=\"node\">\n<title>136245990617152</title>\n<ellipse fill=\"lightblue\" stroke=\"black\" cx=\"833.5\" cy=\"-428.09\" rx=\"78.48\" ry=\"26.74\"/>\n<text text-anchor=\"middle\" x=\"833.5\" y=\"-431.89\" font-family=\"Times,serif\" font-size=\"14.00\">Clump_thickness</text>\n<text text-anchor=\"middle\" x=\"833.5\" y=\"-416.89\" font-family=\"Times,serif\" font-size=\"14.00\">Threshold: 8</text>\n</g>\n<!-- 136245990736768&#45;&gt;136245990617152 -->\n<g id=\"edge1\" class=\"edge\">\n<title>136245990736768&#45;&gt;136245990617152</title>\n<path fill=\"none\" stroke=\"black\" d=\"M1056.28,-512.63C1010.54,-495.47 943.45,-470.32 894.86,-452.1\"/>\n<polygon fill=\"black\" stroke=\"black\" points=\"895.99,-448.78 885.4,-448.55 893.53,-455.34 895.99,-448.78\"/>\n<text text-anchor=\"middle\" x=\"991.5\" y=\"-476.76\" font-family=\"Times,serif\" font-size=\"14.00\">≤</text>\n</g>\n<!-- 136245990688064 -->\n<g id=\"node21\" class=\"node\">\n<title>136245990688064</title>\n<ellipse fill=\"lightblue\" stroke=\"black\" cx=\"1107.5\" cy=\"-428.09\" rx=\"106.13\" ry=\"26.74\"/>\n<text text-anchor=\"middle\" x=\"1107.5\" y=\"-431.89\" font-family=\"Times,serif\" font-size=\"14.00\">Uniformity_of_cell_size</text>\n<text text-anchor=\"middle\" x=\"1107.5\" y=\"-416.89\" font-family=\"Times,serif\" font-size=\"14.00\">Threshold: 1</text>\n</g>\n<!-- 136245990736768&#45;&gt;136245990688064 -->\n<g id=\"edge20\" class=\"edge\">\n<title>136245990736768&#45;&gt;136245990688064</title>\n<path fill=\"none\" stroke=\"black\" d=\"M1107.5,-505.9C1107.5,-493.62 1107.5,-478.73 1107.5,-465.34\"/>\n<polygon fill=\"black\" stroke=\"black\" points=\"1111,-465.01 1107.5,-455.01 1104,-465.01 1111,-465.01\"/>\n<text text-anchor=\"middle\" x=\"1112\" y=\"-476.76\" font-family=\"Times,serif\" font-size=\"14.00\">&gt;</text>\n</g>\n<!-- 136245990685392 -->\n<g id=\"node46\" class=\"node\">\n<title>136245990685392</title>\n<polygon fill=\"lightgreen\" stroke=\"black\" points=\"1305,-446.09 1232,-446.09 1232,-410.09 1305,-410.09 1305,-446.09\"/>\n<text text-anchor=\"middle\" x=\"1268.5\" y=\"-424.39\" font-family=\"Times,serif\" font-size=\"14.00\">Leaf: 2.00</text>\n</g>\n<!-- 136245990736768&#45;&gt;136245990685392 -->\n<g id=\"edge45\" class=\"edge\">\n<title>136245990736768&#45;&gt;136245990685392</title>\n<path fill=\"none\" stroke=\"black\" d=\"M1143.63,-508.77C1170.29,-491.76 1206.38,-468.73 1232.91,-451.8\"/>\n<polygon fill=\"black\" stroke=\"black\" points=\"1234.96,-454.65 1241.51,-446.32 1231.19,-448.74 1234.96,-454.65\"/>\n<text text-anchor=\"middle\" x=\"1217\" y=\"-476.76\" font-family=\"Times,serif\" font-size=\"14.00\">NULL</text>\n</g>\n<!-- 136245990692416 -->\n<g id=\"node3\" class=\"node\">\n<title>136245990692416</title>\n<ellipse fill=\"lightblue\" stroke=\"black\" cx=\"599.5\" cy=\"-323.35\" rx=\"78.48\" ry=\"26.74\"/>\n<text text-anchor=\"middle\" x=\"599.5\" y=\"-327.15\" font-family=\"Times,serif\" font-size=\"14.00\">Bland_chromatin</text>\n<text text-anchor=\"middle\" x=\"599.5\" y=\"-312.15\" font-family=\"Times,serif\" font-size=\"14.00\">Threshold: 4</text>\n</g>\n<!-- 136245990617152&#45;&gt;136245990692416 -->\n<g id=\"edge2\" class=\"edge\">\n<title>136245990617152&#45;&gt;136245990692416</title>\n<path fill=\"none\" stroke=\"black\" d=\"M786.43,-406.42C748.74,-389.88 695.77,-366.62 655.84,-349.09\"/>\n<polygon fill=\"black\" stroke=\"black\" points=\"657.06,-345.8 646.5,-344.98 654.25,-352.21 657.06,-345.8\"/>\n<text text-anchor=\"middle\" x=\"735.5\" y=\"-372.02\" font-family=\"Times,serif\" font-size=\"14.00\">≤</text>\n</g>\n<!-- 136245990354128 -->\n<g id=\"node19\" class=\"node\">\n<title>136245990354128</title>\n<polygon fill=\"lightgreen\" stroke=\"black\" points=\"824,-341.35 751,-341.35 751,-305.35 824,-305.35 824,-341.35\"/>\n<text text-anchor=\"middle\" x=\"787.5\" y=\"-319.65\" font-family=\"Times,serif\" font-size=\"14.00\">Leaf: 4.00</text>\n</g>\n<!-- 136245990617152&#45;&gt;136245990354128 -->\n<g id=\"edge18\" class=\"edge\">\n<title>136245990617152&#45;&gt;136245990354128</title>\n<path fill=\"none\" stroke=\"black\" d=\"M822.01,-401.43C815.16,-386.12 806.46,-366.71 799.52,-351.19\"/>\n<polygon fill=\"black\" stroke=\"black\" points=\"802.52,-349.34 795.24,-341.64 796.13,-352.2 802.52,-349.34\"/>\n<text text-anchor=\"middle\" x=\"818\" y=\"-372.02\" font-family=\"Times,serif\" font-size=\"14.00\">&gt;</text>\n</g>\n<!-- 136246003534288 -->\n<g id=\"node20\" class=\"node\">\n<title>136246003534288</title>\n<polygon fill=\"lightgreen\" stroke=\"black\" points=\"915,-341.35 842,-341.35 842,-305.35 915,-305.35 915,-341.35\"/>\n<text text-anchor=\"middle\" x=\"878.5\" y=\"-319.65\" font-family=\"Times,serif\" font-size=\"14.00\">Leaf: 2.00</text>\n</g>\n<!-- 136245990617152&#45;&gt;136246003534288 -->\n<g id=\"edge19\" class=\"edge\">\n<title>136245990617152&#45;&gt;136246003534288</title>\n<path fill=\"none\" stroke=\"black\" d=\"M844.74,-401.43C851.44,-386.12 859.95,-366.71 866.74,-351.19\"/>\n<polygon fill=\"black\" stroke=\"black\" points=\"870.12,-352.21 870.93,-341.64 863.71,-349.4 870.12,-352.21\"/>\n<text text-anchor=\"middle\" x=\"878\" y=\"-372.02\" font-family=\"Times,serif\" font-size=\"14.00\">NULL</text>\n</g>\n<!-- 136245990690048 -->\n<g id=\"node4\" class=\"node\">\n<title>136245990690048</title>\n<ellipse fill=\"lightblue\" stroke=\"black\" cx=\"287.5\" cy=\"-218.61\" rx=\"72.66\" ry=\"26.74\"/>\n<text text-anchor=\"middle\" x=\"287.5\" y=\"-222.41\" font-family=\"Times,serif\" font-size=\"14.00\">Bare_nuclei</text>\n<text text-anchor=\"middle\" x=\"287.5\" y=\"-207.41\" font-family=\"Times,serif\" font-size=\"14.00\">Threshold: 5.00</text>\n</g>\n<!-- 136245990692416&#45;&gt;136245990690048 -->\n<g id=\"edge3\" class=\"edge\">\n<title>136245990692416&#45;&gt;136245990690048</title>\n<path fill=\"none\" stroke=\"black\" d=\"M544.08,-304.1C489.7,-286.19 406.9,-258.93 350.16,-240.24\"/>\n<polygon fill=\"black\" stroke=\"black\" points=\"351.18,-236.89 340.58,-237.09 348.99,-243.54 351.18,-236.89\"/>\n<text text-anchor=\"middle\" x=\"466.5\" y=\"-267.28\" font-family=\"Times,serif\" font-size=\"14.00\">≤</text>\n</g>\n<!-- 136245990613440 -->\n<g id=\"node11\" class=\"node\">\n<title>136245990613440</title>\n<ellipse fill=\"lightblue\" stroke=\"black\" cx=\"592.5\" cy=\"-218.61\" rx=\"113.27\" ry=\"26.74\"/>\n<text text-anchor=\"middle\" x=\"592.5\" y=\"-222.41\" font-family=\"Times,serif\" font-size=\"14.00\">Uniformity_of_cell_shape</text>\n<text text-anchor=\"middle\" x=\"592.5\" y=\"-207.41\" font-family=\"Times,serif\" font-size=\"14.00\">Threshold: 1</text>\n</g>\n<!-- 136245990692416&#45;&gt;136245990613440 -->\n<g id=\"edge10\" class=\"edge\">\n<title>136245990692416&#45;&gt;136245990613440</title>\n<path fill=\"none\" stroke=\"black\" d=\"M597.73,-296.42C596.9,-284.14 595.88,-269.25 594.97,-255.86\"/>\n<polygon fill=\"black\" stroke=\"black\" points=\"598.44,-255.27 594.27,-245.53 591.45,-255.74 598.44,-255.27\"/>\n<text text-anchor=\"middle\" x=\"601\" y=\"-267.28\" font-family=\"Times,serif\" font-size=\"14.00\">&gt;</text>\n</g>\n<!-- 136245990603280 -->\n<g id=\"node18\" class=\"node\">\n<title>136245990603280</title>\n<polygon fill=\"lightgreen\" stroke=\"black\" points=\"797,-236.61 724,-236.61 724,-200.61 797,-200.61 797,-236.61\"/>\n<text text-anchor=\"middle\" x=\"760.5\" y=\"-214.91\" font-family=\"Times,serif\" font-size=\"14.00\">Leaf: 2.00</text>\n</g>\n<!-- 136245990692416&#45;&gt;136245990603280 -->\n<g id=\"edge17\" class=\"edge\">\n<title>136245990692416&#45;&gt;136245990603280</title>\n<path fill=\"none\" stroke=\"black\" d=\"M635.63,-299.29C662.29,-282.28 698.38,-259.25 724.91,-242.32\"/>\n<polygon fill=\"black\" stroke=\"black\" points=\"726.96,-245.17 733.51,-236.84 723.19,-239.26 726.96,-245.17\"/>\n<text text-anchor=\"middle\" x=\"709\" y=\"-267.28\" font-family=\"Times,serif\" font-size=\"14.00\">NULL</text>\n</g>\n<!-- 136245990691648 -->\n<g id=\"node5\" class=\"node\">\n<title>136245990691648</title>\n<ellipse fill=\"lightblue\" stroke=\"black\" cx=\"127.5\" cy=\"-113.87\" rx=\"60.62\" ry=\"26.74\"/>\n<text text-anchor=\"middle\" x=\"127.5\" y=\"-117.67\" font-family=\"Times,serif\" font-size=\"14.00\">Mitoses</text>\n<text text-anchor=\"middle\" x=\"127.5\" y=\"-102.67\" font-family=\"Times,serif\" font-size=\"14.00\">Threshold: 5</text>\n</g>\n<!-- 136245990690048&#45;&gt;136245990691648 -->\n<g id=\"edge4\" class=\"edge\">\n<title>136245990690048&#45;&gt;136245990691648</title>\n<path fill=\"none\" stroke=\"black\" d=\"M252.39,-195.06C228.01,-179.41 195.4,-158.47 169.62,-141.92\"/>\n<polygon fill=\"black\" stroke=\"black\" points=\"171.47,-138.94 161.16,-136.48 167.68,-144.83 171.47,-138.94\"/>\n<text text-anchor=\"middle\" x=\"221.5\" y=\"-162.54\" font-family=\"Times,serif\" font-size=\"14.00\">≤</text>\n</g>\n<!-- 136245990431120 -->\n<g id=\"node9\" class=\"node\">\n<title>136245990431120</title>\n<polygon fill=\"lightgreen\" stroke=\"black\" points=\"279,-131.87 206,-131.87 206,-95.87 279,-95.87 279,-131.87\"/>\n<text text-anchor=\"middle\" x=\"242.5\" y=\"-110.17\" font-family=\"Times,serif\" font-size=\"14.00\">Leaf: 4.00</text>\n</g>\n<!-- 136245990690048&#45;&gt;136245990431120 -->\n<g id=\"edge8\" class=\"edge\">\n<title>136245990690048&#45;&gt;136245990431120</title>\n<path fill=\"none\" stroke=\"black\" d=\"M276.26,-191.95C269.56,-176.64 261.05,-157.23 254.26,-141.71\"/>\n<polygon fill=\"black\" stroke=\"black\" points=\"257.29,-139.92 250.07,-132.16 250.88,-142.73 257.29,-139.92\"/>\n<text text-anchor=\"middle\" x=\"273\" y=\"-162.54\" font-family=\"Times,serif\" font-size=\"14.00\">&gt;</text>\n</g>\n<!-- 136245990606288 -->\n<g id=\"node10\" class=\"node\">\n<title>136245990606288</title>\n<polygon fill=\"lightgreen\" stroke=\"black\" points=\"370,-131.87 297,-131.87 297,-95.87 370,-95.87 370,-131.87\"/>\n<text text-anchor=\"middle\" x=\"333.5\" y=\"-110.17\" font-family=\"Times,serif\" font-size=\"14.00\">Leaf: 2.00</text>\n</g>\n<!-- 136245990690048&#45;&gt;136245990606288 -->\n<g id=\"edge9\" class=\"edge\">\n<title>136245990690048&#45;&gt;136245990606288</title>\n<path fill=\"none\" stroke=\"black\" d=\"M298.99,-191.95C305.84,-176.64 314.54,-157.23 321.48,-141.71\"/>\n<polygon fill=\"black\" stroke=\"black\" points=\"324.87,-142.72 325.76,-132.16 318.48,-139.86 324.87,-142.72\"/>\n<text text-anchor=\"middle\" x=\"332\" y=\"-162.54\" font-family=\"Times,serif\" font-size=\"14.00\">NULL</text>\n</g>\n<!-- 136245990690640 -->\n<g id=\"node6\" class=\"node\">\n<title>136245990690640</title>\n<polygon fill=\"lightgreen\" stroke=\"black\" points=\"73,-36 0,-36 0,0 73,0 73,-36\"/>\n<text text-anchor=\"middle\" x=\"36.5\" y=\"-14.3\" font-family=\"Times,serif\" font-size=\"14.00\">Leaf: 2.00</text>\n</g>\n<!-- 136245990691648&#45;&gt;136245990690640 -->\n<g id=\"edge5\" class=\"edge\">\n<title>136245990691648&#45;&gt;136245990690640</title>\n<path fill=\"none\" stroke=\"black\" d=\"M104.07,-88.7C90.65,-74.85 73.85,-57.53 60.36,-43.61\"/>\n<polygon fill=\"black\" stroke=\"black\" points=\"62.72,-41.02 53.25,-36.28 57.7,-45.89 62.72,-41.02\"/>\n<text text-anchor=\"middle\" x=\"89.5\" y=\"-57.8\" font-family=\"Times,serif\" font-size=\"14.00\">≤</text>\n</g>\n<!-- 136245990689872 -->\n<g id=\"node7\" class=\"node\">\n<title>136245990689872</title>\n<polygon fill=\"lightgreen\" stroke=\"black\" points=\"164,-36 91,-36 91,0 164,0 164,-36\"/>\n<text text-anchor=\"middle\" x=\"127.5\" y=\"-14.3\" font-family=\"Times,serif\" font-size=\"14.00\">Leaf: 2.00</text>\n</g>\n<!-- 136245990691648&#45;&gt;136245990689872 -->\n<g id=\"edge6\" class=\"edge\">\n<title>136245990691648&#45;&gt;136245990689872</title>\n<path fill=\"none\" stroke=\"black\" d=\"M127.5,-86.97C127.5,-74.34 127.5,-59.14 127.5,-46.32\"/>\n<polygon fill=\"black\" stroke=\"black\" points=\"131,-46.22 127.5,-36.22 124,-46.22 131,-46.22\"/>\n<text text-anchor=\"middle\" x=\"132\" y=\"-57.8\" font-family=\"Times,serif\" font-size=\"14.00\">&gt;</text>\n</g>\n<!-- 136245990496848 -->\n<g id=\"node8\" class=\"node\">\n<title>136245990496848</title>\n<polygon fill=\"lightgreen\" stroke=\"black\" points=\"255,-36 182,-36 182,0 255,0 255,-36\"/>\n<text text-anchor=\"middle\" x=\"218.5\" y=\"-14.3\" font-family=\"Times,serif\" font-size=\"14.00\">Leaf: 2.00</text>\n</g>\n<!-- 136245990691648&#45;&gt;136245990496848 -->\n<g id=\"edge7\" class=\"edge\">\n<title>136245990691648&#45;&gt;136245990496848</title>\n<path fill=\"none\" stroke=\"black\" d=\"M150.93,-88.7C164.35,-74.85 181.15,-57.53 194.64,-43.61\"/>\n<polygon fill=\"black\" stroke=\"black\" points=\"197.3,-45.89 201.75,-36.28 192.28,-41.02 197.3,-45.89\"/>\n<text text-anchor=\"middle\" x=\"203\" y=\"-57.8\" font-family=\"Times,serif\" font-size=\"14.00\">NULL</text>\n</g>\n<!-- 136245990682448 -->\n<g id=\"node12\" class=\"node\">\n<title>136245990682448</title>\n<polygon fill=\"lightgreen\" stroke=\"black\" points=\"461,-131.87 388,-131.87 388,-95.87 461,-95.87 461,-131.87\"/>\n<text text-anchor=\"middle\" x=\"424.5\" y=\"-110.17\" font-family=\"Times,serif\" font-size=\"14.00\">Leaf: 2.00</text>\n</g>\n<!-- 136245990613440&#45;&gt;136245990682448 -->\n<g id=\"edge11\" class=\"edge\">\n<title>136245990613440&#45;&gt;136245990682448</title>\n<path fill=\"none\" stroke=\"black\" d=\"M552.69,-193.26C524.96,-176.31 488.27,-153.87 461.24,-137.34\"/>\n<polygon fill=\"black\" stroke=\"black\" points=\"462.83,-134.21 452.47,-131.98 459.18,-140.18 462.83,-134.21\"/>\n<text text-anchor=\"middle\" x=\"523.5\" y=\"-162.54\" font-family=\"Times,serif\" font-size=\"14.00\">≤</text>\n</g>\n<!-- 136245990446144 -->\n<g id=\"node13\" class=\"node\">\n<title>136245990446144</title>\n<ellipse fill=\"lightblue\" stroke=\"black\" cx=\"592.5\" cy=\"-113.87\" rx=\"113.27\" ry=\"26.74\"/>\n<text text-anchor=\"middle\" x=\"592.5\" y=\"-117.67\" font-family=\"Times,serif\" font-size=\"14.00\">Uniformity_of_cell_shape</text>\n<text text-anchor=\"middle\" x=\"592.5\" y=\"-102.67\" font-family=\"Times,serif\" font-size=\"14.00\">Threshold: 3</text>\n</g>\n<!-- 136245990613440&#45;&gt;136245990446144 -->\n<g id=\"edge12\" class=\"edge\">\n<title>136245990613440&#45;&gt;136245990446144</title>\n<path fill=\"none\" stroke=\"black\" d=\"M592.5,-191.68C592.5,-179.4 592.5,-164.51 592.5,-151.12\"/>\n<polygon fill=\"black\" stroke=\"black\" points=\"596,-150.79 592.5,-140.79 589,-150.79 596,-150.79\"/>\n<text text-anchor=\"middle\" x=\"597\" y=\"-162.54\" font-family=\"Times,serif\" font-size=\"14.00\">&gt;</text>\n</g>\n<!-- 136245990427408 -->\n<g id=\"node17\" class=\"node\">\n<title>136245990427408</title>\n<polygon fill=\"lightgreen\" stroke=\"black\" points=\"797,-131.87 724,-131.87 724,-95.87 797,-95.87 797,-131.87\"/>\n<text text-anchor=\"middle\" x=\"760.5\" y=\"-110.17\" font-family=\"Times,serif\" font-size=\"14.00\">Leaf: 4.00</text>\n</g>\n<!-- 136245990613440&#45;&gt;136245990427408 -->\n<g id=\"edge16\" class=\"edge\">\n<title>136245990613440&#45;&gt;136245990427408</title>\n<path fill=\"none\" stroke=\"black\" d=\"M632.31,-193.26C660.04,-176.31 696.73,-153.87 723.76,-137.34\"/>\n<polygon fill=\"black\" stroke=\"black\" points=\"725.82,-140.18 732.53,-131.98 722.17,-134.21 725.82,-140.18\"/>\n<text text-anchor=\"middle\" x=\"706\" y=\"-162.54\" font-family=\"Times,serif\" font-size=\"14.00\">NULL</text>\n</g>\n<!-- 136245990437008 -->\n<g id=\"node14\" class=\"node\">\n<title>136245990437008</title>\n<polygon fill=\"lightgreen\" stroke=\"black\" points=\"538,-36 465,-36 465,0 538,0 538,-36\"/>\n<text text-anchor=\"middle\" x=\"501.5\" y=\"-14.3\" font-family=\"Times,serif\" font-size=\"14.00\">Leaf: 4.00</text>\n</g>\n<!-- 136245990446144&#45;&gt;136245990437008 -->\n<g id=\"edge13\" class=\"edge\">\n<title>136245990446144&#45;&gt;136245990437008</title>\n<path fill=\"none\" stroke=\"black\" d=\"M567.63,-87.22C554.44,-73.61 538.3,-56.96 525.27,-43.52\"/>\n<polygon fill=\"black\" stroke=\"black\" points=\"527.48,-40.77 518.01,-36.03 522.45,-45.64 527.48,-40.77\"/>\n<text text-anchor=\"middle\" x=\"554.5\" y=\"-57.8\" font-family=\"Times,serif\" font-size=\"14.00\">≤</text>\n</g>\n<!-- 136245990701776 -->\n<g id=\"node15\" class=\"node\">\n<title>136245990701776</title>\n<polygon fill=\"lightgreen\" stroke=\"black\" points=\"629,-36 556,-36 556,0 629,0 629,-36\"/>\n<text text-anchor=\"middle\" x=\"592.5\" y=\"-14.3\" font-family=\"Times,serif\" font-size=\"14.00\">Leaf: 4.00</text>\n</g>\n<!-- 136245990446144&#45;&gt;136245990701776 -->\n<g id=\"edge14\" class=\"edge\">\n<title>136245990446144&#45;&gt;136245990701776</title>\n<path fill=\"none\" stroke=\"black\" d=\"M592.5,-86.97C592.5,-74.34 592.5,-59.14 592.5,-46.32\"/>\n<polygon fill=\"black\" stroke=\"black\" points=\"596,-46.22 592.5,-36.22 589,-46.22 596,-46.22\"/>\n<text text-anchor=\"middle\" x=\"597\" y=\"-57.8\" font-family=\"Times,serif\" font-size=\"14.00\">&gt;</text>\n</g>\n<!-- 136245990697104 -->\n<g id=\"node16\" class=\"node\">\n<title>136245990697104</title>\n<polygon fill=\"lightgreen\" stroke=\"black\" points=\"720,-36 647,-36 647,0 720,0 720,-36\"/>\n<text text-anchor=\"middle\" x=\"683.5\" y=\"-14.3\" font-family=\"Times,serif\" font-size=\"14.00\">Leaf: 4.00</text>\n</g>\n<!-- 136245990446144&#45;&gt;136245990697104 -->\n<g id=\"edge15\" class=\"edge\">\n<title>136245990446144&#45;&gt;136245990697104</title>\n<path fill=\"none\" stroke=\"black\" d=\"M617.37,-87.22C630.56,-73.61 646.7,-56.96 659.73,-43.52\"/>\n<polygon fill=\"black\" stroke=\"black\" points=\"662.55,-45.64 666.99,-36.03 657.52,-40.77 662.55,-45.64\"/>\n<text text-anchor=\"middle\" x=\"668\" y=\"-57.8\" font-family=\"Times,serif\" font-size=\"14.00\">NULL</text>\n</g>\n<!-- 136245990612288 -->\n<g id=\"node22\" class=\"node\">\n<title>136245990612288</title>\n<ellipse fill=\"lightblue\" stroke=\"black\" cx=\"1038.5\" cy=\"-323.35\" rx=\"78.48\" ry=\"26.74\"/>\n<text text-anchor=\"middle\" x=\"1038.5\" y=\"-327.15\" font-family=\"Times,serif\" font-size=\"14.00\">Clump_thickness</text>\n<text text-anchor=\"middle\" x=\"1038.5\" y=\"-312.15\" font-family=\"Times,serif\" font-size=\"14.00\">Threshold: 5</text>\n</g>\n<!-- 136245990688064&#45;&gt;136245990612288 -->\n<g id=\"edge21\" class=\"edge\">\n<title>136245990688064&#45;&gt;136245990612288</title>\n<path fill=\"none\" stroke=\"black\" d=\"M1090.27,-401.43C1081.47,-388.34 1070.66,-372.24 1061.2,-358.15\"/>\n<polygon fill=\"black\" stroke=\"black\" points=\"1063.99,-356.03 1055.51,-349.68 1058.18,-359.94 1063.99,-356.03\"/>\n<text text-anchor=\"middle\" x=\"1081.5\" y=\"-372.02\" font-family=\"Times,serif\" font-size=\"14.00\">≤</text>\n</g>\n<!-- 136245990736448 -->\n<g id=\"node26\" class=\"node\">\n<title>136245990736448</title>\n<ellipse fill=\"lightblue\" stroke=\"black\" cx=\"1227.5\" cy=\"-323.35\" rx=\"78.48\" ry=\"26.74\"/>\n<text text-anchor=\"middle\" x=\"1227.5\" y=\"-327.15\" font-family=\"Times,serif\" font-size=\"14.00\">Bland_chromatin</text>\n<text text-anchor=\"middle\" x=\"1227.5\" y=\"-312.15\" font-family=\"Times,serif\" font-size=\"14.00\">Threshold: 4</text>\n</g>\n<!-- 136245990688064&#45;&gt;136245990736448 -->\n<g id=\"edge25\" class=\"edge\">\n<title>136245990688064&#45;&gt;136245990736448</title>\n<path fill=\"none\" stroke=\"black\" d=\"M1136.55,-402.22C1153.03,-388.11 1173.8,-370.32 1191.33,-355.32\"/>\n<polygon fill=\"black\" stroke=\"black\" points=\"1193.81,-357.8 1199.13,-348.64 1189.26,-352.48 1193.81,-357.8\"/>\n<text text-anchor=\"middle\" x=\"1180\" y=\"-372.02\" font-family=\"Times,serif\" font-size=\"14.00\">&gt;</text>\n</g>\n<!-- 136245990682320 -->\n<g id=\"node45\" class=\"node\">\n<title>136245990682320</title>\n<polygon fill=\"lightgreen\" stroke=\"black\" points=\"1397,-341.35 1324,-341.35 1324,-305.35 1397,-305.35 1397,-341.35\"/>\n<text text-anchor=\"middle\" x=\"1360.5\" y=\"-319.65\" font-family=\"Times,serif\" font-size=\"14.00\">Leaf: 4.00</text>\n</g>\n<!-- 136245990688064&#45;&gt;136245990682320 -->\n<g id=\"edge44\" class=\"edge\">\n<title>136245990688064&#45;&gt;136245990682320</title>\n<path fill=\"none\" stroke=\"black\" d=\"M1171.05,-406.39C1212.55,-392.17 1267.54,-371.98 1314.5,-350.22 1317.15,-348.99 1319.85,-347.67 1322.55,-346.29\"/>\n<polygon fill=\"black\" stroke=\"black\" points=\"1324.46,-349.25 1331.66,-341.48 1321.18,-343.06 1324.46,-349.25\"/>\n<text text-anchor=\"middle\" x=\"1289\" y=\"-372.02\" font-family=\"Times,serif\" font-size=\"14.00\">NULL</text>\n</g>\n<!-- 136245990696976 -->\n<g id=\"node23\" class=\"node\">\n<title>136245990696976</title>\n<polygon fill=\"lightgreen\" stroke=\"black\" points=\"941,-236.61 868,-236.61 868,-200.61 941,-200.61 941,-236.61\"/>\n<text text-anchor=\"middle\" x=\"904.5\" y=\"-214.91\" font-family=\"Times,serif\" font-size=\"14.00\">Leaf: 2.00</text>\n</g>\n<!-- 136245990612288&#45;&gt;136245990696976 -->\n<g id=\"edge22\" class=\"edge\">\n<title>136245990612288&#45;&gt;136245990696976</title>\n<path fill=\"none\" stroke=\"black\" d=\"M1007.42,-298.52C985.72,-281.88 956.87,-259.76 935.24,-243.18\"/>\n<polygon fill=\"black\" stroke=\"black\" points=\"937.11,-240.2 927.04,-236.89 932.85,-245.76 937.11,-240.2\"/>\n<text text-anchor=\"middle\" x=\"984.5\" y=\"-267.28\" font-family=\"Times,serif\" font-size=\"14.00\">≤</text>\n</g>\n<!-- 136245990691408 -->\n<g id=\"node24\" class=\"node\">\n<title>136245990691408</title>\n<polygon fill=\"lightgreen\" stroke=\"black\" points=\"1032,-236.61 959,-236.61 959,-200.61 1032,-200.61 1032,-236.61\"/>\n<text text-anchor=\"middle\" x=\"995.5\" y=\"-214.91\" font-family=\"Times,serif\" font-size=\"14.00\">Leaf: 4.00</text>\n</g>\n<!-- 136245990612288&#45;&gt;136245990691408 -->\n<g id=\"edge23\" class=\"edge\">\n<title>136245990612288&#45;&gt;136245990691408</title>\n<path fill=\"none\" stroke=\"black\" d=\"M1027.76,-296.69C1021.35,-281.38 1013.23,-261.97 1006.73,-246.45\"/>\n<polygon fill=\"black\" stroke=\"black\" points=\"1009.83,-244.78 1002.74,-236.9 1003.37,-247.48 1009.83,-244.78\"/>\n<text text-anchor=\"middle\" x=\"1025\" y=\"-267.28\" font-family=\"Times,serif\" font-size=\"14.00\">&gt;</text>\n</g>\n<!-- 136245990444880 -->\n<g id=\"node25\" class=\"node\">\n<title>136245990444880</title>\n<polygon fill=\"lightgreen\" stroke=\"black\" points=\"1123,-236.61 1050,-236.61 1050,-200.61 1123,-200.61 1123,-236.61\"/>\n<text text-anchor=\"middle\" x=\"1086.5\" y=\"-214.91\" font-family=\"Times,serif\" font-size=\"14.00\">Leaf: 2.00</text>\n</g>\n<!-- 136245990612288&#45;&gt;136245990444880 -->\n<g id=\"edge24\" class=\"edge\">\n<title>136245990612288&#45;&gt;136245990444880</title>\n<path fill=\"none\" stroke=\"black\" d=\"M1050.49,-296.69C1057.71,-281.23 1066.88,-261.6 1074.17,-246.01\"/>\n<polygon fill=\"black\" stroke=\"black\" points=\"1077.36,-247.44 1078.42,-236.9 1071.02,-244.48 1077.36,-247.44\"/>\n<text text-anchor=\"middle\" x=\"1084\" y=\"-267.28\" font-family=\"Times,serif\" font-size=\"14.00\">NULL</text>\n</g>\n<!-- 136245990688512 -->\n<g id=\"node27\" class=\"node\">\n<title>136245990688512</title>\n<ellipse fill=\"lightblue\" stroke=\"black\" cx=\"1227.5\" cy=\"-218.61\" rx=\"86.03\" ry=\"26.74\"/>\n<text text-anchor=\"middle\" x=\"1227.5\" y=\"-222.41\" font-family=\"Times,serif\" font-size=\"14.00\">Marginal_adhesion</text>\n<text text-anchor=\"middle\" x=\"1227.5\" y=\"-207.41\" font-family=\"Times,serif\" font-size=\"14.00\">Threshold: 1</text>\n</g>\n<!-- 136245990736448&#45;&gt;136245990688512 -->\n<g id=\"edge26\" class=\"edge\">\n<title>136245990736448&#45;&gt;136245990688512</title>\n<path fill=\"none\" stroke=\"black\" d=\"M1227.5,-296.42C1227.5,-284.14 1227.5,-269.25 1227.5,-255.86\"/>\n<polygon fill=\"black\" stroke=\"black\" points=\"1231,-255.53 1227.5,-245.53 1224,-255.53 1231,-255.53\"/>\n<text text-anchor=\"middle\" x=\"1231.5\" y=\"-267.28\" font-family=\"Times,serif\" font-size=\"14.00\">≤</text>\n</g>\n<!-- 136245990741824 -->\n<g id=\"node37\" class=\"node\">\n<title>136245990741824</title>\n<ellipse fill=\"lightblue\" stroke=\"black\" cx=\"1417.5\" cy=\"-218.61\" rx=\"78.48\" ry=\"26.74\"/>\n<text text-anchor=\"middle\" x=\"1417.5\" y=\"-222.41\" font-family=\"Times,serif\" font-size=\"14.00\">Clump_thickness</text>\n<text text-anchor=\"middle\" x=\"1417.5\" y=\"-207.41\" font-family=\"Times,serif\" font-size=\"14.00\">Threshold: 7</text>\n</g>\n<!-- 136245990736448&#45;&gt;136245990741824 -->\n<g id=\"edge36\" class=\"edge\">\n<title>136245990736448&#45;&gt;136245990741824</title>\n<path fill=\"none\" stroke=\"black\" d=\"M1268.26,-300.31C1297.44,-284.53 1336.88,-263.2 1367.89,-246.44\"/>\n<polygon fill=\"black\" stroke=\"black\" points=\"1369.68,-249.45 1376.81,-241.61 1366.35,-243.29 1369.68,-249.45\"/>\n<text text-anchor=\"middle\" x=\"1339\" y=\"-267.28\" font-family=\"Times,serif\" font-size=\"14.00\">&gt;</text>\n</g>\n<!-- 136246003285008 -->\n<g id=\"node44\" class=\"node\">\n<title>136246003285008</title>\n<polygon fill=\"lightgreen\" stroke=\"black\" points=\"1587,-236.61 1514,-236.61 1514,-200.61 1587,-200.61 1587,-236.61\"/>\n<text text-anchor=\"middle\" x=\"1550.5\" y=\"-214.91\" font-family=\"Times,serif\" font-size=\"14.00\">Leaf: 4.00</text>\n</g>\n<!-- 136245990736448&#45;&gt;136246003285008 -->\n<g id=\"edge43\" class=\"edge\">\n<title>136245990736448&#45;&gt;136246003285008</title>\n<path fill=\"none\" stroke=\"black\" d=\"M1285,-305.02C1294.83,-302.12 1304.95,-299.18 1314.5,-296.48 1398.63,-272.68 1423.54,-278.5 1504.5,-245.48 1507.55,-244.23 1510.66,-242.83 1513.74,-241.33\"/>\n<polygon fill=\"black\" stroke=\"black\" points=\"1515.56,-244.33 1522.84,-236.63 1512.35,-238.11 1515.56,-244.33\"/>\n<text text-anchor=\"middle\" x=\"1472\" y=\"-267.28\" font-family=\"Times,serif\" font-size=\"14.00\">NULL</text>\n</g>\n<!-- 136245990742912 -->\n<g id=\"node28\" class=\"node\">\n<title>136245990742912</title>\n<ellipse fill=\"lightblue\" stroke=\"black\" cx=\"928.5\" cy=\"-113.87\" rx=\"113.27\" ry=\"26.74\"/>\n<text text-anchor=\"middle\" x=\"928.5\" y=\"-117.67\" font-family=\"Times,serif\" font-size=\"14.00\">Uniformity_of_cell_shape</text>\n<text text-anchor=\"middle\" x=\"928.5\" y=\"-102.67\" font-family=\"Times,serif\" font-size=\"14.00\">Threshold: 2</text>\n</g>\n<!-- 136245990688512&#45;&gt;136245990742912 -->\n<g id=\"edge27\" class=\"edge\">\n<title>136245990688512&#45;&gt;136245990742912</title>\n<path fill=\"none\" stroke=\"black\" d=\"M1170.91,-198.16C1122.62,-181.57 1052.89,-157.61 1000.61,-139.65\"/>\n<polygon fill=\"black\" stroke=\"black\" points=\"1001.65,-136.31 991.06,-136.37 999.38,-142.93 1001.65,-136.31\"/>\n<text text-anchor=\"middle\" x=\"1100.5\" y=\"-162.54\" font-family=\"Times,serif\" font-size=\"14.00\">≤</text>\n</g>\n<!-- 136245990304576 -->\n<g id=\"node32\" class=\"node\">\n<title>136245990304576</title>\n<ellipse fill=\"lightblue\" stroke=\"black\" cx=\"1165.5\" cy=\"-113.87\" rx=\"106.13\" ry=\"26.74\"/>\n<text text-anchor=\"middle\" x=\"1165.5\" y=\"-117.67\" font-family=\"Times,serif\" font-size=\"14.00\">Uniformity_of_cell_size</text>\n<text text-anchor=\"middle\" x=\"1165.5\" y=\"-102.67\" font-family=\"Times,serif\" font-size=\"14.00\">Threshold: 4</text>\n</g>\n<!-- 136245990688512&#45;&gt;136245990304576 -->\n<g id=\"edge31\" class=\"edge\">\n<title>136245990688512&#45;&gt;136245990304576</title>\n<path fill=\"none\" stroke=\"black\" d=\"M1212.01,-191.95C1204.25,-179.08 1194.73,-163.31 1186.33,-149.39\"/>\n<polygon fill=\"black\" stroke=\"black\" points=\"1189.17,-147.31 1181,-140.56 1183.17,-150.93 1189.17,-147.31\"/>\n<text text-anchor=\"middle\" x=\"1205\" y=\"-162.54\" font-family=\"Times,serif\" font-size=\"14.00\">&gt;</text>\n</g>\n<!-- 136245992302160 -->\n<g id=\"node36\" class=\"node\">\n<title>136245992302160</title>\n<polygon fill=\"lightgreen\" stroke=\"black\" points=\"1363,-131.87 1290,-131.87 1290,-95.87 1363,-95.87 1363,-131.87\"/>\n<text text-anchor=\"middle\" x=\"1326.5\" y=\"-110.17\" font-family=\"Times,serif\" font-size=\"14.00\">Leaf: 4.00</text>\n</g>\n<!-- 136245990688512&#45;&gt;136245992302160 -->\n<g id=\"edge35\" class=\"edge\">\n<title>136245990688512&#45;&gt;136245992302160</title>\n<path fill=\"none\" stroke=\"black\" d=\"M1251.47,-192.74C1267.01,-176.61 1287.17,-155.69 1302.68,-139.59\"/>\n<polygon fill=\"black\" stroke=\"black\" points=\"1305.46,-141.75 1309.88,-132.12 1300.42,-136.89 1305.46,-141.75\"/>\n<text text-anchor=\"middle\" x=\"1302\" y=\"-162.54\" font-family=\"Times,serif\" font-size=\"14.00\">NULL</text>\n</g>\n<!-- 136245990740304 -->\n<g id=\"node29\" class=\"node\">\n<title>136245990740304</title>\n<polygon fill=\"lightgreen\" stroke=\"black\" points=\"856,-36 783,-36 783,0 856,0 856,-36\"/>\n<text text-anchor=\"middle\" x=\"819.5\" y=\"-14.3\" font-family=\"Times,serif\" font-size=\"14.00\">Leaf: 2.00</text>\n</g>\n<!-- 136245990742912&#45;&gt;136245990740304 -->\n<g id=\"edge28\" class=\"edge\">\n<title>136245990742912&#45;&gt;136245990740304</title>\n<path fill=\"none\" stroke=\"black\" d=\"M899.29,-87.71C883.18,-73.84 863.28,-56.7 847.39,-43.02\"/>\n<polygon fill=\"black\" stroke=\"black\" points=\"849.34,-40.08 839.48,-36.21 844.77,-45.38 849.34,-40.08\"/>\n<text text-anchor=\"middle\" x=\"881.5\" y=\"-57.8\" font-family=\"Times,serif\" font-size=\"14.00\">≤</text>\n</g>\n<!-- 136245990744976 -->\n<g id=\"node30\" class=\"node\">\n<title>136245990744976</title>\n<polygon fill=\"lightgreen\" stroke=\"black\" points=\"947,-36 874,-36 874,0 947,0 947,-36\"/>\n<text text-anchor=\"middle\" x=\"910.5\" y=\"-14.3\" font-family=\"Times,serif\" font-size=\"14.00\">Leaf: 4.00</text>\n</g>\n<!-- 136245990742912&#45;&gt;136245990744976 -->\n<g id=\"edge29\" class=\"edge\">\n<title>136245990742912&#45;&gt;136245990744976</title>\n<path fill=\"none\" stroke=\"black\" d=\"M923.53,-86.97C921.11,-74.34 918.2,-59.14 915.74,-46.32\"/>\n<polygon fill=\"black\" stroke=\"black\" points=\"919.12,-45.38 913.8,-36.22 912.25,-46.7 919.12,-45.38\"/>\n<text text-anchor=\"middle\" x=\"925\" y=\"-57.8\" font-family=\"Times,serif\" font-size=\"14.00\">&gt;</text>\n</g>\n<!-- 136245990302160 -->\n<g id=\"node31\" class=\"node\">\n<title>136245990302160</title>\n<polygon fill=\"lightgreen\" stroke=\"black\" points=\"1038,-36 965,-36 965,0 1038,0 1038,-36\"/>\n<text text-anchor=\"middle\" x=\"1001.5\" y=\"-14.3\" font-family=\"Times,serif\" font-size=\"14.00\">Leaf: 2.00</text>\n</g>\n<!-- 136245990742912&#45;&gt;136245990302160 -->\n<g id=\"edge30\" class=\"edge\">\n<title>136245990742912&#45;&gt;136245990302160</title>\n<path fill=\"none\" stroke=\"black\" d=\"M948.45,-87.22C958.84,-73.86 971.49,-57.58 981.84,-44.28\"/>\n<polygon fill=\"black\" stroke=\"black\" points=\"984.88,-46.07 988.26,-36.03 979.36,-41.77 984.88,-46.07\"/>\n<text text-anchor=\"middle\" x=\"993\" y=\"-57.8\" font-family=\"Times,serif\" font-size=\"14.00\">NULL</text>\n</g>\n<!-- 136245990614096 -->\n<g id=\"node33\" class=\"node\">\n<title>136245990614096</title>\n<polygon fill=\"lightgreen\" stroke=\"black\" points=\"1129,-36 1056,-36 1056,0 1129,0 1129,-36\"/>\n<text text-anchor=\"middle\" x=\"1092.5\" y=\"-14.3\" font-family=\"Times,serif\" font-size=\"14.00\">Leaf: 4.00</text>\n</g>\n<!-- 136245990304576&#45;&gt;136245990614096 -->\n<g id=\"edge32\" class=\"edge\">\n<title>136245990304576&#45;&gt;136245990614096</title>\n<path fill=\"none\" stroke=\"black\" d=\"M1145.55,-87.22C1135.16,-73.86 1122.51,-57.58 1112.16,-44.28\"/>\n<polygon fill=\"black\" stroke=\"black\" points=\"1114.64,-41.77 1105.74,-36.03 1109.12,-46.07 1114.64,-41.77\"/>\n<text text-anchor=\"middle\" x=\"1135.5\" y=\"-57.8\" font-family=\"Times,serif\" font-size=\"14.00\">≤</text>\n</g>\n<!-- 136245990746320 -->\n<g id=\"node34\" class=\"node\">\n<title>136245990746320</title>\n<polygon fill=\"lightgreen\" stroke=\"black\" points=\"1220,-36 1147,-36 1147,0 1220,0 1220,-36\"/>\n<text text-anchor=\"middle\" x=\"1183.5\" y=\"-14.3\" font-family=\"Times,serif\" font-size=\"14.00\">Leaf: 4.00</text>\n</g>\n<!-- 136245990304576&#45;&gt;136245990746320 -->\n<g id=\"edge33\" class=\"edge\">\n<title>136245990304576&#45;&gt;136245990746320</title>\n<path fill=\"none\" stroke=\"black\" d=\"M1170.47,-86.97C1172.89,-74.34 1175.8,-59.14 1178.26,-46.32\"/>\n<polygon fill=\"black\" stroke=\"black\" points=\"1181.75,-46.7 1180.2,-36.22 1174.88,-45.38 1181.75,-46.7\"/>\n<text text-anchor=\"middle\" x=\"1182\" y=\"-57.8\" font-family=\"Times,serif\" font-size=\"14.00\">&gt;</text>\n</g>\n<!-- 136245990449104 -->\n<g id=\"node35\" class=\"node\">\n<title>136245990449104</title>\n<polygon fill=\"lightgreen\" stroke=\"black\" points=\"1311,-36 1238,-36 1238,0 1311,0 1311,-36\"/>\n<text text-anchor=\"middle\" x=\"1274.5\" y=\"-14.3\" font-family=\"Times,serif\" font-size=\"14.00\">Leaf: 4.00</text>\n</g>\n<!-- 136245990304576&#45;&gt;136245990449104 -->\n<g id=\"edge34\" class=\"edge\">\n<title>136245990304576&#45;&gt;136245990449104</title>\n<path fill=\"none\" stroke=\"black\" d=\"M1194.42,-87.96C1210.64,-73.99 1230.77,-56.66 1246.79,-42.86\"/>\n<polygon fill=\"black\" stroke=\"black\" points=\"1249.46,-45.19 1254.75,-36.01 1244.89,-39.88 1249.46,-45.19\"/>\n<text text-anchor=\"middle\" x=\"1252\" y=\"-57.8\" font-family=\"Times,serif\" font-size=\"14.00\">NULL</text>\n</g>\n<!-- 136245990491216 -->\n<g id=\"node38\" class=\"node\">\n<title>136245990491216</title>\n<polygon fill=\"lightgreen\" stroke=\"black\" points=\"1454,-131.87 1381,-131.87 1381,-95.87 1454,-95.87 1454,-131.87\"/>\n<text text-anchor=\"middle\" x=\"1417.5\" y=\"-110.17\" font-family=\"Times,serif\" font-size=\"14.00\">Leaf: 4.00</text>\n</g>\n<!-- 136245990741824&#45;&gt;136245990491216 -->\n<g id=\"edge37\" class=\"edge\">\n<title>136245990741824&#45;&gt;136245990491216</title>\n<path fill=\"none\" stroke=\"black\" d=\"M1417.5,-191.68C1417.5,-176.66 1417.5,-157.76 1417.5,-142.47\"/>\n<polygon fill=\"black\" stroke=\"black\" points=\"1421,-142.07 1417.5,-132.07 1414,-142.07 1421,-142.07\"/>\n<text text-anchor=\"middle\" x=\"1421.5\" y=\"-162.54\" font-family=\"Times,serif\" font-size=\"14.00\">≤</text>\n</g>\n<!-- 136245990747584 -->\n<g id=\"node39\" class=\"node\">\n<title>136245990747584</title>\n<ellipse fill=\"lightblue\" stroke=\"black\" cx=\"1549.5\" cy=\"-113.87\" rx=\"77.15\" ry=\"26.74\"/>\n<text text-anchor=\"middle\" x=\"1549.5\" y=\"-117.67\" font-family=\"Times,serif\" font-size=\"14.00\">Normal_nucleoli</text>\n<text text-anchor=\"middle\" x=\"1549.5\" y=\"-102.67\" font-family=\"Times,serif\" font-size=\"14.00\">Threshold: 7</text>\n</g>\n<!-- 136245990741824&#45;&gt;136245990747584 -->\n<g id=\"edge38\" class=\"edge\">\n<title>136245990741824&#45;&gt;136245990747584</title>\n<path fill=\"none\" stroke=\"black\" d=\"M1448.12,-193.78C1466.86,-179.19 1491.01,-160.4 1511.03,-144.81\"/>\n<polygon fill=\"black\" stroke=\"black\" points=\"1513.31,-147.47 1519.05,-138.57 1509.01,-141.95 1513.31,-147.47\"/>\n<text text-anchor=\"middle\" x=\"1495\" y=\"-162.54\" font-family=\"Times,serif\" font-size=\"14.00\">&gt;</text>\n</g>\n<!-- 136246003543312 -->\n<g id=\"node43\" class=\"node\">\n<title>136246003543312</title>\n<polygon fill=\"lightgreen\" stroke=\"black\" points=\"1718,-131.87 1645,-131.87 1645,-95.87 1718,-95.87 1718,-131.87\"/>\n<text text-anchor=\"middle\" x=\"1681.5\" y=\"-110.17\" font-family=\"Times,serif\" font-size=\"14.00\">Leaf: 4.00</text>\n</g>\n<!-- 136245990741824&#45;&gt;136246003543312 -->\n<g id=\"edge42\" class=\"edge\">\n<title>136245990741824&#45;&gt;136246003543312</title>\n<path fill=\"none\" stroke=\"black\" d=\"M1475.48,-200.19C1520.04,-186.09 1582.68,-164.69 1635.5,-140.74 1638.16,-139.53 1640.87,-138.23 1643.58,-136.86\"/>\n<polygon fill=\"black\" stroke=\"black\" points=\"1645.47,-139.82 1652.69,-132.07 1642.21,-133.63 1645.47,-139.82\"/>\n<text text-anchor=\"middle\" x=\"1607\" y=\"-162.54\" font-family=\"Times,serif\" font-size=\"14.00\">NULL</text>\n</g>\n<!-- 136245990747536 -->\n<g id=\"node40\" class=\"node\">\n<title>136245990747536</title>\n<polygon fill=\"lightgreen\" stroke=\"black\" points=\"1495,-36 1422,-36 1422,0 1495,0 1495,-36\"/>\n<text text-anchor=\"middle\" x=\"1458.5\" y=\"-14.3\" font-family=\"Times,serif\" font-size=\"14.00\">Leaf: 4.00</text>\n</g>\n<!-- 136245990747584&#45;&gt;136245990747536 -->\n<g id=\"edge39\" class=\"edge\">\n<title>136245990747584&#45;&gt;136245990747536</title>\n<path fill=\"none\" stroke=\"black\" d=\"M1525.59,-88.21C1512.17,-74.37 1495.49,-57.16 1482.12,-43.37\"/>\n<polygon fill=\"black\" stroke=\"black\" points=\"1484.55,-40.84 1475.08,-36.1 1479.52,-45.71 1484.55,-40.84\"/>\n<text text-anchor=\"middle\" x=\"1510.5\" y=\"-57.8\" font-family=\"Times,serif\" font-size=\"14.00\">≤</text>\n</g>\n<!-- 136245990742096 -->\n<g id=\"node41\" class=\"node\">\n<title>136245990742096</title>\n<polygon fill=\"lightgreen\" stroke=\"black\" points=\"1586,-36 1513,-36 1513,0 1586,0 1586,-36\"/>\n<text text-anchor=\"middle\" x=\"1549.5\" y=\"-14.3\" font-family=\"Times,serif\" font-size=\"14.00\">Leaf: 4.00</text>\n</g>\n<!-- 136245990747584&#45;&gt;136245990742096 -->\n<g id=\"edge40\" class=\"edge\">\n<title>136245990747584&#45;&gt;136245990742096</title>\n<path fill=\"none\" stroke=\"black\" d=\"M1549.5,-86.97C1549.5,-74.34 1549.5,-59.14 1549.5,-46.32\"/>\n<polygon fill=\"black\" stroke=\"black\" points=\"1553,-46.22 1549.5,-36.22 1546,-46.22 1553,-46.22\"/>\n<text text-anchor=\"middle\" x=\"1554\" y=\"-57.8\" font-family=\"Times,serif\" font-size=\"14.00\">&gt;</text>\n</g>\n<!-- 136245990588496 -->\n<g id=\"node42\" class=\"node\">\n<title>136245990588496</title>\n<polygon fill=\"lightgreen\" stroke=\"black\" points=\"1677,-36 1604,-36 1604,0 1677,0 1677,-36\"/>\n<text text-anchor=\"middle\" x=\"1640.5\" y=\"-14.3\" font-family=\"Times,serif\" font-size=\"14.00\">Leaf: 4.00</text>\n</g>\n<!-- 136245990747584&#45;&gt;136245990588496 -->\n<g id=\"edge41\" class=\"edge\">\n<title>136245990747584&#45;&gt;136245990588496</title>\n<path fill=\"none\" stroke=\"black\" d=\"M1573.41,-88.21C1586.83,-74.37 1603.51,-57.16 1616.88,-43.37\"/>\n<polygon fill=\"black\" stroke=\"black\" points=\"1619.48,-45.71 1623.92,-36.1 1614.45,-40.84 1619.48,-45.71\"/>\n<text text-anchor=\"middle\" x=\"1624\" y=\"-57.8\" font-family=\"Times,serif\" font-size=\"14.00\">NULL</text>\n</g>\n</g>\n</svg>\n",
            "text/plain": [
              "<graphviz.graphs.Digraph at 0x7bea3e9d2c50>"
            ]
          },
          "metadata": {},
          "execution_count": 26
        }
      ]
    },
    {
      "cell_type": "markdown",
      "source": [
        "# DATASET IMPUTAT AMB Fillna()"
      ],
      "metadata": {
        "id": "mmGkv0xByVqg"
      }
    },
    {
      "cell_type": "code",
      "source": [
        "from sklearn.metrics import (\n",
        "    accuracy_score,\n",
        "    precision_score,\n",
        "    recall_score,\n",
        "    f1_score,\n",
        "    confusion_matrix,\n",
        "    classification_report\n",
        ")\n",
        "\n",
        "#  Substitueix valors especials per NaN\n",
        "Xdata.replace(['?', -1, 'unknown', 'Unknown', ''], np.nan, inplace=True)\n",
        "\n",
        "#  Imputació de valors nuls amb la mitjana de cada columna numèrica\n",
        "Xdata_imputed = Xdata.copy()\n",
        "for col in Xdata_imputed.columns:\n",
        "    if Xdata_imputed[col].dtype in ['float64', 'int64']:\n",
        "        Xdata_imputed[col] = Xdata_imputed[col].fillna(Xdata_imputed[col].mean())\n",
        "\n",
        "#  Divisió en train i test amb dades imputades\n",
        "X_train, X_test, y_train, y_test = train_test_split(Xdata_imputed, ydata, test_size=0.2, random_state=42, stratify=ydata)\n",
        "\n",
        "print(\"🔍 X_test shape:\", X_test.shape)\n",
        "print(\"🔍 y_test shape:\", y_test.shape)\n",
        "\n",
        "\n",
        "#  Entrenar el model amb Random Forest personalitzat\n",
        "rf_custom = RandomForest(n_trees=20, max_depth=5, max_features=5)\n",
        "rf_custom.fit(X_train, y_train)\n",
        "\n",
        "#  Predir amb el Random Forest personalitzat\n",
        "start_time = time.time()\n",
        "\n",
        "y_pred_custom = rf_custom.predict(X_test)\n",
        "time_custom = time.time() - start_time\n",
        "\n",
        "#  Validació de resultats\n",
        "print(\"\\n Predicció del model:\")\n",
        "print(f\"Tipus: {type(y_pred_custom)}\")\n",
        "print(f\"Forma: {y_pred_custom.shape}\")\n",
        "print(f\"Primers valors: {y_pred_custom[:10].values if isinstance(y_pred_custom, pd.Series) else y_pred_custom[:10]}\")\n",
        "print(f\" Temps de predicció: {time_custom:.4f} s\")\n",
        "\n",
        "#  Avaluació amb múltiples mètriques\n",
        "print(\"\\n Mètriques de classificació:\")\n",
        "print(f\"Accuracy: {accuracy_score(y_test, y_pred_custom):.4f}\")\n",
        "print(f\"Precision: {precision_score(y_test, y_pred_custom, average='macro'):.4f}\")\n",
        "print(f\"Recall: {recall_score(y_test, y_pred_custom, average='macro'):.4f}\")\n",
        "print(f\"F1 Score: {f1_score(y_test, y_pred_custom, average='macro'):.4f}\")\n",
        "\n",
        "print(\"\\n Matriu de confusió:\")\n",
        "print(confusion_matrix(y_test, y_pred_custom))\n",
        "\n",
        "print(\"\\n Informe de classificació:\")\n",
        "print(classification_report(y_test, y_pred_custom))"
      ],
      "metadata": {
        "colab": {
          "base_uri": "https://localhost:8080/"
        },
        "id": "9Rh_9LfwySVc",
        "outputId": "5d6d36b5-a19f-43e7-869a-e03d721d9123"
      },
      "execution_count": 27,
      "outputs": [
        {
          "output_type": "stream",
          "name": "stderr",
          "text": [
            "<ipython-input-27-a2fb3dbd3602>:11: SettingWithCopyWarning: \n",
            "A value is trying to be set on a copy of a slice from a DataFrame\n",
            "\n",
            "See the caveats in the documentation: https://pandas.pydata.org/pandas-docs/stable/user_guide/indexing.html#returning-a-view-versus-a-copy\n",
            "  Xdata.replace(['?', -1, 'unknown', 'Unknown', ''], np.nan, inplace=True)\n"
          ]
        },
        {
          "output_type": "stream",
          "name": "stdout",
          "text": [
            "🔍 X_test shape: (140, 9)\n",
            "🔍 y_test shape: (140, 1)\n",
            "\n",
            " Predicció del model:\n",
            "Tipus: <class 'pandas.core.series.Series'>\n",
            "Forma: (140,)\n",
            "Primers valors: [4. 2. 4. 2. 4. 4. 2. 2. 2. 2.]\n",
            " Temps de predicció: 0.2609 s\n",
            "\n",
            " Mètriques de classificació:\n",
            "Accuracy: 0.9429\n",
            "Precision: 0.9366\n",
            "Recall: 0.9366\n",
            "F1 Score: 0.9366\n",
            "\n",
            " Matriu de confusió:\n",
            "[[88  4]\n",
            " [ 4 44]]\n",
            "\n",
            " Informe de classificació:\n",
            "              precision    recall  f1-score   support\n",
            "\n",
            "           2       0.96      0.96      0.96        92\n",
            "           4       0.92      0.92      0.92        48\n",
            "\n",
            "    accuracy                           0.94       140\n",
            "   macro avg       0.94      0.94      0.94       140\n",
            "weighted avg       0.94      0.94      0.94       140\n",
            "\n"
          ]
        }
      ]
    },
    {
      "cell_type": "markdown",
      "source": [
        "# CROSS VALIDATION"
      ],
      "metadata": {
        "id": "GR6SYzJgvNMQ"
      }
    },
    {
      "cell_type": "code",
      "source": [
        "from sklearn.model_selection import KFold\n",
        "from sklearn.metrics import accuracy_score, precision_score, recall_score, f1_score\n",
        "\n",
        "# Configuració de cross-validation\n",
        "k = 10  # pots provar amb 5 o 10\n",
        "kf = KFold(n_splits=k, shuffle=True, random_state=42)\n",
        "\n",
        "# Guardem mètriques de cada fold\n",
        "accuracies = []\n",
        "precisions = []\n",
        "recalls = []\n",
        "f1s = []\n",
        "\n",
        "for fold, (train_index, val_index) in enumerate(kf.split(Xdata)):\n",
        "    print(f\"\\nFold {fold + 1}/{k}\")\n",
        "\n",
        "    X_train, X_val = Xdata.iloc[train_index], Xdata.iloc[val_index]\n",
        "    y_train, y_val = ydata.iloc[train_index], ydata.iloc[val_index]\n",
        "\n",
        "    # oversampling aqui\n",
        "\n",
        "    rf_custom = RandomForest(n_trees=20, max_depth=5, max_features=5)\n",
        "    rf_custom.fit(X_train, y_train)\n",
        "\n",
        "    y_pred = rf_custom.predict(X_val)\n",
        "\n",
        "    # Mètriques\n",
        "    accuracies.append(accuracy_score(y_val, y_pred))\n",
        "    precisions.append(precision_score(y_val, y_pred, average='macro'))\n",
        "    recalls.append(recall_score(y_val, y_pred, average='macro'))\n",
        "    f1s.append(f1_score(y_val, y_pred, average='macro'))\n",
        "\n",
        "# Resultats mitjans\n",
        "print(\"\\n Mitjanes Cross-Validation:\")\n",
        "print(f\"Accuracy: {np.mean(accuracies):.4f}\")\n",
        "print(f\"Precision (macro): {np.mean(precisions):.4f}\")\n",
        "print(f\"Recall (macro): {np.mean(recalls):.4f}\")\n",
        "print(f\"F1 Score (macro): {np.mean(f1s):.4f}\")"
      ],
      "metadata": {
        "colab": {
          "base_uri": "https://localhost:8080/"
        },
        "id": "1hI6keHvoAKJ",
        "outputId": "4ec76e29-eb0a-4b18-fc71-f9bca781dcbe"
      },
      "execution_count": null,
      "outputs": [
        {
          "output_type": "stream",
          "name": "stdout",
          "text": [
            "\n",
            "🔁 Fold 1/10\n",
            "\n",
            "🔁 Fold 2/10\n",
            "\n",
            "🔁 Fold 3/10\n",
            "\n",
            "🔁 Fold 4/10\n",
            "\n",
            "🔁 Fold 5/10\n"
          ]
        },
        {
          "output_type": "stream",
          "name": "stderr",
          "text": [
            "/usr/local/lib/python3.11/dist-packages/sklearn/metrics/_classification.py:1565: UndefinedMetricWarning: Precision is ill-defined and being set to 0.0 in labels with no predicted samples. Use `zero_division` parameter to control this behavior.\n",
            "  _warn_prf(average, modifier, f\"{metric.capitalize()} is\", len(result))\n"
          ]
        },
        {
          "output_type": "stream",
          "name": "stdout",
          "text": [
            "\n",
            "🔁 Fold 6/10\n",
            "\n",
            "🔁 Fold 7/10\n",
            "\n",
            "🔁 Fold 8/10\n"
          ]
        },
        {
          "output_type": "stream",
          "name": "stderr",
          "text": [
            "/usr/local/lib/python3.11/dist-packages/sklearn/metrics/_classification.py:1565: UndefinedMetricWarning: Precision is ill-defined and being set to 0.0 in labels with no predicted samples. Use `zero_division` parameter to control this behavior.\n",
            "  _warn_prf(average, modifier, f\"{metric.capitalize()} is\", len(result))\n"
          ]
        },
        {
          "output_type": "stream",
          "name": "stdout",
          "text": [
            "\n",
            "🔁 Fold 9/10\n",
            "\n",
            "🔁 Fold 10/10\n",
            "\n",
            "📊 Mitjanes Cross-Validation:\n",
            "Accuracy: 0.9850\n",
            "Precision (macro): 0.9209\n",
            "Recall (macro): 0.9239\n",
            "F1 Score (macro): 0.9218\n"
          ]
        }
      ]
    },
    {
      "cell_type": "markdown",
      "source": [
        "# XGBoost Test"
      ],
      "metadata": {
        "id": "cjZFNax2fNIt"
      }
    },
    {
      "cell_type": "code",
      "source": [
        "\n",
        "import xgboost as xgb\n",
        "\n",
        "# Substitueix valors especials per NaN\n",
        "Xdata.replace(['?', -1, 'unknown', 'Unknown', ''], np.nan, inplace=True)\n",
        "ydata = ydata.replace({2: 0, 4: 1}) #xgboost espera 0,1 ---> Pel Breast Cancer Wisconsin\n",
        "# Divisió en train i test\n",
        "#Amb stratify mantenim prorporcio de la clase en test i train\n",
        "X_train, X_test, y_train, y_test = train_test_split(Xdata, ydata, test_size=0.2, random_state=42, stratify=ydata)\n",
        "print(\" X_test shape:\", X_test.shape)\n",
        "print(\" y_test shape:\", y_test.shape)\n",
        "\n",
        "#  Entrenar el model amb XGBoost\n",
        "from xgboost import XGBClassifier\n",
        "\n",
        "xgb_clf = XGBClassifier(\n",
        "    n_estimators=20,\n",
        "    max_depth=5,\n",
        "    learning_rate=0.1,\n",
        "    eval_metric='mlogloss',\n",
        "    random_state=42\n",
        ")\n",
        "xgb_clf.fit(X_train, y_train)\n",
        "\n",
        "#  Predir amb XGBoost\n",
        "start_time = time.time()\n",
        "y_pred_xgb = xgb_clf.predict(X_test)\n",
        "time_xgb = time.time() - start_time\n",
        "\n",
        "# Validació de resultats\n",
        "print(\"\\n Predicció amb XGBoost:\")\n",
        "print(f\"Tipus: {type(y_pred_xgb)}\")\n",
        "print(f\"Forma: {y_pred_xgb.shape}\")\n",
        "print(f\"Primers valors: {y_pred_xgb[:10]}\")\n",
        "print(f\" Temps de predicció: {time_xgb:.4f} s\")\n",
        "\n",
        "#  Avaluació amb múltiples mètriques\n",
        "print(\"\\n Mètriques de classificació:\")\n",
        "\n",
        "print(f\"Accuracy: {accuracy_score(y_test, y_pred_xgb):.4f}\")\n",
        "print(f\"Precision: {precision_score(y_test, y_pred_xgb, average='macro'):.4f}\")\n",
        "print(f\"Recall: {recall_score(y_test, y_pred_xgb, average='macro'):.4f}\")\n",
        "print(f\"F1 Score: {f1_score(y_test, y_pred_xgb, average='macro'):.4f}\")\n",
        "\n",
        "print(\"\\n Matriu de confusió:\")\n",
        "print(confusion_matrix(y_test, y_pred_xgb))\n",
        "\n",
        "#  Resum complet per classe\n",
        "print(\"\\n Informe de classificació:\")\n",
        "print(classification_report(y_test, y_pred_xgb))"
      ],
      "metadata": {
        "colab": {
          "base_uri": "https://localhost:8080/"
        },
        "id": "jRhZnXMNclPY",
        "outputId": "584ec76b-3438-4b22-8186-d517938b5e77"
      },
      "execution_count": 30,
      "outputs": [
        {
          "output_type": "stream",
          "name": "stderr",
          "text": [
            "<ipython-input-30-7bdec2e862a3>:4: SettingWithCopyWarning: \n",
            "A value is trying to be set on a copy of a slice from a DataFrame\n",
            "\n",
            "See the caveats in the documentation: https://pandas.pydata.org/pandas-docs/stable/user_guide/indexing.html#returning-a-view-versus-a-copy\n",
            "  Xdata.replace(['?', -1, 'unknown', 'Unknown', ''], np.nan, inplace=True)\n"
          ]
        },
        {
          "output_type": "stream",
          "name": "stdout",
          "text": [
            " X_test shape: (140, 9)\n",
            " y_test shape: (140, 1)\n",
            "\n",
            " Predicció amb XGBoost:\n",
            "Tipus: <class 'numpy.ndarray'>\n",
            "Forma: (140,)\n",
            "Primers valors: [1 0 0 0 1 1 0 0 0 0]\n",
            " Temps de predicció: 0.0265 s\n",
            "\n",
            " Mètriques de classificació:\n",
            "Accuracy: 0.9429\n",
            "Precision: 0.9408\n",
            "Recall: 0.9316\n",
            "F1 Score: 0.9359\n",
            "\n",
            " Matriu de confusió:\n",
            "[[89  3]\n",
            " [ 5 43]]\n",
            "\n",
            " Informe de classificació:\n",
            "              precision    recall  f1-score   support\n",
            "\n",
            "           0       0.95      0.97      0.96        92\n",
            "           1       0.93      0.90      0.91        48\n",
            "\n",
            "    accuracy                           0.94       140\n",
            "   macro avg       0.94      0.93      0.94       140\n",
            "weighted avg       0.94      0.94      0.94       140\n",
            "\n"
          ]
        }
      ]
    },
    {
      "cell_type": "markdown",
      "source": [
        "# LightGBM Test"
      ],
      "metadata": {
        "id": "sqCxsTSIfURY"
      }
    },
    {
      "cell_type": "code",
      "source": [
        "import lightgbm as lgb\n",
        "\n",
        "# Substitueix valors especials per NaN\n",
        "Xdata.replace(['?', -1, 'unknown', 'Unknown', ''], np.nan, inplace=True)\n",
        "\n",
        "# Divisió en train i test\n",
        "#Amb stratify mantenim prorporcio de la clase en test i train\n",
        "X_train, X_test, y_train, y_test = train_test_split(Xdata, ydata, test_size=0.2, random_state=42, stratify=ydata)\n",
        "print(\"🔍 X_test shape:\", X_test.shape)\n",
        "print(\"🔍 y_test shape:\", y_test.shape)\n",
        "\n",
        "\n",
        "# Entrenar el model amb LightGBM\n",
        "lgbm_clf = lgb.LGBMClassifier(\n",
        "    n_estimators=20,\n",
        "    max_depth=5,\n",
        "    learning_rate=0.1,\n",
        "    random_state=42\n",
        ")\n",
        "\n",
        "lgbm_clf.fit(\n",
        "    X_train, y_train,\n",
        "    eval_set=[(X_test, y_test)],\n",
        "    eval_metric='logloss',\n",
        "    callbacks=[lgb.early_stopping(stopping_rounds=10)]\n",
        ")\n",
        "\n",
        "# Predir amb LightGBM\n",
        "start_time = time.time()\n",
        "y_pred_lgbm = lgbm_clf.predict(X_test)\n",
        "time_lgbm = time.time() - start_time\n",
        "\n",
        "# Validació de resultats\n",
        "print(\"\\n Predicció amb LightGBM:\")\n",
        "print(f\"Tipus: {type(y_pred_lgbm)}\")\n",
        "print(f\"Forma: {y_pred_lgbm.shape}\")\n",
        "print(f\"Primers valors: {y_pred_lgbm[:10]}\")\n",
        "print(f\" Temps de predicció: {time_lgbm:.4f} s\")\n",
        "\n",
        "# Avaluació amb múltiples mètriques\n",
        "print(\"\\n Mètriques de classificació:\")\n",
        "print(f\"Accuracy: {accuracy_score(y_test, y_pred_lgbm):.4f}\")\n",
        "print(f\"Precision: {precision_score(y_test, y_pred_lgbm, average='macro'):.4f}\")\n",
        "print(f\"Recall: {recall_score(y_test, y_pred_lgbm, average='macro'):.4f}\")\n",
        "print(f\"F1 Score: {f1_score(y_test, y_pred_lgbm, average='macro'):.4f}\")\n",
        "\n",
        "print(\"\\n Matriu de confusió:\")\n",
        "print(confusion_matrix(y_test, y_pred_lgbm))\n",
        "\n",
        "# Resum complet per classe\n",
        "print(\"\\n Informe de classificació:\")\n",
        "print(classification_report(y_test, y_pred_lgbm))"
      ],
      "metadata": {
        "colab": {
          "base_uri": "https://localhost:8080/"
        },
        "id": "XmrTjwqxfV9k",
        "outputId": "49d45372-9d5c-4382-fd92-6da245938b0d"
      },
      "execution_count": 31,
      "outputs": [
        {
          "output_type": "stream",
          "name": "stdout",
          "text": [
            "🔍 X_test shape: (140, 9)\n",
            "🔍 y_test shape: (140, 1)\n",
            "[LightGBM] [Info] Number of positive: 193, number of negative: 366\n",
            "[LightGBM] [Info] Auto-choosing row-wise multi-threading, the overhead of testing was 0.000479 seconds.\n",
            "You can set `force_row_wise=true` to remove the overhead.\n",
            "And if memory is not enough, you can set `force_col_wise=true`.\n",
            "[LightGBM] [Info] Total Bins 97\n",
            "[LightGBM] [Info] Number of data points in the train set: 559, number of used features: 9\n",
            "[LightGBM] [Info] [binary:BoostFromScore]: pavg=0.345259 -> initscore=-0.639943\n",
            "[LightGBM] [Info] Start training from score -0.639943\n",
            "[LightGBM] [Warning] No further splits with positive gain, best gain: -inf\n",
            "Training until validation scores don't improve for 10 rounds\n",
            "[LightGBM] [Warning] No further splits with positive gain, best gain: -inf\n",
            "[LightGBM] [Warning] No further splits with positive gain, best gain: -inf\n",
            "[LightGBM] [Warning] No further splits with positive gain, best gain: -inf\n",
            "[LightGBM] [Warning] No further splits with positive gain, best gain: -inf\n",
            "[LightGBM] [Warning] No further splits with positive gain, best gain: -inf\n",
            "[LightGBM] [Warning] No further splits with positive gain, best gain: -inf\n",
            "[LightGBM] [Warning] No further splits with positive gain, best gain: -inf\n",
            "[LightGBM] [Warning] No further splits with positive gain, best gain: -inf\n",
            "[LightGBM] [Warning] No further splits with positive gain, best gain: -inf\n",
            "[LightGBM] [Warning] No further splits with positive gain, best gain: -inf\n",
            "[LightGBM] [Warning] No further splits with positive gain, best gain: -inf\n",
            "[LightGBM] [Warning] No further splits with positive gain, best gain: -inf\n",
            "[LightGBM] [Warning] No further splits with positive gain, best gain: -inf\n",
            "[LightGBM] [Warning] No further splits with positive gain, best gain: -inf\n",
            "[LightGBM] [Warning] No further splits with positive gain, best gain: -inf\n",
            "[LightGBM] [Warning] No further splits with positive gain, best gain: -inf\n",
            "[LightGBM] [Warning] No further splits with positive gain, best gain: -inf\n",
            "[LightGBM] [Warning] No further splits with positive gain, best gain: -inf\n",
            "[LightGBM] [Warning] No further splits with positive gain, best gain: -inf\n",
            "Did not meet early stopping. Best iteration is:\n",
            "[20]\tvalid_0's binary_logloss: 0.166976\n",
            "\n",
            " Predicció amb LightGBM:\n",
            "Tipus: <class 'numpy.ndarray'>\n",
            "Forma: (140,)\n",
            "Primers valors: [1 0 0 0 1 1 0 0 0 0]\n",
            " Temps de predicció: 0.0041 s\n",
            "\n",
            " Mètriques de classificació:\n",
            "Accuracy: 0.9429\n",
            "Precision: 0.9366\n",
            "Recall: 0.9366\n",
            "F1 Score: 0.9366\n",
            "\n",
            " Matriu de confusió:\n",
            "[[88  4]\n",
            " [ 4 44]]\n",
            "\n",
            " Informe de classificació:\n",
            "              precision    recall  f1-score   support\n",
            "\n",
            "           0       0.96      0.96      0.96        92\n",
            "           1       0.92      0.92      0.92        48\n",
            "\n",
            "    accuracy                           0.94       140\n",
            "   macro avg       0.94      0.94      0.94       140\n",
            "weighted avg       0.94      0.94      0.94       140\n",
            "\n"
          ]
        },
        {
          "output_type": "stream",
          "name": "stderr",
          "text": [
            "<ipython-input-31-abb22a66131d>:4: SettingWithCopyWarning: \n",
            "A value is trying to be set on a copy of a slice from a DataFrame\n",
            "\n",
            "See the caveats in the documentation: https://pandas.pydata.org/pandas-docs/stable/user_guide/indexing.html#returning-a-view-versus-a-copy\n",
            "  Xdata.replace(['?', -1, 'unknown', 'Unknown', ''], np.nan, inplace=True)\n",
            "/usr/local/lib/python3.11/dist-packages/sklearn/preprocessing/_label.py:93: DataConversionWarning: A column-vector y was passed when a 1d array was expected. Please change the shape of y to (n_samples, ), for example using ravel().\n",
            "  y = column_or_1d(y, warn=True)\n",
            "/usr/local/lib/python3.11/dist-packages/sklearn/preprocessing/_label.py:129: DataConversionWarning: A column-vector y was passed when a 1d array was expected. Please change the shape of y to (n_samples, ), for example using ravel().\n",
            "  y = column_or_1d(y, dtype=self.classes_.dtype, warn=True)\n",
            "/usr/local/lib/python3.11/dist-packages/sklearn/preprocessing/_label.py:129: DataConversionWarning: A column-vector y was passed when a 1d array was expected. Please change the shape of y to (n_samples, ), for example using ravel().\n",
            "  y = column_or_1d(y, dtype=self.classes_.dtype, warn=True)\n"
          ]
        }
      ]
    }
  ],
  "metadata": {
    "colab": {
      "provenance": [],
      "collapsed_sections": [
        "R0R8FfMJwuS2",
        "Zot2xQrIPkIw",
        "rCShu3qY0QEp",
        "kS3b5hfNowK8",
        "nYpxInoqP-rW",
        "t41zSznysitl",
        "GR6SYzJgvNMQ",
        "cjZFNax2fNIt",
        "sqCxsTSIfURY"
      ]
    },
    "kernelspec": {
      "display_name": "Python 3",
      "name": "python3"
    },
    "language_info": {
      "name": "python"
    }
  },
  "nbformat": 4,
  "nbformat_minor": 0
}