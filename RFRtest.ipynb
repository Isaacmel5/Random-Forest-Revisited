{
  "cells": [
    {
      "cell_type": "markdown",
      "metadata": {
        "id": "LeynjEuQo82E"
      },
      "source": [
        "# RANDOM FOREST REVISITED"
      ]
    },
    {
      "cell_type": "markdown",
      "source": [
        "# LLIBRERIES"
      ],
      "metadata": {
        "id": "R0R8FfMJwuS2"
      }
    },
    {
      "cell_type": "markdown",
      "metadata": {
        "id": "mKf_KPk5Owa9"
      },
      "source": [
        "Visualize trees libraries"
      ]
    },
    {
      "cell_type": "code",
      "execution_count": 1,
      "metadata": {
        "colab": {
          "base_uri": "https://localhost:8080/"
        },
        "id": "2RbaEL5jdJR3",
        "outputId": "33c5d72e-d6cf-4c31-f780-09161e5b95f1"
      },
      "outputs": [
        {
          "output_type": "stream",
          "name": "stdout",
          "text": [
            "Reading package lists... Done\n",
            "Building dependency tree... Done\n",
            "Reading state information... Done\n",
            "graphviz is already the newest version (2.42.2-6ubuntu0.1).\n",
            "0 upgraded, 0 newly installed, 0 to remove and 34 not upgraded.\n",
            "Requirement already satisfied: graphviz in /usr/local/lib/python3.11/dist-packages (0.20.3)\n"
          ]
        }
      ],
      "source": [
        "!apt-get install graphviz\n",
        "!pip install graphviz"
      ]
    },
    {
      "cell_type": "markdown",
      "metadata": {
        "id": "nGGvgdPMrU_E"
      },
      "source": [
        "UCI MLR Respository"
      ]
    },
    {
      "cell_type": "code",
      "execution_count": 2,
      "metadata": {
        "colab": {
          "base_uri": "https://localhost:8080/"
        },
        "id": "w67srF3qu0rn",
        "outputId": "4c263467-880b-440a-bb04-e10728bcec6c"
      },
      "outputs": [
        {
          "output_type": "stream",
          "name": "stdout",
          "text": [
            "Collecting ucimlrepo\n",
            "  Downloading ucimlrepo-0.0.7-py3-none-any.whl.metadata (5.5 kB)\n",
            "Requirement already satisfied: pandas>=1.0.0 in /usr/local/lib/python3.11/dist-packages (from ucimlrepo) (2.2.2)\n",
            "Requirement already satisfied: certifi>=2020.12.5 in /usr/local/lib/python3.11/dist-packages (from ucimlrepo) (2025.4.26)\n",
            "Requirement already satisfied: numpy>=1.23.2 in /usr/local/lib/python3.11/dist-packages (from pandas>=1.0.0->ucimlrepo) (2.0.2)\n",
            "Requirement already satisfied: python-dateutil>=2.8.2 in /usr/local/lib/python3.11/dist-packages (from pandas>=1.0.0->ucimlrepo) (2.9.0.post0)\n",
            "Requirement already satisfied: pytz>=2020.1 in /usr/local/lib/python3.11/dist-packages (from pandas>=1.0.0->ucimlrepo) (2025.2)\n",
            "Requirement already satisfied: tzdata>=2022.7 in /usr/local/lib/python3.11/dist-packages (from pandas>=1.0.0->ucimlrepo) (2025.2)\n",
            "Requirement already satisfied: six>=1.5 in /usr/local/lib/python3.11/dist-packages (from python-dateutil>=2.8.2->pandas>=1.0.0->ucimlrepo) (1.17.0)\n",
            "Downloading ucimlrepo-0.0.7-py3-none-any.whl (8.0 kB)\n",
            "Installing collected packages: ucimlrepo\n",
            "Successfully installed ucimlrepo-0.0.7\n"
          ]
        }
      ],
      "source": [
        "pip install ucimlrepo"
      ]
    },
    {
      "cell_type": "markdown",
      "source": [
        "LightGBM and Xgboost Libraries"
      ],
      "metadata": {
        "id": "82N8LrPYwN7z"
      }
    },
    {
      "cell_type": "code",
      "source": [
        "!pip install lightgbm xgboost"
      ],
      "metadata": {
        "colab": {
          "base_uri": "https://localhost:8080/"
        },
        "id": "Nci2wpt8cuZi",
        "outputId": "50319b19-bb31-4420-a065-5c94691710cd"
      },
      "execution_count": 3,
      "outputs": [
        {
          "output_type": "stream",
          "name": "stdout",
          "text": [
            "Requirement already satisfied: lightgbm in /usr/local/lib/python3.11/dist-packages (4.5.0)\n",
            "Requirement already satisfied: xgboost in /usr/local/lib/python3.11/dist-packages (2.1.4)\n",
            "Requirement already satisfied: numpy>=1.17.0 in /usr/local/lib/python3.11/dist-packages (from lightgbm) (2.0.2)\n",
            "Requirement already satisfied: scipy in /usr/local/lib/python3.11/dist-packages (from lightgbm) (1.15.3)\n",
            "Requirement already satisfied: nvidia-nccl-cu12 in /usr/local/lib/python3.11/dist-packages (from xgboost) (2.21.5)\n"
          ]
        }
      ]
    },
    {
      "cell_type": "markdown",
      "source": [
        "Imports for other libraries"
      ],
      "metadata": {
        "id": "g16o_WxvwR3N"
      }
    },
    {
      "cell_type": "code",
      "execution_count": 4,
      "metadata": {
        "id": "ZgTbLJbMPRhR"
      },
      "outputs": [],
      "source": [
        "\n",
        "import numpy as np\n",
        "import pandas as pd\n",
        "import random\n",
        "import pprint\n",
        "import time\n",
        "import os\n",
        "from collections import Counter\n",
        "from graphviz import Digraph\n",
        "from sklearn.ensemble import RandomForestClassifier\n",
        "from sklearn.model_selection import train_test_split"
      ]
    },
    {
      "cell_type": "markdown",
      "metadata": {
        "id": "Zot2xQrIPkIw"
      },
      "source": [
        "# DECISION TREE"
      ]
    },
    {
      "cell_type": "code",
      "execution_count": 5,
      "metadata": {
        "id": "tTr3MmqBHnqe"
      },
      "outputs": [],
      "source": [
        "\n",
        "class DecisionTree:\n",
        "    \"\"\"Implementacio de un arbre de decisio CART personalitzat que gestiona NUllS.\n",
        "\n",
        "    Parametres\n",
        "    ----------\n",
        "    max_depth : int o None\n",
        "        Profunditat màxima de l’arbre. Si és None, els nodes s’expandeixen fins que totes les fulles siguin pures\n",
        "        o continguin menys de `min_samples_split` mostres.\n",
        "    min_samples_split : int, per defecte 2\n",
        "        Nombre mínim de mostres requerit per dividir un node intern.\n",
        "    feature_subset : int o None\n",
        "        Nombre de característiques a considerar a l’hora de buscar el millor punt de divisió.\n",
        "        Si és None, s’utilitzen totes les característiques.\n",
        "    \"\"\"\n",
        "        #Constructor de l'arbre\n",
        "    def __init__(self, max_depth=None, min_samples_split=2, feature_subset=None):\n",
        "        self.max_depth = max_depth\n",
        "        self.min_samples_split = min_samples_split\n",
        "        self.feature_subset = feature_subset\n",
        "        self.tree = None\n",
        "\n",
        "    def fit(self, X: pd.DataFrame, y: pd.Series):\n",
        "        \"\"\"Entrena l'arbre de decisio\"\"\"\n",
        "        self.n_features = self.feature_subset or X.shape[1] # Guarda num features per split\n",
        "        self.y_train = y #Guarda y\n",
        "        self.tree = self._build_tree(X, y, depth=0) #inici construccio arbre\n",
        "\n",
        "    def _gini(self, y: pd.Series):\n",
        "        \"\"\"Calcula l'impuresa de Gini\"\"\"\n",
        "        counts = y.value_counts().values\n",
        "        probs = counts / counts.sum()  # Normalitzem per obtenir probabilitats\n",
        "        return 1 - np.sum(probs ** 2)  # Retorna l'impuresa del node\n",
        "\n",
        "    def _best_split(self, X: pd.DataFrame, y: pd.Series):\n",
        "        \"\"\"Troba la millor divisió segons el gain amb l'índex de Gini, gestionant valors nuls i categòriques.\"\"\"\n",
        "        best_gain = 0\n",
        "        best_feature = None\n",
        "        best_threshold = None\n",
        "        best_is_categorical = False\n",
        "\n",
        "        current_gini = self._gini(y)  # Gini actual del node\n",
        "        feature_idxs = random.sample(range(X.shape[1]), self.n_features)  # Selecció aleatòria de característiques\n",
        "\n",
        "        for feature in feature_idxs:\n",
        "            col = X.iloc[:, feature]  # Agafa la columna corresponent a feature del conjunt\n",
        "\n",
        "            # Detectem si és categòrica\n",
        "            is_categorical = col.dtype.name == \"category\" or col.dtype == object\n",
        "\n",
        "            if is_categorical:\n",
        "                #CATEGÒRIQUES\n",
        "                values = col.dropna().unique()  # Guardem valors unics (sense NaNs)\n",
        "                for val in values:\n",
        "                    if pd.isna(val):  # Evitem usar NaN per fer split\n",
        "                        continue\n",
        "                    #Pertinença/grups per categòriques i nulls apart\n",
        "                    left_mask = col == val\n",
        "                    right_mask = col != val\n",
        "                    null_mask = col.isna()\n",
        "\n",
        "                    #Si hi ha una branca pel llindar, salta al seguent\n",
        "                    if left_mask.sum() == 0 or right_mask.sum() == 0:\n",
        "                        continue\n",
        "\n",
        "                    #Generem llistes de valors segons les mascares booleanes\n",
        "                    y_left, y_right, y_null = y[left_mask], y[right_mask], y[null_mask]\n",
        "                    #Calcul del Gini amb la feature i llindar actual de cada subconjunt\n",
        "                    gini_left, gini_right, gini_null = self._gini(y_left), self._gini(y_right), self._gini(y_null)\n",
        "                    #Calcul de l'imupresa mitjana ponderada segons la dimensio dels subconnjunts anteriors\n",
        "                    weighted_gini = (\n",
        "                        (len(y_left) * gini_left + len(y_right) * gini_right + len(y_null) * gini_null) / len(y)\n",
        "                    )\n",
        "                    #Calcul del gain global, per saber quant ha millorat el node\n",
        "                    gain = current_gini - weighted_gini\n",
        "\n",
        "                    #Historial que es sobreescriu per quedarnos al final amb el milllor gain i els parametres relacionats\n",
        "                    if gain > best_gain:\n",
        "                        best_gain = gain\n",
        "                        best_feature = feature\n",
        "                        best_threshold = val\n",
        "                        best_is_categorical = True\n",
        "\n",
        "            else:\n",
        "                # NUMÈRIQUES\n",
        "                thresholds = col.dropna().unique()  # Elimina NaNs per trobar valors reals\n",
        "                for threshold in thresholds:\n",
        "                    if pd.isna(threshold):  # Evitem thresholds nuls\n",
        "                        continue\n",
        "\n",
        "                    left_mask = col <= threshold\n",
        "                    right_mask = col > threshold\n",
        "                    null_mask = col.isna()\n",
        "\n",
        "                    if left_mask.sum() == 0 or right_mask.sum() == 0:\n",
        "                        continue\n",
        "\n",
        "                    y_left, y_right, y_null = y[left_mask], y[right_mask], y[null_mask]\n",
        "                    gini_left, gini_right, gini_null = self._gini(y_left), self._gini(y_right), self._gini(y_null)\n",
        "                    weighted_gini = (\n",
        "                        (len(y_left) * gini_left + len(y_right) * gini_right + len(y_null) * gini_null) / len(y)\n",
        "                    )\n",
        "                    gain = current_gini - weighted_gini\n",
        "\n",
        "                    if gain > best_gain:\n",
        "                        best_gain = gain\n",
        "                        best_feature = feature\n",
        "                        best_threshold = threshold\n",
        "                        best_is_categorical = False\n",
        "\n",
        "        # Si no es troba un gain millor a 0 o threshold és null, retorna None per indicar que no es pot construir més ---> (fulla)\n",
        "        if best_feature is None or pd.isna(best_threshold):\n",
        "            return None, None, None\n",
        "        else:\n",
        "            return best_feature, best_threshold, best_is_categorical\n",
        "\n",
        "    def _split_dataset(self, X: pd.DataFrame, y: pd.Series, feature, threshold, is_categorical):\n",
        "        \"\"\"Divideix el dataset en tres subconjunts: esquerra, dreta i valors nuls.\n",
        "        Per categòriques: esquerra = igualtat, dreta = diferent. Per numèriques: esquerra = <= threshold, dreta = > threshold.\n",
        "        \"\"\"\n",
        "        col = X.iloc[:, feature] #Accedim a la columna feature\n",
        "\n",
        "        if is_categorical:\n",
        "            left_mask = col == threshold     # Pertinença (categoria igual)\n",
        "            right_mask = col != threshold    # Categoria diferent\n",
        "        else:\n",
        "            left_mask = col <= threshold     # Numèrica segons threshold\n",
        "            right_mask = col > threshold\n",
        "\n",
        "        null_mask = col.isna()\n",
        "\n",
        "        return (\n",
        "            X[left_mask], y[left_mask],\n",
        "            X[right_mask], y[right_mask],\n",
        "            X[null_mask], y[null_mask]\n",
        "        )\n",
        "\n",
        "    def _build_tree(self, X: pd.DataFrame, y: pd.Series, depth):\n",
        "        \"\"\"Construcció recursiva de l'arbre, incloent una branca per valors nuls.\"\"\"\n",
        "\n",
        "        #Si s'ha de crear fulla es retorna la classe majoritaria\n",
        "        #Raons: max depth, poques mostres per dividir o totes les clases son la mateixa\n",
        "        if depth == self.max_depth or len(X) < self.min_samples_split or self._gini(y) == 0:\n",
        "            return self._most_common_class(y)\n",
        "\n",
        "        #Es busca el seguent millor split\n",
        "        best_feature, best_threshold, is_categorical = self._best_split(X, y)\n",
        "\n",
        "        #Si no s'ha trobat un split millor, retornem classe majoritaria, es crea fulla\n",
        "        if best_feature is None or pd.isna(best_threshold):\n",
        "            return self._most_common_class(y)\n",
        "\n",
        "        #Es divideix el dataset segons el best_split trobat\n",
        "        X_left, y_left, X_right, y_right, X_null, y_null = self._split_dataset(X, y, best_feature, best_threshold, is_categorical)\n",
        "\n",
        "        #Es crea la branca especial peer nulls i es retorna fulla si no hi ha nulls a la branca, sino es continua recursivament\n",
        "        if len(y_null) == 0:\n",
        "            null_branch = self._most_common_class(y)\n",
        "        else:\n",
        "            null_branch = self._build_tree(X_null, y_null, depth + 1)\n",
        "\n",
        "        #Return i crida rescursiva\n",
        "        return {\n",
        "            'feature': best_feature,\n",
        "            'threshold': best_threshold,\n",
        "            'is_categorical': is_categorical,\n",
        "            'left': self._build_tree(X_left, y_left, depth + 1),\n",
        "            'right': self._build_tree(X_right, y_right, depth + 1),\n",
        "            'null': null_branch,\n",
        "            'depth': depth\n",
        "        }\n",
        "\n",
        "    def _predict_one(self, row: pd.Series, node):\n",
        "        \"\"\"Passa una única mostra per l'arbre fins a trobar una fulla, manejant valors nuls i categòrics.\"\"\"\n",
        "        if not isinstance(node, dict):\n",
        "            return node  # Si és una fulla, retornem la predicció\n",
        "\n",
        "        #Rceuperem info del node\n",
        "        feature = node[\"feature\"]\n",
        "        threshold = node[\"threshold\"]\n",
        "        is_categorical = node.get(\"is_categorical\", False)\n",
        "\n",
        "        value = row.iloc[feature]\n",
        "\n",
        "        # Tractament de valors numerics com a strings ex:\"5\", Pandas els pot passar a strings a vegades, han de ser Float\n",
        "        try:\n",
        "            if not is_categorical:\n",
        "                value = float(value)\n",
        "        except (ValueError, TypeError):\n",
        "            value = np.nan\n",
        "\n",
        "        # Si és NaN, seguim la branca \"null\"\n",
        "        if pd.isna(value):\n",
        "            return self._predict_one(row, node[\"null\"]) if \"null\" in node else self._most_common_class(self.y_train)\n",
        "\n",
        "        # Comparació segons tipus de variable\n",
        "        if is_categorical:\n",
        "            if value == threshold:\n",
        "                return self._predict_one(row, node[\"left\"])\n",
        "            else:\n",
        "                return self._predict_one(row, node[\"right\"])\n",
        "        else:\n",
        "            if value <= threshold:\n",
        "                return self._predict_one(row, node[\"left\"])\n",
        "            else:\n",
        "                return self._predict_one(row, node[\"right\"])\n",
        "\n",
        "    def predict(self, X: pd.DataFrame):\n",
        "        \"\"\"Prediu la classe per a totes les mostres de X utilitzant un sol arbre de decisió.\"\"\"\n",
        "        #Llista de prediccions\n",
        "        predictions = np.array([self._predict_one(row, self.tree) for _, row in X.iterrows()])\n",
        "        #Detecta si hi ha una prediccio buida i s'omple amb la classe mes comuna\n",
        "        nan_mask = pd.isna(predictions)\n",
        "        if np.any(nan_mask):\n",
        "            predictions[nan_mask] = self._most_common_class(self.y_train)\n",
        "\n",
        "        return predictions\n",
        "\n",
        "    def _most_common_class(self, y):\n",
        "        \"\"\"Retorna la classe majoritaria\"\"\"\n",
        "        #Elimina valors buits del target y\n",
        "        y = y.dropna()\n",
        "        #Troba el valor mes frequent(moda)\n",
        "        mode_result = y.mode()\n",
        "        return mode_result.iloc[0]"
      ]
    },
    {
      "cell_type": "markdown",
      "source": [
        "# RANDOM FOREST"
      ],
      "metadata": {
        "id": "rCShu3qY0QEp"
      }
    },
    {
      "cell_type": "code",
      "execution_count": 6,
      "metadata": {
        "id": "ZWzKwQcoY4Uz"
      },
      "outputs": [],
      "source": [
        "class RandomForest:\n",
        "    \"\"\"\n",
        "    Ensemble de DecisionTree CART amb suport per a dades numèriques, categòriques i valors nuls.\n",
        "\n",
        "    Cada arbre s’entrena sobre una mostra bootstrap diferent i utilitza un\n",
        "    subconjunt aleatori de característiques per a cada split.\n",
        "\n",
        "    Parametres\n",
        "    ----------\n",
        "    n_trees : int\n",
        "        Nombre d’arbres en el bosc.\n",
        "    max_depth : Optional[int]\n",
        "        Profunditat màxima per arbre. Si és None, no es limita per profunditat.\n",
        "    max_features : Optional[int]\n",
        "        Nombre de característiques seleccionades aleatòriament per split. Si és None,\n",
        "        es consideren totes les característiques.\n",
        "    min_samples_split : int, default=2\n",
        "        Nombre mínim de mostres requerit per fer un split.\n",
        "    random_state : Optional[int]\n",
        "        Contrasenya per al generador aleatori, per reproducibilitat.\n",
        "    \"\"\"\n",
        "\n",
        "        #Constructor del bosc ---> Conjunt de DecisionTree's\n",
        "    def __init__(self, n_trees=10, max_depth=None, min_samples_split=2, max_features=None):\n",
        "        self.n_trees = n_trees\n",
        "        self.max_depth = max_depth\n",
        "        self.min_samples_split = min_samples_split\n",
        "        self.max_features = max_features\n",
        "        self.trees = []\n",
        "\n",
        "    def _bootstrap_sample(self, X: pd.DataFrame, y: pd.Series):\n",
        "        \"\"\"Crear una mostra bootstrap amb reemplaçament (bagging), assegurant que es manté en format pandas\"\"\"\n",
        "        #Obtenim nombre total de mostres\n",
        "        n_samples = X.shape[0]\n",
        "        #Generem llista de index aleatoris\n",
        "        indices = np.random.choice(n_samples, size=n_samples, replace=True)\n",
        "        #Retornem llista amb valors aleatoris del dataset original --> Bagging\n",
        "        return X.iloc[indices], y.iloc[indices]\n",
        "\n",
        "    def fit(self, X: pd.DataFrame, y: pd.Series):\n",
        "        \"\"\"Entrena el RF entrenant multiples arbres\"\"\"\n",
        "        self.trees = []  # Reinicialitza la llista d'arbres en cada entrenament\n",
        "\n",
        "        for _ in range(self.n_trees):\n",
        "            #Crea amb bagging una mostra aleatoria pe cada arbre\n",
        "            X_sample, y_sample = self._bootstrap_sample(X, y)\n",
        "            #Crea el Decison Tree\n",
        "            tree = DecisionTree(max_depth=self.max_depth,\n",
        "                                min_samples_split=self.min_samples_split,\n",
        "                                feature_subset=self.max_features)\n",
        "            #Entrenem el Decison Tree\n",
        "            tree.fit(X_sample, y_sample)\n",
        "            #S'afageix el Decsion Tree al conjunt d'arbres(Random Forest) per participar en la predicció\n",
        "            self.trees.append(tree)\n",
        "\n",
        "    def predict(self, X: pd.DataFrame):\n",
        "        \"\"\"Prediu la classe per a totes les mostres combinant les prediccions dels arbres.\"\"\"\n",
        "\n",
        "        #Recollim totes les prediccions de cada arbre com arrays 1D\n",
        "        #Cada arbre retorna un array de prediccions, una per mostra\n",
        "        #Tree_predictions sera una matriu de n_arbresXn_mostres\n",
        "        tree_predictions = [\n",
        "            np.ravel(tree.predict(X)) for tree in self.trees\n",
        "        ]\n",
        "\n",
        "        # Les posem en DataFrame transposat: files = mostres, columnes = arbres\n",
        "        tree_predictions_df = pd.DataFrame(tree_predictions).T\n",
        "\n",
        "        # Votació per majoria, troba el valor mes frequent per fila\n",
        "        final_predictions = tree_predictions_df.mode(axis=1)[0]\n",
        "\n",
        "        #Retorna un pd.series amb les prediccions de totes les mostres\n",
        "        return final_predictions\n",
        "\n",
        "    def _majority_vote(self, predictions: pd.Series):\n",
        "        \"\"\"Retorna la classe mes comuna\"\"\"\n",
        "        return predictions.mode()[0]  #usa `pandas.mode()`, més eficient, es retorna un únic valor, la prediccio final"
      ]
    },
    {
      "cell_type": "markdown",
      "metadata": {
        "id": "kS3b5hfNowK8"
      },
      "source": [
        "# Functions"
      ]
    },
    {
      "cell_type": "markdown",
      "metadata": {
        "id": "82D-mh1En2Mv"
      },
      "source": [
        "Graph Function"
      ]
    },
    {
      "cell_type": "code",
      "execution_count": 7,
      "metadata": {
        "id": "QaceUnzIdS8p"
      },
      "outputs": [],
      "source": [
        "from graphviz import Digraph\n",
        "from pandas.api.types import is_categorical_dtype, is_object_dtype\n",
        "import pandas as pd, numpy as np\n",
        "\n",
        "def visualize_tree(tree, Xdata, parent=None, edge_label=None, graph=None):\n",
        "    \"\"\"Funció recursiva per dibuixar l'arbre, amb branches NULL i splits categòrics.\"\"\"\n",
        "    if graph is None:\n",
        "        graph = Digraph(format=\"png\")\n",
        "\n",
        "    if isinstance(tree, dict):\n",
        "        feature_idx = tree['feature']\n",
        "        col_name    = Xdata.columns[feature_idx]\n",
        "        threshold   = tree['threshold']\n",
        "\n",
        "        # 1) Detectem dtype real\n",
        "        is_categorical = is_categorical_dtype(Xdata[col_name]) \\\n",
        "                      or is_object_dtype(Xdata[col_name])\n",
        "\n",
        "\n",
        "        # 2) Formatem l’etiqueta del node\n",
        "        thr_str   = f\"{threshold:.2f}\" if isinstance(threshold, float) else str(threshold)\n",
        "        node_lbl  = f\"{col_name}\\nThreshold: {thr_str}\"\n",
        "        node_id   = str(id(tree))\n",
        "        graph.node(node_id, node_lbl, style=\"filled\", fillcolor=\"lightblue\")\n",
        "        if parent:\n",
        "            graph.edge(parent, node_id, label=edge_label)\n",
        "\n",
        "        # 3) Triarem els símbols segons el tipus\n",
        "        left_lbl  = \"==\" if is_categorical else \"≤\"\n",
        "        right_lbl = \"!=\" if is_categorical else \">\"\n",
        "\n",
        "        # 4) Crides recursives (sempre passant Xdata!)\n",
        "        visualize_tree(tree['left'],  Xdata, node_id, left_lbl,  graph)\n",
        "        visualize_tree(tree['right'], Xdata, node_id, right_lbl, graph)\n",
        "        if 'null' in tree:\n",
        "            visualize_tree(tree['null'], Xdata, node_id, \"NULL\", graph)\n",
        "\n",
        "    else:\n",
        "        # Bloc fulla: extraiem un valor escalar\n",
        "        if isinstance(tree, pd.Series):\n",
        "            leaf_val = tree.iloc[0]\n",
        "        elif isinstance(tree, (list, np.ndarray, tuple)):\n",
        "            leaf_val = tree[0]\n",
        "        else:\n",
        "            leaf_val = tree\n",
        "\n",
        "        node_lbl = f\"Leaf: {leaf_val:.2f}\"\n",
        "        node_id  = str(id(tree))\n",
        "        graph.node(node_id, node_lbl, shape=\"box\", style=\"filled\", fillcolor=\"lightgreen\")\n",
        "        if parent:\n",
        "            graph.edge(parent, node_id, label=edge_label)\n",
        "\n",
        "    return graph"
      ]
    },
    {
      "cell_type": "markdown",
      "source": [
        "Funcio per trobar parametres optims"
      ],
      "metadata": {
        "id": "9AllV9ST0cUo"
      }
    },
    {
      "cell_type": "code",
      "source": [
        "def optimal_params(Xdata):\n",
        "    \"\"\" Toba els valors optims per entrenar segons les dimensions d'un dataset\"\"\"\n",
        "    n_files = Xdata.shape[0]\n",
        "    n_features = Xdata.shape[1]\n",
        "\n",
        "    print(f\" Dataset: {n_files} files, {n_features} columnes\")\n",
        "\n",
        "    if n_files <= 1000:\n",
        "        print(\"\\n Recomanació per a *dataset petit* (≤ 1000 files):\")\n",
        "        print(\"  - n_trees: 10–50\")\n",
        "        print(\"  - max_depth: 5–10\")\n",
        "        print(\"  - min_samples_split: 2–5\")\n",
        "        print(f\"  - max_features: 1–3 o sqrt(n) = {int(np.sqrt(n_features))}\")\n",
        "    else:\n",
        "        print(\"\\n Recomanació per a *dataset gran* (> 10.000 files):\")\n",
        "        print(\"  - n_trees: 100–200\")\n",
        "        print(\"  - max_depth: 10–20\")\n",
        "        print(\"  - min_samples_split: 10–20\")\n",
        "        print(f\"  - max_features: sqrt(n) = {int(np.sqrt(n_features))}\")"
      ],
      "metadata": {
        "id": "X-EV4CDXRoqv"
      },
      "execution_count": 8,
      "outputs": []
    },
    {
      "cell_type": "markdown",
      "metadata": {
        "id": "nYpxInoqP-rW"
      },
      "source": [
        "# DATASETS"
      ]
    },
    {
      "cell_type": "code",
      "source": [
        "from ucimlrepo import fetch_ucirepo\n",
        "\n",
        "# MAMOGRAPGHIC MASS\n",
        "# https://archive.ics.uci.edu/dataset/161/mammographic+mass\n",
        "\n",
        "mammographic_mass = fetch_ucirepo(id=161)\n",
        "\n",
        "# data (as pandas dataframes)\n",
        "Xdata = mammographic_mass.data.features\n",
        "ydata_full= mammographic_mass.data.targets\n",
        "\n",
        "\n"
      ],
      "metadata": {
        "id": "qAIR-pp4rKjX"
      },
      "execution_count": 36,
      "outputs": []
    },
    {
      "cell_type": "markdown",
      "source": [
        "# ANALISIS DEL DATASET"
      ],
      "metadata": {
        "id": "t41zSznysitl"
      }
    },
    {
      "cell_type": "markdown",
      "metadata": {
        "id": "8XcO_LqIsMYR"
      },
      "source": [
        "Analitzem Mostra de dades"
      ]
    },
    {
      "cell_type": "code",
      "execution_count": 37,
      "metadata": {
        "colab": {
          "base_uri": "https://localhost:8080/"
        },
        "id": "ZAN9iwyswrIw",
        "outputId": "4ab1f3a8-4a4d-4125-bec8-594109792b3f"
      },
      "outputs": [
        {
          "output_type": "stream",
          "name": "stdout",
          "text": [
            "Mostra de dades:\n",
            "   BI-RADS   Age  Shape  Margin  Density\n",
            "0      5.0  67.0    3.0     5.0      3.0\n",
            "1      4.0  43.0    1.0     1.0      NaN\n",
            "2      5.0  58.0    4.0     5.0      3.0\n",
            "3      4.0  28.0    1.0     1.0      3.0\n",
            "4      5.0  74.0    1.0     5.0      NaN\n",
            "\n",
            " Dimensions: 961 files, 5 columnes\n",
            "\n",
            " Valors únics (primeres 5 columnes com a exemple):\n",
            "BI-RADS: [ 5.  4.  3. nan  2. 55.  0.  6.]\n",
            "Age: [67. 43. 58. 28. 74. 65. 70. 42. 57. 60. 76. 64. 36. 54. 52. 59. 40. 66.\n",
            " 56. 75. 63. 45. 55. 46. 39. 81. 77. 48. 78. 50. 61. 62. 44. 23. 80. 53.\n",
            " 49. 51. 25. 72. 73. 68. 33. 47. 29. 34. 71. 84. 24. 86. 41. 87. 21. 19.\n",
            " 35. 37. 79. 85. 69. 38. 32. 27. 83. 88. 26. 31. nan 18. 82. 93. 30. 22.\n",
            " 96. 20.]\n",
            "Shape: [ 3.  1.  4. nan  2.]\n",
            "Margin: [ 5.  1. nan  4.  3.  2.]\n",
            "Density: [ 3. nan  1.  2.  4.]\n",
            "\n",
            " Columnes amb valors nuls (NaN):\n",
            "BI-RADS: 2 nuls (0.21%)\n",
            "Age: 5 nuls (0.52%)\n",
            "Shape: 31 nuls (3.23%)\n",
            "Margin: 48 nuls (4.99%)\n",
            "Density: 76 nuls (7.91%)\n",
            "\n",
            " Valors sospitosos (-1, '?') per columna:\n",
            "\n",
            " Tipus de variables: 5 numèriques, 0 categòriques\n"
          ]
        }
      ],
      "source": [
        "print(\"Mostra de dades:\")\n",
        "print(Xdata.head())\n",
        "\n",
        "# Dimensions del dataset\n",
        "print(f\"\\n Dimensions: {Xdata.shape[0]} files, {Xdata.shape[1]} columnes\")\n",
        "\n",
        "# Valors únics (primeres 5 columnes com a exemple)\n",
        "print(\"\\n Valors únics (primeres 5 columnes com a exemple):\")\n",
        "for col in Xdata.columns[:5]:\n",
        "    print(f\"{col}: {Xdata[col].unique()}\")\n",
        "\n",
        "# Anàlisi de valors nuls\n",
        "print(\"\\n Columnes amb valors nuls (NaN):\")\n",
        "nulls = Xdata.isnull().sum()\n",
        "nulls_percent = (nulls / len(Xdata)) * 100\n",
        "for col in Xdata.columns:\n",
        "    if nulls[col] > 0:\n",
        "        print(f\"{col}: {nulls[col]} nuls ({nulls_percent[col]:.2f}%)\")\n",
        "\n",
        "# Anàlisi de valors sospitosos com -1 o \"?\"\n",
        "print(\"\\n Valors sospitosos (-1, '?') per columna:\")\n",
        "for col in Xdata.columns:\n",
        "    suspicious = ((Xdata[col] == -1) | (Xdata[col] == \"?\")).sum()\n",
        "    if suspicious > 0:\n",
        "        print(f\"{col}: {suspicious} valors sospitosos\")\n",
        "\n",
        "# Tipus de variables\n",
        "num_vars = Xdata.select_dtypes(include=['int64', 'float64']).shape[1]\n",
        "cat_vars = Xdata.select_dtypes(include=['object', 'category']).shape[1]\n",
        "print(f\"\\n Tipus de variables: {num_vars} numèriques, {cat_vars} categòriques\")"
      ]
    },
    {
      "cell_type": "code",
      "source": [
        "#Parametres optims per fer el RF\n",
        "optimal_params(Xdata)"
      ],
      "metadata": {
        "colab": {
          "base_uri": "https://localhost:8080/"
        },
        "id": "d6u1GUvwR-zE",
        "outputId": "29ace438-3d26-4b79-bf8a-3353680055bb"
      },
      "execution_count": 38,
      "outputs": [
        {
          "output_type": "stream",
          "name": "stdout",
          "text": [
            " Dataset: 961 files, 5 columnes\n",
            "\n",
            " Recomanació per a *dataset petit* (≤ 1000 files):\n",
            "  - n_trees: 10–50\n",
            "  - max_depth: 5–10\n",
            "  - min_samples_split: 2–5\n",
            "  - max_features: 1–3 o sqrt(n) = 2\n"
          ]
        }
      ]
    },
    {
      "cell_type": "markdown",
      "metadata": {
        "id": "J5lW35Hbsc9l"
      },
      "source": [
        "Analitzem Dades Target"
      ]
    },
    {
      "cell_type": "code",
      "execution_count": 39,
      "metadata": {
        "colab": {
          "base_uri": "https://localhost:8080/"
        },
        "id": "Fkk-ZqSCf2Yc",
        "outputId": "e5e0a158-c692-41cc-a93b-cbd6461be781"
      },
      "outputs": [
        {
          "output_type": "stream",
          "name": "stdout",
          "text": [
            "   Severity\n",
            "0         1\n",
            "1         1\n",
            "2         1\n",
            "3         0\n",
            "4         1\n"
          ]
        }
      ],
      "source": [
        "#Posibles targets\n",
        "print(ydata_full.head())"
      ]
    },
    {
      "cell_type": "code",
      "execution_count": 40,
      "metadata": {
        "colab": {
          "base_uri": "https://localhost:8080/"
        },
        "id": "Zv7h8o10vYrZ",
        "outputId": "07705a67-3492-4972-c03e-02da3dc08122"
      },
      "outputs": [
        {
          "output_type": "stream",
          "name": "stdout",
          "text": [
            "[1 0]\n"
          ]
        }
      ],
      "source": [
        "ydata = ydata_full\n",
        "print(ydata[\"Severity\"].unique()) #Mirar posibles valors del target"
      ]
    },
    {
      "cell_type": "code",
      "source": [
        "#Proporcio ydata, per saber el balanceig i afegir oversampling si cal\n",
        "proporcions = ydata[\"Severity\"].value_counts(normalize=True) * 100\n",
        "print(proporcions.round(2))  # Mostrem amb 2 decimals"
      ],
      "metadata": {
        "colab": {
          "base_uri": "https://localhost:8080/"
        },
        "id": "_WGcp2GSVhbx",
        "outputId": "cbf191ad-9518-45e9-d145-9e8f49d1f0be"
      },
      "execution_count": 41,
      "outputs": [
        {
          "output_type": "stream",
          "name": "stdout",
          "text": [
            "Severity\n",
            "0    53.69\n",
            "1    46.31\n",
            "Name: proportion, dtype: float64\n"
          ]
        }
      ]
    },
    {
      "cell_type": "markdown",
      "source": [
        "# MAIN TEST"
      ],
      "metadata": {
        "id": "1mOWKgQz2y-O"
      }
    },
    {
      "cell_type": "code",
      "execution_count": 42,
      "metadata": {
        "colab": {
          "base_uri": "https://localhost:8080/"
        },
        "id": "ZvPgsshQIazI",
        "outputId": "04a179ab-0726-48dd-f74c-1a2f80c4a8aa"
      },
      "outputs": [
        {
          "output_type": "stream",
          "name": "stderr",
          "text": [
            "<ipython-input-42-ec955896cef1>:11: SettingWithCopyWarning: \n",
            "A value is trying to be set on a copy of a slice from a DataFrame\n",
            "\n",
            "See the caveats in the documentation: https://pandas.pydata.org/pandas-docs/stable/user_guide/indexing.html#returning-a-view-versus-a-copy\n",
            "  Xdata.replace(['?', -1, 'unknown', 'Unknown', ''], np.nan, inplace=True)\n"
          ]
        },
        {
          "output_type": "stream",
          "name": "stdout",
          "text": [
            "X_test shape: (193, 5)\n",
            "y_test shape: (193, 1)\n",
            "\n",
            " Predicció del model:\n",
            "Tipus: <class 'pandas.core.series.Series'>\n",
            "Forma: (193,)\n",
            "Primers valors: [1 1 0 0 1 1 1 1 1 1]\n",
            " Temps de predicció: 0.3272 s\n",
            "\n",
            " Mètriques de classificació:\n",
            "Accuracy: 0.8238\n",
            "Precision: 0.8373\n",
            "Recall: 0.8317\n",
            "F1 Score: 0.8236\n",
            "\n",
            " Matriu de confusió:\n",
            "[[76 28]\n",
            " [ 6 83]]\n",
            "\n",
            " Informe de classificació:\n",
            "              precision    recall  f1-score   support\n",
            "\n",
            "           0       0.93      0.73      0.82       104\n",
            "           1       0.75      0.93      0.83        89\n",
            "\n",
            "    accuracy                           0.82       193\n",
            "   macro avg       0.84      0.83      0.82       193\n",
            "weighted avg       0.84      0.82      0.82       193\n",
            "\n"
          ]
        }
      ],
      "source": [
        "from sklearn.metrics import (\n",
        "    accuracy_score,\n",
        "    precision_score,\n",
        "    recall_score,\n",
        "    f1_score,\n",
        "    confusion_matrix,\n",
        "    classification_report\n",
        ")\n",
        "\n",
        "# Substitueix valors especials per NaN\n",
        "Xdata.replace(['?', -1, 'unknown', 'Unknown', ''], np.nan, inplace=True)\n",
        "\n",
        "# Divisió en train i test\n",
        "#Amb stratify mantenim prorporcio de la clase en test i train\n",
        "X_train, X_test, y_train, y_test = train_test_split(Xdata, ydata, test_size=0.2, random_state=42, stratify=ydata)\n",
        "print(\"X_test shape:\", X_test.shape)\n",
        "print(\"y_test shape:\", y_test.shape)\n",
        "# // ----- SAMPLING -----\n",
        "\n",
        "#Afegir aqui oversampling o undersampling\n",
        "\n",
        "# ----- SAMPLING -----\n",
        "\n",
        "# Entrenar el model amb el nou RandomForest adaptat\n",
        "rf_custom = RandomForest(n_trees=25, max_depth=5, max_features=2)\n",
        "rf_custom.fit(X_train, y_train)\n",
        "\n",
        "# Predir amb el Random Forest personalitzat\n",
        "start_time = time.time()\n",
        "y_pred_custom = rf_custom.predict(X_test)\n",
        "time_custom = time.time() - start_time\n",
        "\n",
        "# Validació de resultats\n",
        "print(\"\\n Predicció del model:\")\n",
        "print(f\"Tipus: {type(y_pred_custom)}\")\n",
        "print(f\"Forma: {y_pred_custom.shape}\")\n",
        "print(f\"Primers valors: {y_pred_custom[:10].values if isinstance(y_pred_custom, pd.Series) else y_pred_custom[:10]}\")\n",
        "print(f\" Temps de predicció: {time_custom:.4f} s\")\n",
        "\n",
        "# Avaluació amb múltiples mètriques\n",
        "print(\"\\n Mètriques de classificació:\")\n",
        "\n",
        "print(f\"Accuracy: {accuracy_score(y_test, y_pred_custom):.4f}\")\n",
        "print(f\"Precision: {precision_score(y_test, y_pred_custom, average='macro'):.4f}\")\n",
        "print(f\"Recall: {recall_score(y_test, y_pred_custom, average='macro'):.4f}\")\n",
        "print(f\"F1 Score: {f1_score(y_test, y_pred_custom, average='macro'):.4f}\")\n",
        "\n",
        "print(\"\\n Matriu de confusió:\")\n",
        "print(confusion_matrix(y_test, y_pred_custom))\n",
        "\n",
        "# Resum complet per classe\n",
        "print(\"\\n Informe de classificació:\")\n",
        "print(classification_report(y_test, y_pred_custom))\n"
      ]
    },
    {
      "cell_type": "markdown",
      "source": [
        "Visualitzacio d'un arbre d'entrenament"
      ],
      "metadata": {
        "id": "yU64zsPU3SeJ"
      }
    },
    {
      "cell_type": "code",
      "source": [
        "treeView = rf_custom.trees[1].tree\n",
        "graph = visualize_tree(treeView, X_train)\n",
        "\n",
        "graph"
      ],
      "metadata": {
        "colab": {
          "base_uri": "https://localhost:8080/",
          "height": 832
        },
        "id": "RLEUnIM8zxyo",
        "outputId": "7b8d5c13-3496-4b79-969d-d6daf2197360"
      },
      "execution_count": 31,
      "outputs": [
        {
          "output_type": "stream",
          "name": "stderr",
          "text": [
            "<ipython-input-7-f8d1809ce0f8>:16: DeprecationWarning: is_categorical_dtype is deprecated and will be removed in a future version. Use isinstance(dtype, pd.CategoricalDtype) instead\n",
            "  is_categorical = is_categorical_dtype(Xdata[col_name]) \\\n"
          ]
        },
        {
          "output_type": "execute_result",
          "data": {
            "image/svg+xml": "<?xml version=\"1.0\" encoding=\"UTF-8\" standalone=\"no\"?>\n<!DOCTYPE svg PUBLIC \"-//W3C//DTD SVG 1.1//EN\"\n \"http://www.w3.org/Graphics/SVG/1.1/DTD/svg11.dtd\">\n<!-- Generated by graphviz version 2.43.0 (0)\n -->\n<!-- Title: %3 Pages: 1 -->\n<svg width=\"4107pt\" height=\"568pt\"\n viewBox=\"0.00 0.00 4107.00 567.70\" xmlns=\"http://www.w3.org/2000/svg\" xmlns:xlink=\"http://www.w3.org/1999/xlink\">\n<g id=\"graph0\" class=\"graph\" transform=\"scale(1 1) rotate(0) translate(4 563.7)\">\n<title>%3</title>\n<polygon fill=\"white\" stroke=\"transparent\" points=\"-4,4 -4,-563.7 4103,-563.7 4103,4 -4,4\"/>\n<!-- 135038446037184 -->\n<g id=\"node1\" class=\"node\">\n<title>135038446037184</title>\n<ellipse fill=\"lightblue\" stroke=\"black\" cx=\"3639.5\" cy=\"-532.83\" rx=\"72.66\" ry=\"26.74\"/>\n<text text-anchor=\"middle\" x=\"3639.5\" y=\"-536.63\" font-family=\"Times,serif\" font-size=\"14.00\">BI&#45;RADS</text>\n<text text-anchor=\"middle\" x=\"3639.5\" y=\"-521.63\" font-family=\"Times,serif\" font-size=\"14.00\">Threshold: 4.00</text>\n</g>\n<!-- 135038445732928 -->\n<g id=\"node2\" class=\"node\">\n<title>135038445732928</title>\n<ellipse fill=\"lightblue\" stroke=\"black\" cx=\"2491.5\" cy=\"-428.09\" rx=\"77.56\" ry=\"26.74\"/>\n<text text-anchor=\"middle\" x=\"2491.5\" y=\"-431.89\" font-family=\"Times,serif\" font-size=\"14.00\">Age</text>\n<text text-anchor=\"middle\" x=\"2491.5\" y=\"-416.89\" font-family=\"Times,serif\" font-size=\"14.00\">Threshold: 66.00</text>\n</g>\n<!-- 135038446037184&#45;&gt;135038445732928 -->\n<g id=\"edge1\" class=\"edge\">\n<title>135038446037184&#45;&gt;135038445732928</title>\n<path fill=\"none\" stroke=\"black\" d=\"M3568.99,-525.52C3368.14,-507.54 2793.58,-456.12 2576.2,-436.67\"/>\n<polygon fill=\"black\" stroke=\"black\" points=\"2576.4,-433.17 2566.12,-435.77 2575.77,-440.15 2576.4,-433.17\"/>\n<text text-anchor=\"middle\" x=\"3138.5\" y=\"-476.76\" font-family=\"Times,serif\" font-size=\"14.00\">≤</text>\n</g>\n<!-- 135038446034368 -->\n<g id=\"node60\" class=\"node\">\n<title>135038446034368</title>\n<ellipse fill=\"lightblue\" stroke=\"black\" cx=\"3639.5\" cy=\"-428.09\" rx=\"77.56\" ry=\"26.74\"/>\n<text text-anchor=\"middle\" x=\"3639.5\" y=\"-431.89\" font-family=\"Times,serif\" font-size=\"14.00\">Age</text>\n<text text-anchor=\"middle\" x=\"3639.5\" y=\"-416.89\" font-family=\"Times,serif\" font-size=\"14.00\">Threshold: 64.00</text>\n</g>\n<!-- 135038446037184&#45;&gt;135038446034368 -->\n<g id=\"edge59\" class=\"edge\">\n<title>135038446037184&#45;&gt;135038446034368</title>\n<path fill=\"none\" stroke=\"black\" d=\"M3639.5,-505.9C3639.5,-493.62 3639.5,-478.73 3639.5,-465.34\"/>\n<polygon fill=\"black\" stroke=\"black\" points=\"3643,-465.01 3639.5,-455.01 3636,-465.01 3643,-465.01\"/>\n<text text-anchor=\"middle\" x=\"3644\" y=\"-476.76\" font-family=\"Times,serif\" font-size=\"14.00\">&gt;</text>\n</g>\n<!-- 135038548425936 -->\n<g id=\"node88\" class=\"node\">\n<title>135038548425936</title>\n<polygon fill=\"lightgreen\" stroke=\"black\" points=\"3808,-446.09 3735,-446.09 3735,-410.09 3808,-410.09 3808,-446.09\"/>\n<text text-anchor=\"middle\" x=\"3771.5\" y=\"-424.39\" font-family=\"Times,serif\" font-size=\"14.00\">Leaf: 0.00</text>\n</g>\n<!-- 135038446037184&#45;&gt;135038548425936 -->\n<g id=\"edge87\" class=\"edge\">\n<title>135038446037184&#45;&gt;135038548425936</title>\n<path fill=\"none\" stroke=\"black\" d=\"M3669.78,-508.26C3691.29,-491.52 3720.03,-469.15 3741.47,-452.46\"/>\n<polygon fill=\"black\" stroke=\"black\" points=\"3743.85,-455.05 3749.59,-446.14 3739.55,-449.52 3743.85,-455.05\"/>\n<text text-anchor=\"middle\" x=\"3732\" y=\"-476.76\" font-family=\"Times,serif\" font-size=\"14.00\">NULL</text>\n</g>\n<!-- 135038444389952 -->\n<g id=\"node3\" class=\"node\">\n<title>135038444389952</title>\n<ellipse fill=\"lightblue\" stroke=\"black\" cx=\"1111.5\" cy=\"-323.35\" rx=\"72.66\" ry=\"26.74\"/>\n<text text-anchor=\"middle\" x=\"1111.5\" y=\"-327.15\" font-family=\"Times,serif\" font-size=\"14.00\">Margin</text>\n<text text-anchor=\"middle\" x=\"1111.5\" y=\"-312.15\" font-family=\"Times,serif\" font-size=\"14.00\">Threshold: 2.00</text>\n</g>\n<!-- 135038445732928&#45;&gt;135038444389952 -->\n<g id=\"edge2\" class=\"edge\">\n<title>135038445732928&#45;&gt;135038444389952</title>\n<path fill=\"none\" stroke=\"black\" d=\"M2415.83,-421.46C2176.85,-403.67 1439.48,-348.77 1192.82,-330.4\"/>\n<polygon fill=\"black\" stroke=\"black\" points=\"1192.73,-326.89 1182.5,-329.64 1192.21,-333.87 1192.73,-326.89\"/>\n<text text-anchor=\"middle\" x=\"1888.5\" y=\"-372.02\" font-family=\"Times,serif\" font-size=\"14.00\">≤</text>\n</g>\n<!-- 135038445674880 -->\n<g id=\"node34\" class=\"node\">\n<title>135038445674880</title>\n<ellipse fill=\"lightblue\" stroke=\"black\" cx=\"2425.5\" cy=\"-323.35\" rx=\"77.56\" ry=\"26.74\"/>\n<text text-anchor=\"middle\" x=\"2425.5\" y=\"-327.15\" font-family=\"Times,serif\" font-size=\"14.00\">Age</text>\n<text text-anchor=\"middle\" x=\"2425.5\" y=\"-312.15\" font-family=\"Times,serif\" font-size=\"14.00\">Threshold: 70.00</text>\n</g>\n<!-- 135038445732928&#45;&gt;135038445674880 -->\n<g id=\"edge33\" class=\"edge\">\n<title>135038445732928&#45;&gt;135038445674880</title>\n<path fill=\"none\" stroke=\"black\" d=\"M2475.19,-401.69C2466.78,-388.6 2456.41,-372.46 2447.32,-358.32\"/>\n<polygon fill=\"black\" stroke=\"black\" points=\"2450.21,-356.33 2441.86,-349.81 2444.32,-360.12 2450.21,-356.33\"/>\n<text text-anchor=\"middle\" x=\"2467\" y=\"-372.02\" font-family=\"Times,serif\" font-size=\"14.00\">&gt;</text>\n</g>\n<!-- 135038446194960 -->\n<g id=\"node59\" class=\"node\">\n<title>135038446194960</title>\n<polygon fill=\"lightgreen\" stroke=\"black\" points=\"2594,-341.35 2521,-341.35 2521,-305.35 2594,-305.35 2594,-341.35\"/>\n<text text-anchor=\"middle\" x=\"2557.5\" y=\"-319.65\" font-family=\"Times,serif\" font-size=\"14.00\">Leaf: 0.00</text>\n</g>\n<!-- 135038445732928&#45;&gt;135038446194960 -->\n<g id=\"edge58\" class=\"edge\">\n<title>135038445732928&#45;&gt;135038446194960</title>\n<path fill=\"none\" stroke=\"black\" d=\"M2507.81,-401.69C2517.9,-386 2530.8,-365.91 2540.93,-350.14\"/>\n<polygon fill=\"black\" stroke=\"black\" points=\"2544.07,-351.73 2546.53,-341.42 2538.18,-347.94 2544.07,-351.73\"/>\n<text text-anchor=\"middle\" x=\"2547\" y=\"-372.02\" font-family=\"Times,serif\" font-size=\"14.00\">NULL</text>\n</g>\n<!-- 135038446060800 -->\n<g id=\"node4\" class=\"node\">\n<title>135038446060800</title>\n<ellipse fill=\"lightblue\" stroke=\"black\" cx=\"488.5\" cy=\"-218.61\" rx=\"72.66\" ry=\"26.74\"/>\n<text text-anchor=\"middle\" x=\"488.5\" y=\"-222.41\" font-family=\"Times,serif\" font-size=\"14.00\">BI&#45;RADS</text>\n<text text-anchor=\"middle\" x=\"488.5\" y=\"-207.41\" font-family=\"Times,serif\" font-size=\"14.00\">Threshold: 2.00</text>\n</g>\n<!-- 135038444389952&#45;&gt;135038446060800 -->\n<g id=\"edge3\" class=\"edge\">\n<title>135038444389952&#45;&gt;135038446060800</title>\n<path fill=\"none\" stroke=\"black\" d=\"M1046.01,-311.55C929.63,-292.36 687.46,-252.42 564.16,-232.09\"/>\n<polygon fill=\"black\" stroke=\"black\" points=\"564.49,-228.59 554.05,-230.42 563.35,-235.5 564.49,-228.59\"/>\n<text text-anchor=\"middle\" x=\"841.5\" y=\"-267.28\" font-family=\"Times,serif\" font-size=\"14.00\">≤</text>\n</g>\n<!-- 135038446241088 -->\n<g id=\"node14\" class=\"node\">\n<title>135038446241088</title>\n<ellipse fill=\"lightblue\" stroke=\"black\" cx=\"1076.5\" cy=\"-218.61\" rx=\"72.66\" ry=\"26.74\"/>\n<text text-anchor=\"middle\" x=\"1076.5\" y=\"-222.41\" font-family=\"Times,serif\" font-size=\"14.00\">Shape</text>\n<text text-anchor=\"middle\" x=\"1076.5\" y=\"-207.41\" font-family=\"Times,serif\" font-size=\"14.00\">Threshold: 2.00</text>\n</g>\n<!-- 135038444389952&#45;&gt;135038446241088 -->\n<g id=\"edge13\" class=\"edge\">\n<title>135038444389952&#45;&gt;135038446241088</title>\n<path fill=\"none\" stroke=\"black\" d=\"M1102.67,-296.42C1098.4,-283.89 1093.21,-268.66 1088.58,-255.07\"/>\n<polygon fill=\"black\" stroke=\"black\" points=\"1091.87,-253.86 1085.33,-245.53 1085.24,-256.12 1091.87,-253.86\"/>\n<text text-anchor=\"middle\" x=\"1101\" y=\"-267.28\" font-family=\"Times,serif\" font-size=\"14.00\">&gt;</text>\n</g>\n<!-- 135038457987712 -->\n<g id=\"node27\" class=\"node\">\n<title>135038457987712</title>\n<ellipse fill=\"lightblue\" stroke=\"black\" cx=\"1607.5\" cy=\"-218.61\" rx=\"72.66\" ry=\"26.74\"/>\n<text text-anchor=\"middle\" x=\"1607.5\" y=\"-222.41\" font-family=\"Times,serif\" font-size=\"14.00\">Density</text>\n<text text-anchor=\"middle\" x=\"1607.5\" y=\"-207.41\" font-family=\"Times,serif\" font-size=\"14.00\">Threshold: 3.00</text>\n</g>\n<!-- 135038444389952&#45;&gt;135038457987712 -->\n<g id=\"edge26\" class=\"edge\">\n<title>135038444389952&#45;&gt;135038457987712</title>\n<path fill=\"none\" stroke=\"black\" d=\"M1173.82,-309.44C1265.79,-290.39 1437.49,-254.83 1534.98,-234.63\"/>\n<polygon fill=\"black\" stroke=\"black\" points=\"1535.97,-238 1545.05,-232.55 1534.55,-231.15 1535.97,-238\"/>\n<text text-anchor=\"middle\" x=\"1408\" y=\"-267.28\" font-family=\"Times,serif\" font-size=\"14.00\">NULL</text>\n</g>\n<!-- 135038444391168 -->\n<g id=\"node5\" class=\"node\">\n<title>135038444391168</title>\n<ellipse fill=\"lightblue\" stroke=\"black\" cx=\"173.5\" cy=\"-113.87\" rx=\"77.56\" ry=\"26.74\"/>\n<text text-anchor=\"middle\" x=\"173.5\" y=\"-117.67\" font-family=\"Times,serif\" font-size=\"14.00\">Age</text>\n<text text-anchor=\"middle\" x=\"173.5\" y=\"-102.67\" font-family=\"Times,serif\" font-size=\"14.00\">Threshold: 49.00</text>\n</g>\n<!-- 135038446060800&#45;&gt;135038444391168 -->\n<g id=\"edge4\" class=\"edge\">\n<title>135038446060800&#45;&gt;135038444391168</title>\n<path fill=\"none\" stroke=\"black\" d=\"M435.06,-200.18C380.81,-182.48 296.72,-155.06 238.6,-136.1\"/>\n<polygon fill=\"black\" stroke=\"black\" points=\"239.38,-132.68 228.79,-132.9 237.21,-139.33 239.38,-132.68\"/>\n<text text-anchor=\"middle\" x=\"354.5\" y=\"-162.54\" font-family=\"Times,serif\" font-size=\"14.00\">≤</text>\n</g>\n<!-- 135038444394304 -->\n<g id=\"node9\" class=\"node\">\n<title>135038444394304</title>\n<ellipse fill=\"lightblue\" stroke=\"black\" cx=\"400.5\" cy=\"-113.87\" rx=\"72.66\" ry=\"26.74\"/>\n<text text-anchor=\"middle\" x=\"400.5\" y=\"-117.67\" font-family=\"Times,serif\" font-size=\"14.00\">Shape</text>\n<text text-anchor=\"middle\" x=\"400.5\" y=\"-102.67\" font-family=\"Times,serif\" font-size=\"14.00\">Threshold: 1.00</text>\n</g>\n<!-- 135038446060800&#45;&gt;135038444394304 -->\n<g id=\"edge8\" class=\"edge\">\n<title>135038446060800&#45;&gt;135038444394304</title>\n<path fill=\"none\" stroke=\"black\" d=\"M467.2,-192.74C455.61,-179.21 441.13,-162.3 428.62,-147.71\"/>\n<polygon fill=\"black\" stroke=\"black\" points=\"431.07,-145.19 421.91,-139.87 425.76,-149.74 431.07,-145.19\"/>\n<text text-anchor=\"middle\" x=\"455\" y=\"-162.54\" font-family=\"Times,serif\" font-size=\"14.00\">&gt;</text>\n</g>\n<!-- 135038446206544 -->\n<g id=\"node13\" class=\"node\">\n<title>135038446206544</title>\n<polygon fill=\"lightgreen\" stroke=\"black\" points=\"564,-131.87 491,-131.87 491,-95.87 564,-95.87 564,-131.87\"/>\n<text text-anchor=\"middle\" x=\"527.5\" y=\"-110.17\" font-family=\"Times,serif\" font-size=\"14.00\">Leaf: 0.00</text>\n</g>\n<!-- 135038446060800&#45;&gt;135038446206544 -->\n<g id=\"edge12\" class=\"edge\">\n<title>135038446060800&#45;&gt;135038446206544</title>\n<path fill=\"none\" stroke=\"black\" d=\"M498.24,-191.95C504.05,-176.64 511.42,-157.23 517.31,-141.71\"/>\n<polygon fill=\"black\" stroke=\"black\" points=\"520.66,-142.75 520.94,-132.16 514.11,-140.27 520.66,-142.75\"/>\n<text text-anchor=\"middle\" x=\"529\" y=\"-162.54\" font-family=\"Times,serif\" font-size=\"14.00\">NULL</text>\n</g>\n<!-- 135038444397840 -->\n<g id=\"node6\" class=\"node\">\n<title>135038444397840</title>\n<polygon fill=\"lightgreen\" stroke=\"black\" points=\"73,-36 0,-36 0,0 73,0 73,-36\"/>\n<text text-anchor=\"middle\" x=\"36.5\" y=\"-14.3\" font-family=\"Times,serif\" font-size=\"14.00\">Leaf: 0.00</text>\n</g>\n<!-- 135038444391168&#45;&gt;135038444397840 -->\n<g id=\"edge5\" class=\"edge\">\n<title>135038444391168&#45;&gt;135038444397840</title>\n<path fill=\"none\" stroke=\"black\" d=\"M139.63,-89.67C118.32,-75.06 90.94,-56.3 69.75,-41.78\"/>\n<polygon fill=\"black\" stroke=\"black\" points=\"71.6,-38.81 61.38,-36.05 67.65,-44.58 71.6,-38.81\"/>\n<text text-anchor=\"middle\" x=\"113.5\" y=\"-57.8\" font-family=\"Times,serif\" font-size=\"14.00\">≤</text>\n</g>\n<!-- 135038444393936 -->\n<g id=\"node7\" class=\"node\">\n<title>135038444393936</title>\n<polygon fill=\"lightgreen\" stroke=\"black\" points=\"164,-36 91,-36 91,0 164,0 164,-36\"/>\n<text text-anchor=\"middle\" x=\"127.5\" y=\"-14.3\" font-family=\"Times,serif\" font-size=\"14.00\">Leaf: 0.00</text>\n</g>\n<!-- 135038444391168&#45;&gt;135038444393936 -->\n<g id=\"edge6\" class=\"edge\">\n<title>135038444391168&#45;&gt;135038444393936</title>\n<path fill=\"none\" stroke=\"black\" d=\"M160.93,-87.22C154.51,-74.12 146.71,-58.2 140.26,-45.04\"/>\n<polygon fill=\"black\" stroke=\"black\" points=\"143.39,-43.47 135.84,-36.03 137.1,-46.55 143.39,-43.47\"/>\n<text text-anchor=\"middle\" x=\"157\" y=\"-57.8\" font-family=\"Times,serif\" font-size=\"14.00\">&gt;</text>\n</g>\n<!-- 135038445667152 -->\n<g id=\"node8\" class=\"node\">\n<title>135038445667152</title>\n<polygon fill=\"lightgreen\" stroke=\"black\" points=\"255,-36 182,-36 182,0 255,0 255,-36\"/>\n<text text-anchor=\"middle\" x=\"218.5\" y=\"-14.3\" font-family=\"Times,serif\" font-size=\"14.00\">Leaf: 0.00</text>\n</g>\n<!-- 135038444391168&#45;&gt;135038445667152 -->\n<g id=\"edge7\" class=\"edge\">\n<title>135038444391168&#45;&gt;135038445667152</title>\n<path fill=\"none\" stroke=\"black\" d=\"M185.8,-87.22C192.02,-74.24 199.56,-58.51 205.83,-45.43\"/>\n<polygon fill=\"black\" stroke=\"black\" points=\"209.17,-46.56 210.34,-36.03 202.86,-43.53 209.17,-46.56\"/>\n<text text-anchor=\"middle\" x=\"220\" y=\"-57.8\" font-family=\"Times,serif\" font-size=\"14.00\">NULL</text>\n</g>\n<!-- 135038446103120 -->\n<g id=\"node10\" class=\"node\">\n<title>135038446103120</title>\n<polygon fill=\"lightgreen\" stroke=\"black\" points=\"346,-36 273,-36 273,0 346,0 346,-36\"/>\n<text text-anchor=\"middle\" x=\"309.5\" y=\"-14.3\" font-family=\"Times,serif\" font-size=\"14.00\">Leaf: 0.00</text>\n</g>\n<!-- 135038444394304&#45;&gt;135038446103120 -->\n<g id=\"edge9\" class=\"edge\">\n<title>135038444394304&#45;&gt;135038446103120</title>\n<path fill=\"none\" stroke=\"black\" d=\"M376.59,-88.21C363.17,-74.37 346.49,-57.16 333.12,-43.37\"/>\n<polygon fill=\"black\" stroke=\"black\" points=\"335.55,-40.84 326.08,-36.1 330.52,-45.71 335.55,-40.84\"/>\n<text text-anchor=\"middle\" x=\"362.5\" y=\"-57.8\" font-family=\"Times,serif\" font-size=\"14.00\">≤</text>\n</g>\n<!-- 135038446060368 -->\n<g id=\"node11\" class=\"node\">\n<title>135038446060368</title>\n<polygon fill=\"lightgreen\" stroke=\"black\" points=\"437,-36 364,-36 364,0 437,0 437,-36\"/>\n<text text-anchor=\"middle\" x=\"400.5\" y=\"-14.3\" font-family=\"Times,serif\" font-size=\"14.00\">Leaf: 0.00</text>\n</g>\n<!-- 135038444394304&#45;&gt;135038446060368 -->\n<g id=\"edge10\" class=\"edge\">\n<title>135038444394304&#45;&gt;135038446060368</title>\n<path fill=\"none\" stroke=\"black\" d=\"M400.5,-86.97C400.5,-74.34 400.5,-59.14 400.5,-46.32\"/>\n<polygon fill=\"black\" stroke=\"black\" points=\"404,-46.22 400.5,-36.22 397,-46.22 404,-46.22\"/>\n<text text-anchor=\"middle\" x=\"405\" y=\"-57.8\" font-family=\"Times,serif\" font-size=\"14.00\">&gt;</text>\n</g>\n<!-- 135038444392016 -->\n<g id=\"node12\" class=\"node\">\n<title>135038444392016</title>\n<polygon fill=\"lightgreen\" stroke=\"black\" points=\"528,-36 455,-36 455,0 528,0 528,-36\"/>\n<text text-anchor=\"middle\" x=\"491.5\" y=\"-14.3\" font-family=\"Times,serif\" font-size=\"14.00\">Leaf: 0.00</text>\n</g>\n<!-- 135038444394304&#45;&gt;135038444392016 -->\n<g id=\"edge11\" class=\"edge\">\n<title>135038444394304&#45;&gt;135038444392016</title>\n<path fill=\"none\" stroke=\"black\" d=\"M424.41,-88.21C437.83,-74.37 454.51,-57.16 467.88,-43.37\"/>\n<polygon fill=\"black\" stroke=\"black\" points=\"470.48,-45.71 474.92,-36.1 465.45,-40.84 470.48,-45.71\"/>\n<text text-anchor=\"middle\" x=\"476\" y=\"-57.8\" font-family=\"Times,serif\" font-size=\"14.00\">NULL</text>\n</g>\n<!-- 135038444347520 -->\n<g id=\"node15\" class=\"node\">\n<title>135038444347520</title>\n<ellipse fill=\"lightblue\" stroke=\"black\" cx=\"719.5\" cy=\"-113.87\" rx=\"77.56\" ry=\"26.74\"/>\n<text text-anchor=\"middle\" x=\"719.5\" y=\"-117.67\" font-family=\"Times,serif\" font-size=\"14.00\">Age</text>\n<text text-anchor=\"middle\" x=\"719.5\" y=\"-102.67\" font-family=\"Times,serif\" font-size=\"14.00\">Threshold: 54.00</text>\n</g>\n<!-- 135038446241088&#45;&gt;135038444347520 -->\n<g id=\"edge14\" class=\"edge\">\n<title>135038446241088&#45;&gt;135038444347520</title>\n<path fill=\"none\" stroke=\"black\" d=\"M1020.33,-201.44C957.35,-183.32 855.23,-153.93 787.72,-134.5\"/>\n<polygon fill=\"black\" stroke=\"black\" points=\"788.59,-131.11 778.01,-131.71 786.66,-137.84 788.59,-131.11\"/>\n<text text-anchor=\"middle\" x=\"923.5\" y=\"-162.54\" font-family=\"Times,serif\" font-size=\"14.00\">≤</text>\n</g>\n<!-- 135038444388672 -->\n<g id=\"node19\" class=\"node\">\n<title>135038444388672</title>\n<ellipse fill=\"lightblue\" stroke=\"black\" cx=\"984.5\" cy=\"-113.87\" rx=\"77.56\" ry=\"26.74\"/>\n<text text-anchor=\"middle\" x=\"984.5\" y=\"-117.67\" font-family=\"Times,serif\" font-size=\"14.00\">Age</text>\n<text text-anchor=\"middle\" x=\"984.5\" y=\"-102.67\" font-family=\"Times,serif\" font-size=\"14.00\">Threshold: 60.00</text>\n</g>\n<!-- 135038446241088&#45;&gt;135038444388672 -->\n<g id=\"edge18\" class=\"edge\">\n<title>135038446241088&#45;&gt;135038444388672</title>\n<path fill=\"none\" stroke=\"black\" d=\"M1054.23,-192.74C1042.11,-179.21 1026.98,-162.3 1013.9,-147.71\"/>\n<polygon fill=\"black\" stroke=\"black\" points=\"1016.16,-144.98 1006.88,-139.87 1010.95,-149.65 1016.16,-144.98\"/>\n<text text-anchor=\"middle\" x=\"1041\" y=\"-162.54\" font-family=\"Times,serif\" font-size=\"14.00\">&gt;</text>\n</g>\n<!-- 135038444403456 -->\n<g id=\"node23\" class=\"node\">\n<title>135038444403456</title>\n<ellipse fill=\"lightblue\" stroke=\"black\" cx=\"1208.5\" cy=\"-113.87\" rx=\"72.66\" ry=\"26.74\"/>\n<text text-anchor=\"middle\" x=\"1208.5\" y=\"-117.67\" font-family=\"Times,serif\" font-size=\"14.00\">Margin</text>\n<text text-anchor=\"middle\" x=\"1208.5\" y=\"-102.67\" font-family=\"Times,serif\" font-size=\"14.00\">Threshold: 4.00</text>\n</g>\n<!-- 135038446241088&#45;&gt;135038444403456 -->\n<g id=\"edge22\" class=\"edge\">\n<title>135038446241088&#45;&gt;135038444403456</title>\n<path fill=\"none\" stroke=\"black\" d=\"M1106.78,-194.04C1125.65,-179.36 1150.09,-160.34 1170.28,-144.62\"/>\n<polygon fill=\"black\" stroke=\"black\" points=\"1172.62,-147.24 1178.36,-138.33 1168.32,-141.71 1172.62,-147.24\"/>\n<text text-anchor=\"middle\" x=\"1169\" y=\"-162.54\" font-family=\"Times,serif\" font-size=\"14.00\">NULL</text>\n</g>\n<!-- 135038446106576 -->\n<g id=\"node16\" class=\"node\">\n<title>135038446106576</title>\n<polygon fill=\"lightgreen\" stroke=\"black\" points=\"619,-36 546,-36 546,0 619,0 619,-36\"/>\n<text text-anchor=\"middle\" x=\"582.5\" y=\"-14.3\" font-family=\"Times,serif\" font-size=\"14.00\">Leaf: 0.00</text>\n</g>\n<!-- 135038444347520&#45;&gt;135038446106576 -->\n<g id=\"edge15\" class=\"edge\">\n<title>135038444347520&#45;&gt;135038446106576</title>\n<path fill=\"none\" stroke=\"black\" d=\"M685.63,-89.67C664.32,-75.06 636.94,-56.3 615.75,-41.78\"/>\n<polygon fill=\"black\" stroke=\"black\" points=\"617.6,-38.81 607.38,-36.05 613.65,-44.58 617.6,-38.81\"/>\n<text text-anchor=\"middle\" x=\"659.5\" y=\"-57.8\" font-family=\"Times,serif\" font-size=\"14.00\">≤</text>\n</g>\n<!-- 135038444341136 -->\n<g id=\"node17\" class=\"node\">\n<title>135038444341136</title>\n<polygon fill=\"lightgreen\" stroke=\"black\" points=\"710,-36 637,-36 637,0 710,0 710,-36\"/>\n<text text-anchor=\"middle\" x=\"673.5\" y=\"-14.3\" font-family=\"Times,serif\" font-size=\"14.00\">Leaf: 0.00</text>\n</g>\n<!-- 135038444347520&#45;&gt;135038444341136 -->\n<g id=\"edge16\" class=\"edge\">\n<title>135038444347520&#45;&gt;135038444341136</title>\n<path fill=\"none\" stroke=\"black\" d=\"M706.93,-87.22C700.51,-74.12 692.71,-58.2 686.26,-45.04\"/>\n<polygon fill=\"black\" stroke=\"black\" points=\"689.39,-43.47 681.84,-36.03 683.1,-46.55 689.39,-43.47\"/>\n<text text-anchor=\"middle\" x=\"703\" y=\"-57.8\" font-family=\"Times,serif\" font-size=\"14.00\">&gt;</text>\n</g>\n<!-- 135038444394000 -->\n<g id=\"node18\" class=\"node\">\n<title>135038444394000</title>\n<polygon fill=\"lightgreen\" stroke=\"black\" points=\"801,-36 728,-36 728,0 801,0 801,-36\"/>\n<text text-anchor=\"middle\" x=\"764.5\" y=\"-14.3\" font-family=\"Times,serif\" font-size=\"14.00\">Leaf: 0.00</text>\n</g>\n<!-- 135038444347520&#45;&gt;135038444394000 -->\n<g id=\"edge17\" class=\"edge\">\n<title>135038444347520&#45;&gt;135038444394000</title>\n<path fill=\"none\" stroke=\"black\" d=\"M731.8,-87.22C738.02,-74.24 745.56,-58.51 751.83,-45.43\"/>\n<polygon fill=\"black\" stroke=\"black\" points=\"755.17,-46.56 756.34,-36.03 748.86,-43.53 755.17,-46.56\"/>\n<text text-anchor=\"middle\" x=\"766\" y=\"-57.8\" font-family=\"Times,serif\" font-size=\"14.00\">NULL</text>\n</g>\n<!-- 135038513018704 -->\n<g id=\"node20\" class=\"node\">\n<title>135038513018704</title>\n<polygon fill=\"lightgreen\" stroke=\"black\" points=\"892,-36 819,-36 819,0 892,0 892,-36\"/>\n<text text-anchor=\"middle\" x=\"855.5\" y=\"-14.3\" font-family=\"Times,serif\" font-size=\"14.00\">Leaf: 0.00</text>\n</g>\n<!-- 135038444388672&#45;&gt;135038513018704 -->\n<g id=\"edge19\" class=\"edge\">\n<title>135038444388672&#45;&gt;135038513018704</title>\n<path fill=\"none\" stroke=\"black\" d=\"M951.95,-89.18C932.18,-74.8 907.06,-56.52 887.41,-42.22\"/>\n<polygon fill=\"black\" stroke=\"black\" points=\"889.23,-39.22 879.09,-36.16 885.11,-44.88 889.23,-39.22\"/>\n<text text-anchor=\"middle\" x=\"928.5\" y=\"-57.8\" font-family=\"Times,serif\" font-size=\"14.00\">≤</text>\n</g>\n<!-- 135038444346960 -->\n<g id=\"node21\" class=\"node\">\n<title>135038444346960</title>\n<polygon fill=\"lightgreen\" stroke=\"black\" points=\"983,-36 910,-36 910,0 983,0 983,-36\"/>\n<text text-anchor=\"middle\" x=\"946.5\" y=\"-14.3\" font-family=\"Times,serif\" font-size=\"14.00\">Leaf: 1.00</text>\n</g>\n<!-- 135038444388672&#45;&gt;135038444346960 -->\n<g id=\"edge20\" class=\"edge\">\n<title>135038444388672&#45;&gt;135038444346960</title>\n<path fill=\"none\" stroke=\"black\" d=\"M974.12,-87.22C968.86,-74.24 962.49,-58.51 957.2,-45.43\"/>\n<polygon fill=\"black\" stroke=\"black\" points=\"960.39,-43.98 953.39,-36.03 953.9,-46.61 960.39,-43.98\"/>\n<text text-anchor=\"middle\" x=\"972\" y=\"-57.8\" font-family=\"Times,serif\" font-size=\"14.00\">&gt;</text>\n</g>\n<!-- 135038446241424 -->\n<g id=\"node22\" class=\"node\">\n<title>135038446241424</title>\n<polygon fill=\"lightgreen\" stroke=\"black\" points=\"1074,-36 1001,-36 1001,0 1074,0 1074,-36\"/>\n<text text-anchor=\"middle\" x=\"1037.5\" y=\"-14.3\" font-family=\"Times,serif\" font-size=\"14.00\">Leaf: 0.00</text>\n</g>\n<!-- 135038444388672&#45;&gt;135038446241424 -->\n<g id=\"edge21\" class=\"edge\">\n<title>135038444388672&#45;&gt;135038446241424</title>\n<path fill=\"none\" stroke=\"black\" d=\"M998.98,-87.22C1006.38,-74.12 1015.37,-58.2 1022.8,-45.04\"/>\n<polygon fill=\"black\" stroke=\"black\" points=\"1026.02,-46.46 1027.89,-36.03 1019.92,-43.01 1026.02,-46.46\"/>\n<text text-anchor=\"middle\" x=\"1036\" y=\"-57.8\" font-family=\"Times,serif\" font-size=\"14.00\">NULL</text>\n</g>\n<!-- 135038446068112 -->\n<g id=\"node24\" class=\"node\">\n<title>135038446068112</title>\n<polygon fill=\"lightgreen\" stroke=\"black\" points=\"1165,-36 1092,-36 1092,0 1165,0 1165,-36\"/>\n<text text-anchor=\"middle\" x=\"1128.5\" y=\"-14.3\" font-family=\"Times,serif\" font-size=\"14.00\">Leaf: 0.00</text>\n</g>\n<!-- 135038444403456&#45;&gt;135038446068112 -->\n<g id=\"edge23\" class=\"edge\">\n<title>135038444403456&#45;&gt;135038446068112</title>\n<path fill=\"none\" stroke=\"black\" d=\"M1187.06,-87.71C1175.56,-74.22 1161.44,-57.65 1149.94,-44.15\"/>\n<polygon fill=\"black\" stroke=\"black\" points=\"1152.31,-41.55 1143.16,-36.21 1146.99,-46.09 1152.31,-41.55\"/>\n<text text-anchor=\"middle\" x=\"1175.5\" y=\"-57.8\" font-family=\"Times,serif\" font-size=\"14.00\">≤</text>\n</g>\n<!-- 135038446065104 -->\n<g id=\"node25\" class=\"node\">\n<title>135038446065104</title>\n<polygon fill=\"lightgreen\" stroke=\"black\" points=\"1256,-36 1183,-36 1183,0 1256,0 1256,-36\"/>\n<text text-anchor=\"middle\" x=\"1219.5\" y=\"-14.3\" font-family=\"Times,serif\" font-size=\"14.00\">Leaf: 1.00</text>\n</g>\n<!-- 135038444403456&#45;&gt;135038446065104 -->\n<g id=\"edge24\" class=\"edge\">\n<title>135038444403456&#45;&gt;135038446065104</title>\n<path fill=\"none\" stroke=\"black\" d=\"M1211.53,-86.97C1213.02,-74.34 1214.8,-59.14 1216.3,-46.32\"/>\n<polygon fill=\"black\" stroke=\"black\" points=\"1219.79,-46.56 1217.48,-36.22 1212.84,-45.75 1219.79,-46.56\"/>\n<text text-anchor=\"middle\" x=\"1220\" y=\"-57.8\" font-family=\"Times,serif\" font-size=\"14.00\">&gt;</text>\n</g>\n<!-- 135038446166224 -->\n<g id=\"node26\" class=\"node\">\n<title>135038446166224</title>\n<polygon fill=\"lightgreen\" stroke=\"black\" points=\"1347,-36 1274,-36 1274,0 1347,0 1347,-36\"/>\n<text text-anchor=\"middle\" x=\"1310.5\" y=\"-14.3\" font-family=\"Times,serif\" font-size=\"14.00\">Leaf: 0.00</text>\n</g>\n<!-- 135038444403456&#45;&gt;135038446166224 -->\n<g id=\"edge25\" class=\"edge\">\n<title>135038444403456&#45;&gt;135038446166224</title>\n<path fill=\"none\" stroke=\"black\" d=\"M1234.77,-88.7C1249.95,-74.73 1268.99,-57.21 1284.17,-43.23\"/>\n<polygon fill=\"black\" stroke=\"black\" points=\"1286.74,-45.62 1291.73,-36.28 1282,-40.47 1286.74,-45.62\"/>\n<text text-anchor=\"middle\" x=\"1291\" y=\"-57.8\" font-family=\"Times,serif\" font-size=\"14.00\">NULL</text>\n</g>\n<!-- 135038444397184 -->\n<g id=\"node28\" class=\"node\">\n<title>135038444397184</title>\n<ellipse fill=\"lightblue\" stroke=\"black\" cx=\"1488.5\" cy=\"-113.87\" rx=\"72.66\" ry=\"26.74\"/>\n<text text-anchor=\"middle\" x=\"1488.5\" y=\"-117.67\" font-family=\"Times,serif\" font-size=\"14.00\">BI&#45;RADS</text>\n<text text-anchor=\"middle\" x=\"1488.5\" y=\"-102.67\" font-family=\"Times,serif\" font-size=\"14.00\">Threshold: 3.00</text>\n</g>\n<!-- 135038457987712&#45;&gt;135038444397184 -->\n<g id=\"edge27\" class=\"edge\">\n<title>135038457987712&#45;&gt;135038444397184</title>\n<path fill=\"none\" stroke=\"black\" d=\"M1579.6,-193.52C1563.04,-179.22 1541.88,-160.95 1524.12,-145.62\"/>\n<polygon fill=\"black\" stroke=\"black\" points=\"1526.08,-142.69 1516.23,-138.81 1521.51,-147.99 1526.08,-142.69\"/>\n<text text-anchor=\"middle\" x=\"1559.5\" y=\"-162.54\" font-family=\"Times,serif\" font-size=\"14.00\">≤</text>\n</g>\n<!-- 135038444398544 -->\n<g id=\"node32\" class=\"node\">\n<title>135038444398544</title>\n<polygon fill=\"lightgreen\" stroke=\"black\" points=\"1652,-131.87 1579,-131.87 1579,-95.87 1652,-95.87 1652,-131.87\"/>\n<text text-anchor=\"middle\" x=\"1615.5\" y=\"-110.17\" font-family=\"Times,serif\" font-size=\"14.00\">Leaf: 0.00</text>\n</g>\n<!-- 135038457987712&#45;&gt;135038444398544 -->\n<g id=\"edge31\" class=\"edge\">\n<title>135038457987712&#45;&gt;135038444398544</title>\n<path fill=\"none\" stroke=\"black\" d=\"M1609.52,-191.68C1610.69,-176.66 1612.16,-157.76 1613.35,-142.47\"/>\n<polygon fill=\"black\" stroke=\"black\" points=\"1616.87,-142.32 1614.16,-132.07 1609.89,-141.77 1616.87,-142.32\"/>\n<text text-anchor=\"middle\" x=\"1617\" y=\"-162.54\" font-family=\"Times,serif\" font-size=\"14.00\">&gt;</text>\n</g>\n<!-- 135038444388624 -->\n<g id=\"node33\" class=\"node\">\n<title>135038444388624</title>\n<polygon fill=\"lightgreen\" stroke=\"black\" points=\"1743,-131.87 1670,-131.87 1670,-95.87 1743,-95.87 1743,-131.87\"/>\n<text text-anchor=\"middle\" x=\"1706.5\" y=\"-110.17\" font-family=\"Times,serif\" font-size=\"14.00\">Leaf: 0.00</text>\n</g>\n<!-- 135038457987712&#45;&gt;135038444388624 -->\n<g id=\"edge32\" class=\"edge\">\n<title>135038457987712&#45;&gt;135038444388624</title>\n<path fill=\"none\" stroke=\"black\" d=\"M1631.21,-193C1646.85,-176.78 1667.24,-155.61 1682.86,-139.41\"/>\n<polygon fill=\"black\" stroke=\"black\" points=\"1685.68,-141.52 1690.1,-131.89 1680.64,-136.66 1685.68,-141.52\"/>\n<text text-anchor=\"middle\" x=\"1682\" y=\"-162.54\" font-family=\"Times,serif\" font-size=\"14.00\">NULL</text>\n</g>\n<!-- 135038444393040 -->\n<g id=\"node29\" class=\"node\">\n<title>135038444393040</title>\n<polygon fill=\"lightgreen\" stroke=\"black\" points=\"1438,-36 1365,-36 1365,0 1438,0 1438,-36\"/>\n<text text-anchor=\"middle\" x=\"1401.5\" y=\"-14.3\" font-family=\"Times,serif\" font-size=\"14.00\">Leaf: 0.00</text>\n</g>\n<!-- 135038444397184&#45;&gt;135038444393040 -->\n<g id=\"edge28\" class=\"edge\">\n<title>135038444397184&#45;&gt;135038444393040</title>\n<path fill=\"none\" stroke=\"black\" d=\"M1465.64,-88.21C1452.93,-74.49 1437.16,-57.48 1424.44,-43.75\"/>\n<polygon fill=\"black\" stroke=\"black\" points=\"1426.71,-41.05 1417.35,-36.1 1421.58,-45.81 1426.71,-41.05\"/>\n<text text-anchor=\"middle\" x=\"1452.5\" y=\"-57.8\" font-family=\"Times,serif\" font-size=\"14.00\">≤</text>\n</g>\n<!-- 135038444403856 -->\n<g id=\"node30\" class=\"node\">\n<title>135038444403856</title>\n<polygon fill=\"lightgreen\" stroke=\"black\" points=\"1529,-36 1456,-36 1456,0 1529,0 1529,-36\"/>\n<text text-anchor=\"middle\" x=\"1492.5\" y=\"-14.3\" font-family=\"Times,serif\" font-size=\"14.00\">Leaf: 0.00</text>\n</g>\n<!-- 135038444397184&#45;&gt;135038444403856 -->\n<g id=\"edge29\" class=\"edge\">\n<title>135038444397184&#45;&gt;135038444403856</title>\n<path fill=\"none\" stroke=\"black\" d=\"M1489.6,-86.97C1490.14,-74.34 1490.79,-59.14 1491.34,-46.32\"/>\n<polygon fill=\"black\" stroke=\"black\" points=\"1494.84,-46.36 1491.77,-36.22 1487.84,-46.06 1494.84,-46.36\"/>\n<text text-anchor=\"middle\" x=\"1496\" y=\"-57.8\" font-family=\"Times,serif\" font-size=\"14.00\">&gt;</text>\n</g>\n<!-- 135038444388496 -->\n<g id=\"node31\" class=\"node\">\n<title>135038444388496</title>\n<polygon fill=\"lightgreen\" stroke=\"black\" points=\"1620,-36 1547,-36 1547,0 1620,0 1620,-36\"/>\n<text text-anchor=\"middle\" x=\"1583.5\" y=\"-14.3\" font-family=\"Times,serif\" font-size=\"14.00\">Leaf: 0.00</text>\n</g>\n<!-- 135038444397184&#45;&gt;135038444388496 -->\n<g id=\"edge30\" class=\"edge\">\n<title>135038444397184&#45;&gt;135038444388496</title>\n<path fill=\"none\" stroke=\"black\" d=\"M1513.46,-88.21C1527.47,-74.37 1544.88,-57.16 1558.84,-43.37\"/>\n<polygon fill=\"black\" stroke=\"black\" points=\"1561.54,-45.62 1566.2,-36.1 1556.62,-40.64 1561.54,-45.62\"/>\n<text text-anchor=\"middle\" x=\"1566\" y=\"-57.8\" font-family=\"Times,serif\" font-size=\"14.00\">NULL</text>\n</g>\n<!-- 135038444349760 -->\n<g id=\"node35\" class=\"node\">\n<title>135038444349760</title>\n<ellipse fill=\"lightblue\" stroke=\"black\" cx=\"2133.5\" cy=\"-218.61\" rx=\"72.66\" ry=\"26.74\"/>\n<text text-anchor=\"middle\" x=\"2133.5\" y=\"-222.41\" font-family=\"Times,serif\" font-size=\"14.00\">Shape</text>\n<text text-anchor=\"middle\" x=\"2133.5\" y=\"-207.41\" font-family=\"Times,serif\" font-size=\"14.00\">Threshold: 3.00</text>\n</g>\n<!-- 135038445674880&#45;&gt;135038444349760 -->\n<g id=\"edge34\" class=\"edge\">\n<title>135038445674880&#45;&gt;135038444349760</title>\n<path fill=\"none\" stroke=\"black\" d=\"M2372.28,-303.63C2322.11,-285.97 2246.97,-259.53 2194.42,-241.05\"/>\n<polygon fill=\"black\" stroke=\"black\" points=\"2195.48,-237.71 2184.88,-237.69 2193.15,-244.31 2195.48,-237.71\"/>\n<text text-anchor=\"middle\" x=\"2301.5\" y=\"-267.28\" font-family=\"Times,serif\" font-size=\"14.00\">≤</text>\n</g>\n<!-- 135038444397376 -->\n<g id=\"node45\" class=\"node\">\n<title>135038444397376</title>\n<ellipse fill=\"lightblue\" stroke=\"black\" cx=\"2425.5\" cy=\"-218.61\" rx=\"72.66\" ry=\"26.74\"/>\n<text text-anchor=\"middle\" x=\"2425.5\" y=\"-222.41\" font-family=\"Times,serif\" font-size=\"14.00\">Margin</text>\n<text text-anchor=\"middle\" x=\"2425.5\" y=\"-207.41\" font-family=\"Times,serif\" font-size=\"14.00\">Threshold: 3.00</text>\n</g>\n<!-- 135038445674880&#45;&gt;135038444397376 -->\n<g id=\"edge44\" class=\"edge\">\n<title>135038445674880&#45;&gt;135038444397376</title>\n<path fill=\"none\" stroke=\"black\" d=\"M2425.5,-296.42C2425.5,-284.14 2425.5,-269.25 2425.5,-255.86\"/>\n<polygon fill=\"black\" stroke=\"black\" points=\"2429,-255.53 2425.5,-245.53 2422,-255.53 2429,-255.53\"/>\n<text text-anchor=\"middle\" x=\"2430\" y=\"-267.28\" font-family=\"Times,serif\" font-size=\"14.00\">&gt;</text>\n</g>\n<!-- 135038445732560 -->\n<g id=\"node58\" class=\"node\">\n<title>135038445732560</title>\n<polygon fill=\"lightgreen\" stroke=\"black\" points=\"2589,-236.61 2516,-236.61 2516,-200.61 2589,-200.61 2589,-236.61\"/>\n<text text-anchor=\"middle\" x=\"2552.5\" y=\"-214.91\" font-family=\"Times,serif\" font-size=\"14.00\">Leaf: 1.00</text>\n</g>\n<!-- 135038445674880&#45;&gt;135038445732560 -->\n<g id=\"edge57\" class=\"edge\">\n<title>135038445674880&#45;&gt;135038445732560</title>\n<path fill=\"none\" stroke=\"black\" d=\"M2455.28,-298.26C2475.77,-281.69 2502.86,-259.77 2523.24,-243.28\"/>\n<polygon fill=\"black\" stroke=\"black\" points=\"2525.67,-245.82 2531.24,-236.81 2521.27,-240.37 2525.67,-245.82\"/>\n<text text-anchor=\"middle\" x=\"2516\" y=\"-267.28\" font-family=\"Times,serif\" font-size=\"14.00\">NULL</text>\n</g>\n<!-- 135038446100800 -->\n<g id=\"node36\" class=\"node\">\n<title>135038446100800</title>\n<ellipse fill=\"lightblue\" stroke=\"black\" cx=\"1847.5\" cy=\"-113.87\" rx=\"77.56\" ry=\"26.74\"/>\n<text text-anchor=\"middle\" x=\"1847.5\" y=\"-117.67\" font-family=\"Times,serif\" font-size=\"14.00\">Age</text>\n<text text-anchor=\"middle\" x=\"1847.5\" y=\"-102.67\" font-family=\"Times,serif\" font-size=\"14.00\">Threshold: 69.00</text>\n</g>\n<!-- 135038444349760&#45;&gt;135038446100800 -->\n<g id=\"edge35\" class=\"edge\">\n<title>135038444349760&#45;&gt;135038446100800</title>\n<path fill=\"none\" stroke=\"black\" d=\"M2082.37,-199.24C2034.07,-181.89 1961.51,-155.83 1909.84,-137.27\"/>\n<polygon fill=\"black\" stroke=\"black\" points=\"1910.72,-133.86 1900.12,-133.77 1908.35,-140.45 1910.72,-133.86\"/>\n<text text-anchor=\"middle\" x=\"2012.5\" y=\"-162.54\" font-family=\"Times,serif\" font-size=\"14.00\">≤</text>\n</g>\n<!-- 135038444349440 -->\n<g id=\"node40\" class=\"node\">\n<title>135038444349440</title>\n<ellipse fill=\"lightblue\" stroke=\"black\" cx=\"2038.5\" cy=\"-113.87\" rx=\"72.66\" ry=\"26.74\"/>\n<text text-anchor=\"middle\" x=\"2038.5\" y=\"-117.67\" font-family=\"Times,serif\" font-size=\"14.00\">Density</text>\n<text text-anchor=\"middle\" x=\"2038.5\" y=\"-102.67\" font-family=\"Times,serif\" font-size=\"14.00\">Threshold: 2.00</text>\n</g>\n<!-- 135038444349760&#45;&gt;135038444349440 -->\n<g id=\"edge39\" class=\"edge\">\n<title>135038444349760&#45;&gt;135038444349440</title>\n<path fill=\"none\" stroke=\"black\" d=\"M2110.75,-193C2098.03,-179.25 2082.03,-161.95 2068.33,-147.13\"/>\n<polygon fill=\"black\" stroke=\"black\" points=\"2070.76,-144.6 2061.4,-139.63 2065.62,-149.35 2070.76,-144.6\"/>\n<text text-anchor=\"middle\" x=\"2097\" y=\"-162.54\" font-family=\"Times,serif\" font-size=\"14.00\">&gt;</text>\n</g>\n<!-- 135038446104400 -->\n<g id=\"node44\" class=\"node\">\n<title>135038446104400</title>\n<polygon fill=\"lightgreen\" stroke=\"black\" points=\"2202,-131.87 2129,-131.87 2129,-95.87 2202,-95.87 2202,-131.87\"/>\n<text text-anchor=\"middle\" x=\"2165.5\" y=\"-110.17\" font-family=\"Times,serif\" font-size=\"14.00\">Leaf: 0.00</text>\n</g>\n<!-- 135038444349760&#45;&gt;135038446104400 -->\n<g id=\"edge43\" class=\"edge\">\n<title>135038444349760&#45;&gt;135038446104400</title>\n<path fill=\"none\" stroke=\"black\" d=\"M2141.57,-191.68C2146.3,-176.52 2152.26,-157.39 2157.04,-142.02\"/>\n<polygon fill=\"black\" stroke=\"black\" points=\"2160.51,-142.66 2160.14,-132.07 2153.83,-140.58 2160.51,-142.66\"/>\n<text text-anchor=\"middle\" x=\"2170\" y=\"-162.54\" font-family=\"Times,serif\" font-size=\"14.00\">NULL</text>\n</g>\n<!-- 135038444352976 -->\n<g id=\"node37\" class=\"node\">\n<title>135038444352976</title>\n<polygon fill=\"lightgreen\" stroke=\"black\" points=\"1711,-36 1638,-36 1638,0 1711,0 1711,-36\"/>\n<text text-anchor=\"middle\" x=\"1674.5\" y=\"-14.3\" font-family=\"Times,serif\" font-size=\"14.00\">Leaf: 0.00</text>\n</g>\n<!-- 135038446100800&#45;&gt;135038444352976 -->\n<g id=\"edge36\" class=\"edge\">\n<title>135038446100800&#45;&gt;135038444352976</title>\n<path fill=\"none\" stroke=\"black\" d=\"M1806.94,-90.86C1779.21,-75.82 1742.62,-55.96 1714.92,-40.93\"/>\n<polygon fill=\"black\" stroke=\"black\" points=\"1716.35,-37.73 1705.9,-36.04 1713.02,-43.88 1716.35,-37.73\"/>\n<text text-anchor=\"middle\" x=\"1770.5\" y=\"-57.8\" font-family=\"Times,serif\" font-size=\"14.00\">≤</text>\n</g>\n<!-- 135038444353872 -->\n<g id=\"node38\" class=\"node\">\n<title>135038444353872</title>\n<polygon fill=\"lightgreen\" stroke=\"black\" points=\"1802,-36 1729,-36 1729,0 1802,0 1802,-36\"/>\n<text text-anchor=\"middle\" x=\"1765.5\" y=\"-14.3\" font-family=\"Times,serif\" font-size=\"14.00\">Leaf: 0.00</text>\n</g>\n<!-- 135038446100800&#45;&gt;135038444353872 -->\n<g id=\"edge37\" class=\"edge\">\n<title>135038446100800&#45;&gt;135038444353872</title>\n<path fill=\"none\" stroke=\"black\" d=\"M1825.53,-87.71C1813.63,-74.1 1798.99,-57.33 1787.14,-43.77\"/>\n<polygon fill=\"black\" stroke=\"black\" points=\"1789.75,-41.44 1780.53,-36.21 1784.47,-46.04 1789.75,-41.44\"/>\n<text text-anchor=\"middle\" x=\"1814\" y=\"-57.8\" font-family=\"Times,serif\" font-size=\"14.00\">&gt;</text>\n</g>\n<!-- 135038446252304 -->\n<g id=\"node39\" class=\"node\">\n<title>135038446252304</title>\n<polygon fill=\"lightgreen\" stroke=\"black\" points=\"1893,-36 1820,-36 1820,0 1893,0 1893,-36\"/>\n<text text-anchor=\"middle\" x=\"1856.5\" y=\"-14.3\" font-family=\"Times,serif\" font-size=\"14.00\">Leaf: 0.00</text>\n</g>\n<!-- 135038446100800&#45;&gt;135038446252304 -->\n<g id=\"edge38\" class=\"edge\">\n<title>135038446100800&#45;&gt;135038446252304</title>\n<path fill=\"none\" stroke=\"black\" d=\"M1849.98,-86.97C1851.19,-74.34 1852.65,-59.14 1853.88,-46.32\"/>\n<polygon fill=\"black\" stroke=\"black\" points=\"1857.38,-46.51 1854.85,-36.22 1850.41,-45.84 1857.38,-46.51\"/>\n<text text-anchor=\"middle\" x=\"1872\" y=\"-57.8\" font-family=\"Times,serif\" font-size=\"14.00\">NULL</text>\n</g>\n<!-- 135038444340368 -->\n<g id=\"node41\" class=\"node\">\n<title>135038444340368</title>\n<polygon fill=\"lightgreen\" stroke=\"black\" points=\"1984,-36 1911,-36 1911,0 1984,0 1984,-36\"/>\n<text text-anchor=\"middle\" x=\"1947.5\" y=\"-14.3\" font-family=\"Times,serif\" font-size=\"14.00\">Leaf: 1.00</text>\n</g>\n<!-- 135038444349440&#45;&gt;135038444340368 -->\n<g id=\"edge40\" class=\"edge\">\n<title>135038444349440&#45;&gt;135038444340368</title>\n<path fill=\"none\" stroke=\"black\" d=\"M2014.59,-88.21C2001.17,-74.37 1984.49,-57.16 1971.12,-43.37\"/>\n<polygon fill=\"black\" stroke=\"black\" points=\"1973.55,-40.84 1964.08,-36.1 1968.52,-45.71 1973.55,-40.84\"/>\n<text text-anchor=\"middle\" x=\"2000.5\" y=\"-57.8\" font-family=\"Times,serif\" font-size=\"14.00\">≤</text>\n</g>\n<!-- 135038444348624 -->\n<g id=\"node42\" class=\"node\">\n<title>135038444348624</title>\n<polygon fill=\"lightgreen\" stroke=\"black\" points=\"2075,-36 2002,-36 2002,0 2075,0 2075,-36\"/>\n<text text-anchor=\"middle\" x=\"2038.5\" y=\"-14.3\" font-family=\"Times,serif\" font-size=\"14.00\">Leaf: 1.00</text>\n</g>\n<!-- 135038444349440&#45;&gt;135038444348624 -->\n<g id=\"edge41\" class=\"edge\">\n<title>135038444349440&#45;&gt;135038444348624</title>\n<path fill=\"none\" stroke=\"black\" d=\"M2038.5,-86.97C2038.5,-74.34 2038.5,-59.14 2038.5,-46.32\"/>\n<polygon fill=\"black\" stroke=\"black\" points=\"2042,-46.22 2038.5,-36.22 2035,-46.22 2042,-46.22\"/>\n<text text-anchor=\"middle\" x=\"2043\" y=\"-57.8\" font-family=\"Times,serif\" font-size=\"14.00\">&gt;</text>\n</g>\n<!-- 135038444445456 -->\n<g id=\"node43\" class=\"node\">\n<title>135038444445456</title>\n<polygon fill=\"lightgreen\" stroke=\"black\" points=\"2166,-36 2093,-36 2093,0 2166,0 2166,-36\"/>\n<text text-anchor=\"middle\" x=\"2129.5\" y=\"-14.3\" font-family=\"Times,serif\" font-size=\"14.00\">Leaf: 1.00</text>\n</g>\n<!-- 135038444349440&#45;&gt;135038444445456 -->\n<g id=\"edge42\" class=\"edge\">\n<title>135038444349440&#45;&gt;135038444445456</title>\n<path fill=\"none\" stroke=\"black\" d=\"M2062.41,-88.21C2075.83,-74.37 2092.51,-57.16 2105.88,-43.37\"/>\n<polygon fill=\"black\" stroke=\"black\" points=\"2108.48,-45.71 2112.92,-36.1 2103.45,-40.84 2108.48,-45.71\"/>\n<text text-anchor=\"middle\" x=\"2114\" y=\"-57.8\" font-family=\"Times,serif\" font-size=\"14.00\">NULL</text>\n</g>\n<!-- 135038444349568 -->\n<g id=\"node46\" class=\"node\">\n<title>135038444349568</title>\n<ellipse fill=\"lightblue\" stroke=\"black\" cx=\"2357.5\" cy=\"-113.87\" rx=\"72.66\" ry=\"26.74\"/>\n<text text-anchor=\"middle\" x=\"2357.5\" y=\"-117.67\" font-family=\"Times,serif\" font-size=\"14.00\">Shape</text>\n<text text-anchor=\"middle\" x=\"2357.5\" y=\"-102.67\" font-family=\"Times,serif\" font-size=\"14.00\">Threshold: 3.00</text>\n</g>\n<!-- 135038444397376&#45;&gt;135038444349568 -->\n<g id=\"edge45\" class=\"edge\">\n<title>135038444397376&#45;&gt;135038444349568</title>\n<path fill=\"none\" stroke=\"black\" d=\"M2408.69,-192.21C2400.03,-179.12 2389.34,-162.98 2379.98,-148.84\"/>\n<polygon fill=\"black\" stroke=\"black\" points=\"2382.79,-146.74 2374.35,-140.33 2376.95,-150.6 2382.79,-146.74\"/>\n<text text-anchor=\"middle\" x=\"2400.5\" y=\"-162.54\" font-family=\"Times,serif\" font-size=\"14.00\">≤</text>\n</g>\n<!-- 135038446036352 -->\n<g id=\"node50\" class=\"node\">\n<title>135038446036352</title>\n<ellipse fill=\"lightblue\" stroke=\"black\" cx=\"2562.5\" cy=\"-113.87\" rx=\"77.56\" ry=\"26.74\"/>\n<text text-anchor=\"middle\" x=\"2562.5\" y=\"-117.67\" font-family=\"Times,serif\" font-size=\"14.00\">Age</text>\n<text text-anchor=\"middle\" x=\"2562.5\" y=\"-102.67\" font-family=\"Times,serif\" font-size=\"14.00\">Threshold: 73.00</text>\n</g>\n<!-- 135038444397376&#45;&gt;135038446036352 -->\n<g id=\"edge49\" class=\"edge\">\n<title>135038444397376&#45;&gt;135038446036352</title>\n<path fill=\"none\" stroke=\"black\" d=\"M2456.59,-194.3C2476.1,-179.66 2501.46,-160.65 2522.47,-144.89\"/>\n<polygon fill=\"black\" stroke=\"black\" points=\"2524.68,-147.6 2530.58,-138.8 2520.48,-142 2524.68,-147.6\"/>\n<text text-anchor=\"middle\" x=\"2507\" y=\"-162.54\" font-family=\"Times,serif\" font-size=\"14.00\">&gt;</text>\n</g>\n<!-- 135038444343808 -->\n<g id=\"node54\" class=\"node\">\n<title>135038444343808</title>\n<ellipse fill=\"lightblue\" stroke=\"black\" cx=\"2811.5\" cy=\"-113.87\" rx=\"72.66\" ry=\"26.74\"/>\n<text text-anchor=\"middle\" x=\"2811.5\" y=\"-117.67\" font-family=\"Times,serif\" font-size=\"14.00\">Shape</text>\n<text text-anchor=\"middle\" x=\"2811.5\" y=\"-102.67\" font-family=\"Times,serif\" font-size=\"14.00\">Threshold: 2.00</text>\n</g>\n<!-- 135038444397376&#45;&gt;135038444343808 -->\n<g id=\"edge53\" class=\"edge\">\n<title>135038444397376&#45;&gt;135038444343808</title>\n<path fill=\"none\" stroke=\"black\" d=\"M2478.51,-200.16C2487.81,-197.25 2497.41,-194.33 2506.5,-191.74 2586.33,-168.95 2678.92,-146.12 2740.95,-131.33\"/>\n<polygon fill=\"black\" stroke=\"black\" points=\"2742.1,-134.66 2751.02,-128.94 2740.48,-127.85 2742.1,-134.66\"/>\n<text text-anchor=\"middle\" x=\"2642\" y=\"-162.54\" font-family=\"Times,serif\" font-size=\"14.00\">NULL</text>\n</g>\n<!-- 135038446039696 -->\n<g id=\"node47\" class=\"node\">\n<title>135038446039696</title>\n<polygon fill=\"lightgreen\" stroke=\"black\" points=\"2257,-36 2184,-36 2184,0 2257,0 2257,-36\"/>\n<text text-anchor=\"middle\" x=\"2220.5\" y=\"-14.3\" font-family=\"Times,serif\" font-size=\"14.00\">Leaf: 0.00</text>\n</g>\n<!-- 135038444349568&#45;&gt;135038446039696 -->\n<g id=\"edge46\" class=\"edge\">\n<title>135038444349568&#45;&gt;135038446039696</title>\n<path fill=\"none\" stroke=\"black\" d=\"M2323.99,-89.91C2302.68,-75.31 2275.2,-56.48 2253.92,-41.9\"/>\n<polygon fill=\"black\" stroke=\"black\" points=\"2255.73,-38.9 2245.5,-36.13 2251.78,-44.67 2255.73,-38.9\"/>\n<text text-anchor=\"middle\" x=\"2297.5\" y=\"-57.8\" font-family=\"Times,serif\" font-size=\"14.00\">≤</text>\n</g>\n<!-- 135038446032528 -->\n<g id=\"node48\" class=\"node\">\n<title>135038446032528</title>\n<polygon fill=\"lightgreen\" stroke=\"black\" points=\"2348,-36 2275,-36 2275,0 2348,0 2348,-36\"/>\n<text text-anchor=\"middle\" x=\"2311.5\" y=\"-14.3\" font-family=\"Times,serif\" font-size=\"14.00\">Leaf: 1.00</text>\n</g>\n<!-- 135038444349568&#45;&gt;135038446032528 -->\n<g id=\"edge47\" class=\"edge\">\n<title>135038444349568&#45;&gt;135038446032528</title>\n<path fill=\"none\" stroke=\"black\" d=\"M2344.93,-87.22C2338.51,-74.12 2330.71,-58.2 2324.26,-45.04\"/>\n<polygon fill=\"black\" stroke=\"black\" points=\"2327.39,-43.47 2319.84,-36.03 2321.1,-46.55 2327.39,-43.47\"/>\n<text text-anchor=\"middle\" x=\"2341\" y=\"-57.8\" font-family=\"Times,serif\" font-size=\"14.00\">&gt;</text>\n</g>\n<!-- 135038444345936 -->\n<g id=\"node49\" class=\"node\">\n<title>135038444345936</title>\n<polygon fill=\"lightgreen\" stroke=\"black\" points=\"2439,-36 2366,-36 2366,0 2439,0 2439,-36\"/>\n<text text-anchor=\"middle\" x=\"2402.5\" y=\"-14.3\" font-family=\"Times,serif\" font-size=\"14.00\">Leaf: 0.00</text>\n</g>\n<!-- 135038444349568&#45;&gt;135038444345936 -->\n<g id=\"edge48\" class=\"edge\">\n<title>135038444349568&#45;&gt;135038444345936</title>\n<path fill=\"none\" stroke=\"black\" d=\"M2369.8,-87.22C2376.02,-74.24 2383.56,-58.51 2389.83,-45.43\"/>\n<polygon fill=\"black\" stroke=\"black\" points=\"2393.17,-46.56 2394.34,-36.03 2386.86,-43.53 2393.17,-46.56\"/>\n<text text-anchor=\"middle\" x=\"2404\" y=\"-57.8\" font-family=\"Times,serif\" font-size=\"14.00\">NULL</text>\n</g>\n<!-- 135038446036880 -->\n<g id=\"node51\" class=\"node\">\n<title>135038446036880</title>\n<polygon fill=\"lightgreen\" stroke=\"black\" points=\"2530,-36 2457,-36 2457,0 2530,0 2530,-36\"/>\n<text text-anchor=\"middle\" x=\"2493.5\" y=\"-14.3\" font-family=\"Times,serif\" font-size=\"14.00\">Leaf: 1.00</text>\n</g>\n<!-- 135038446036352&#45;&gt;135038446036880 -->\n<g id=\"edge50\" class=\"edge\">\n<title>135038446036352&#45;&gt;135038446036880</title>\n<path fill=\"none\" stroke=\"black\" d=\"M2544.01,-87.71C2534.19,-74.35 2522.14,-57.96 2512.27,-44.54\"/>\n<polygon fill=\"black\" stroke=\"black\" points=\"2514.89,-42.19 2506.15,-36.21 2509.25,-46.34 2514.89,-42.19\"/>\n<text text-anchor=\"middle\" x=\"2534.5\" y=\"-57.8\" font-family=\"Times,serif\" font-size=\"14.00\">≤</text>\n</g>\n<!-- 135038446027472 -->\n<g id=\"node52\" class=\"node\">\n<title>135038446027472</title>\n<polygon fill=\"lightgreen\" stroke=\"black\" points=\"2621,-36 2548,-36 2548,0 2621,0 2621,-36\"/>\n<text text-anchor=\"middle\" x=\"2584.5\" y=\"-14.3\" font-family=\"Times,serif\" font-size=\"14.00\">Leaf: 1.00</text>\n</g>\n<!-- 135038446036352&#45;&gt;135038446027472 -->\n<g id=\"edge51\" class=\"edge\">\n<title>135038446036352&#45;&gt;135038446027472</title>\n<path fill=\"none\" stroke=\"black\" d=\"M2568.57,-86.97C2571.53,-74.34 2575.09,-59.14 2578.1,-46.32\"/>\n<polygon fill=\"black\" stroke=\"black\" points=\"2581.59,-46.76 2580.46,-36.22 2574.77,-45.16 2581.59,-46.76\"/>\n<text text-anchor=\"middle\" x=\"2581\" y=\"-57.8\" font-family=\"Times,serif\" font-size=\"14.00\">&gt;</text>\n</g>\n<!-- 135038513005776 -->\n<g id=\"node53\" class=\"node\">\n<title>135038513005776</title>\n<polygon fill=\"lightgreen\" stroke=\"black\" points=\"2712,-36 2639,-36 2639,0 2712,0 2712,-36\"/>\n<text text-anchor=\"middle\" x=\"2675.5\" y=\"-14.3\" font-family=\"Times,serif\" font-size=\"14.00\">Leaf: 1.00</text>\n</g>\n<!-- 135038446036352&#45;&gt;135038513005776 -->\n<g id=\"edge52\" class=\"edge\">\n<title>135038446036352&#45;&gt;135038513005776</title>\n<path fill=\"none\" stroke=\"black\" d=\"M2591.6,-88.7C2608.57,-74.6 2629.9,-56.88 2646.8,-42.84\"/>\n<polygon fill=\"black\" stroke=\"black\" points=\"2649.25,-45.36 2654.7,-36.28 2644.77,-39.97 2649.25,-45.36\"/>\n<text text-anchor=\"middle\" x=\"2651\" y=\"-57.8\" font-family=\"Times,serif\" font-size=\"14.00\">NULL</text>\n</g>\n<!-- 135038444342992 -->\n<g id=\"node55\" class=\"node\">\n<title>135038444342992</title>\n<polygon fill=\"lightgreen\" stroke=\"black\" points=\"2803,-36 2730,-36 2730,0 2803,0 2803,-36\"/>\n<text text-anchor=\"middle\" x=\"2766.5\" y=\"-14.3\" font-family=\"Times,serif\" font-size=\"14.00\">Leaf: 1.00</text>\n</g>\n<!-- 135038444343808&#45;&gt;135038444342992 -->\n<g id=\"edge54\" class=\"edge\">\n<title>135038444343808&#45;&gt;135038444342992</title>\n<path fill=\"none\" stroke=\"black\" d=\"M2799.2,-87.22C2792.98,-74.24 2785.44,-58.51 2779.17,-45.43\"/>\n<polygon fill=\"black\" stroke=\"black\" points=\"2782.14,-43.53 2774.66,-36.03 2775.83,-46.56 2782.14,-43.53\"/>\n<text text-anchor=\"middle\" x=\"2794.5\" y=\"-57.8\" font-family=\"Times,serif\" font-size=\"14.00\">≤</text>\n</g>\n<!-- 135038444353040 -->\n<g id=\"node56\" class=\"node\">\n<title>135038444353040</title>\n<polygon fill=\"lightgreen\" stroke=\"black\" points=\"2894,-36 2821,-36 2821,0 2894,0 2894,-36\"/>\n<text text-anchor=\"middle\" x=\"2857.5\" y=\"-14.3\" font-family=\"Times,serif\" font-size=\"14.00\">Leaf: 0.00</text>\n</g>\n<!-- 135038444343808&#45;&gt;135038444353040 -->\n<g id=\"edge55\" class=\"edge\">\n<title>135038444343808&#45;&gt;135038444353040</title>\n<path fill=\"none\" stroke=\"black\" d=\"M2824.07,-87.22C2830.49,-74.12 2838.29,-58.2 2844.74,-45.04\"/>\n<polygon fill=\"black\" stroke=\"black\" points=\"2847.9,-46.55 2849.16,-36.03 2841.61,-43.47 2847.9,-46.55\"/>\n<text text-anchor=\"middle\" x=\"2845\" y=\"-57.8\" font-family=\"Times,serif\" font-size=\"14.00\">&gt;</text>\n</g>\n<!-- 135038446063440 -->\n<g id=\"node57\" class=\"node\">\n<title>135038446063440</title>\n<polygon fill=\"lightgreen\" stroke=\"black\" points=\"2985,-36 2912,-36 2912,0 2985,0 2985,-36\"/>\n<text text-anchor=\"middle\" x=\"2948.5\" y=\"-14.3\" font-family=\"Times,serif\" font-size=\"14.00\">Leaf: 0.00</text>\n</g>\n<!-- 135038444343808&#45;&gt;135038446063440 -->\n<g id=\"edge56\" class=\"edge\">\n<title>135038444343808&#45;&gt;135038446063440</title>\n<path fill=\"none\" stroke=\"black\" d=\"M2845.01,-89.91C2866.32,-75.31 2893.8,-56.48 2915.08,-41.9\"/>\n<polygon fill=\"black\" stroke=\"black\" points=\"2917.22,-44.67 2923.5,-36.13 2913.27,-38.9 2917.22,-44.67\"/>\n<text text-anchor=\"middle\" x=\"2915\" y=\"-57.8\" font-family=\"Times,serif\" font-size=\"14.00\">NULL</text>\n</g>\n<!-- 135038445677312 -->\n<g id=\"node61\" class=\"node\">\n<title>135038445677312</title>\n<ellipse fill=\"lightblue\" stroke=\"black\" cx=\"3485.5\" cy=\"-323.35\" rx=\"72.66\" ry=\"26.74\"/>\n<text text-anchor=\"middle\" x=\"3485.5\" y=\"-327.15\" font-family=\"Times,serif\" font-size=\"14.00\">Shape</text>\n<text text-anchor=\"middle\" x=\"3485.5\" y=\"-312.15\" font-family=\"Times,serif\" font-size=\"14.00\">Threshold: 1.00</text>\n</g>\n<!-- 135038446034368&#45;&gt;135038445677312 -->\n<g id=\"edge60\" class=\"edge\">\n<title>135038446034368&#45;&gt;135038445677312</title>\n<path fill=\"none\" stroke=\"black\" d=\"M3604.56,-403.78C3581.95,-388.7 3552.37,-368.96 3528.35,-352.94\"/>\n<polygon fill=\"black\" stroke=\"black\" points=\"3530.04,-349.86 3519.78,-347.22 3526.15,-355.68 3530.04,-349.86\"/>\n<text text-anchor=\"middle\" x=\"3576.5\" y=\"-372.02\" font-family=\"Times,serif\" font-size=\"14.00\">≤</text>\n</g>\n<!-- 135038446042944 -->\n<g id=\"node77\" class=\"node\">\n<title>135038446042944</title>\n<ellipse fill=\"lightblue\" stroke=\"black\" cx=\"3839.5\" cy=\"-323.35\" rx=\"72.66\" ry=\"26.74\"/>\n<text text-anchor=\"middle\" x=\"3839.5\" y=\"-327.15\" font-family=\"Times,serif\" font-size=\"14.00\">Shape</text>\n<text text-anchor=\"middle\" x=\"3839.5\" y=\"-312.15\" font-family=\"Times,serif\" font-size=\"14.00\">Threshold: 3.00</text>\n</g>\n<!-- 135038446034368&#45;&gt;135038446042944 -->\n<g id=\"edge76\" class=\"edge\">\n<title>135038446034368&#45;&gt;135038446042944</title>\n<path fill=\"none\" stroke=\"black\" d=\"M3681.91,-405.3C3713.25,-389.2 3756.04,-367.23 3789.12,-350.23\"/>\n<polygon fill=\"black\" stroke=\"black\" points=\"3790.88,-353.26 3798.17,-345.58 3787.68,-347.04 3790.88,-353.26\"/>\n<text text-anchor=\"middle\" x=\"3756\" y=\"-372.02\" font-family=\"Times,serif\" font-size=\"14.00\">&gt;</text>\n</g>\n<!-- 135038518718544 -->\n<g id=\"node87\" class=\"node\">\n<title>135038518718544</title>\n<polygon fill=\"lightgreen\" stroke=\"black\" points=\"4003,-341.35 3930,-341.35 3930,-305.35 4003,-305.35 4003,-341.35\"/>\n<text text-anchor=\"middle\" x=\"3966.5\" y=\"-319.65\" font-family=\"Times,serif\" font-size=\"14.00\">Leaf: 1.00</text>\n</g>\n<!-- 135038446034368&#45;&gt;135038518718544 -->\n<g id=\"edge86\" class=\"edge\">\n<title>135038446034368&#45;&gt;135038518718544</title>\n<path fill=\"none\" stroke=\"black\" d=\"M3696.31,-409.67C3706.03,-406.79 3716.04,-403.87 3725.5,-401.22 3812.17,-376.92 3838.18,-384.29 3921.5,-350.22 3924.5,-348.99 3927.55,-347.6 3930.57,-346.11\"/>\n<polygon fill=\"black\" stroke=\"black\" points=\"3932.26,-349.18 3939.48,-341.43 3929,-342.98 3932.26,-349.18\"/>\n<text text-anchor=\"middle\" x=\"3889\" y=\"-372.02\" font-family=\"Times,serif\" font-size=\"14.00\">NULL</text>\n</g>\n<!-- 135038446172304 -->\n<g id=\"node62\" class=\"node\">\n<title>135038446172304</title>\n<polygon fill=\"lightgreen\" stroke=\"black\" points=\"3349,-236.61 3276,-236.61 3276,-200.61 3349,-200.61 3349,-236.61\"/>\n<text text-anchor=\"middle\" x=\"3312.5\" y=\"-214.91\" font-family=\"Times,serif\" font-size=\"14.00\">Leaf: 1.00</text>\n</g>\n<!-- 135038445677312&#45;&gt;135038446172304 -->\n<g id=\"edge61\" class=\"edge\">\n<title>135038445677312&#45;&gt;135038446172304</title>\n<path fill=\"none\" stroke=\"black\" d=\"M3447.96,-300.06C3418.87,-282.78 3378.77,-258.96 3349.75,-241.73\"/>\n<polygon fill=\"black\" stroke=\"black\" points=\"3351.51,-238.71 3341.13,-236.61 3347.94,-244.73 3351.51,-238.71\"/>\n<text text-anchor=\"middle\" x=\"3413.5\" y=\"-267.28\" font-family=\"Times,serif\" font-size=\"14.00\">≤</text>\n</g>\n<!-- 135038446030464 -->\n<g id=\"node63\" class=\"node\">\n<title>135038446030464</title>\n<ellipse fill=\"lightblue\" stroke=\"black\" cx=\"3439.5\" cy=\"-218.61\" rx=\"72.66\" ry=\"26.74\"/>\n<text text-anchor=\"middle\" x=\"3439.5\" y=\"-222.41\" font-family=\"Times,serif\" font-size=\"14.00\">Shape</text>\n<text text-anchor=\"middle\" x=\"3439.5\" y=\"-207.41\" font-family=\"Times,serif\" font-size=\"14.00\">Threshold: 3.00</text>\n</g>\n<!-- 135038445677312&#45;&gt;135038446030464 -->\n<g id=\"edge62\" class=\"edge\">\n<title>135038445677312&#45;&gt;135038446030464</title>\n<path fill=\"none\" stroke=\"black\" d=\"M3474.01,-296.69C3468.3,-283.94 3461.32,-268.35 3455.13,-254.53\"/>\n<polygon fill=\"black\" stroke=\"black\" points=\"3458.28,-253 3451,-245.3 3451.89,-255.86 3458.28,-253\"/>\n<text text-anchor=\"middle\" x=\"3470\" y=\"-267.28\" font-family=\"Times,serif\" font-size=\"14.00\">&gt;</text>\n</g>\n<!-- 135038446201152 -->\n<g id=\"node73\" class=\"node\">\n<title>135038446201152</title>\n<ellipse fill=\"lightblue\" stroke=\"black\" cx=\"3612.5\" cy=\"-218.61\" rx=\"72.66\" ry=\"26.74\"/>\n<text text-anchor=\"middle\" x=\"3612.5\" y=\"-222.41\" font-family=\"Times,serif\" font-size=\"14.00\">Margin</text>\n<text text-anchor=\"middle\" x=\"3612.5\" y=\"-207.41\" font-family=\"Times,serif\" font-size=\"14.00\">Threshold: 4.00</text>\n</g>\n<!-- 135038445677312&#45;&gt;135038446201152 -->\n<g id=\"edge72\" class=\"edge\">\n<title>135038445677312&#45;&gt;135038446201152</title>\n<path fill=\"none\" stroke=\"black\" d=\"M3514.96,-298.52C3532.91,-284 3556.01,-265.31 3575.23,-249.76\"/>\n<polygon fill=\"black\" stroke=\"black\" points=\"3577.63,-252.32 3583.2,-243.31 3573.23,-246.88 3577.63,-252.32\"/>\n<text text-anchor=\"middle\" x=\"3576\" y=\"-267.28\" font-family=\"Times,serif\" font-size=\"14.00\">NULL</text>\n</g>\n<!-- 135038446198144 -->\n<g id=\"node64\" class=\"node\">\n<title>135038446198144</title>\n<ellipse fill=\"lightblue\" stroke=\"black\" cx=\"3139.5\" cy=\"-113.87\" rx=\"72.66\" ry=\"26.74\"/>\n<text text-anchor=\"middle\" x=\"3139.5\" y=\"-117.67\" font-family=\"Times,serif\" font-size=\"14.00\">Margin</text>\n<text text-anchor=\"middle\" x=\"3139.5\" y=\"-102.67\" font-family=\"Times,serif\" font-size=\"14.00\">Threshold: 1.00</text>\n</g>\n<!-- 135038446030464&#45;&gt;135038446198144 -->\n<g id=\"edge63\" class=\"edge\">\n<title>135038446030464&#45;&gt;135038446198144</title>\n<path fill=\"none\" stroke=\"black\" d=\"M3387.24,-199.71C3335.46,-181.98 3256.14,-154.82 3201.27,-136.02\"/>\n<polygon fill=\"black\" stroke=\"black\" points=\"3202.25,-132.66 3191.66,-132.73 3199.99,-139.28 3202.25,-132.66\"/>\n<text text-anchor=\"middle\" x=\"3311.5\" y=\"-162.54\" font-family=\"Times,serif\" font-size=\"14.00\">≤</text>\n</g>\n<!-- 135038446030208 -->\n<g id=\"node68\" class=\"node\">\n<title>135038446030208</title>\n<ellipse fill=\"lightblue\" stroke=\"black\" cx=\"3312.5\" cy=\"-113.87\" rx=\"72.66\" ry=\"26.74\"/>\n<text text-anchor=\"middle\" x=\"3312.5\" y=\"-117.67\" font-family=\"Times,serif\" font-size=\"14.00\">Density</text>\n<text text-anchor=\"middle\" x=\"3312.5\" y=\"-102.67\" font-family=\"Times,serif\" font-size=\"14.00\">Threshold: 3.00</text>\n</g>\n<!-- 135038446030464&#45;&gt;135038446030208 -->\n<g id=\"edge67\" class=\"edge\">\n<title>135038446030464&#45;&gt;135038446030208</title>\n<path fill=\"none\" stroke=\"black\" d=\"M3410.04,-193.78C3392.09,-179.26 3368.99,-160.57 3349.77,-145.02\"/>\n<polygon fill=\"black\" stroke=\"black\" points=\"3351.77,-142.14 3341.8,-138.57 3347.37,-147.58 3351.77,-142.14\"/>\n<text text-anchor=\"middle\" x=\"3389\" y=\"-162.54\" font-family=\"Times,serif\" font-size=\"14.00\">&gt;</text>\n</g>\n<!-- 135038444343120 -->\n<g id=\"node72\" class=\"node\">\n<title>135038444343120</title>\n<polygon fill=\"lightgreen\" stroke=\"black\" points=\"3476,-131.87 3403,-131.87 3403,-95.87 3476,-95.87 3476,-131.87\"/>\n<text text-anchor=\"middle\" x=\"3439.5\" y=\"-110.17\" font-family=\"Times,serif\" font-size=\"14.00\">Leaf: 1.00</text>\n</g>\n<!-- 135038446030464&#45;&gt;135038444343120 -->\n<g id=\"edge71\" class=\"edge\">\n<title>135038446030464&#45;&gt;135038444343120</title>\n<path fill=\"none\" stroke=\"black\" d=\"M3439.5,-191.68C3439.5,-176.66 3439.5,-157.76 3439.5,-142.47\"/>\n<polygon fill=\"black\" stroke=\"black\" points=\"3443,-142.07 3439.5,-132.07 3436,-142.07 3443,-142.07\"/>\n<text text-anchor=\"middle\" x=\"3458\" y=\"-162.54\" font-family=\"Times,serif\" font-size=\"14.00\">NULL</text>\n</g>\n<!-- 135038445674192 -->\n<g id=\"node65\" class=\"node\">\n<title>135038445674192</title>\n<polygon fill=\"lightgreen\" stroke=\"black\" points=\"3076,-36 3003,-36 3003,0 3076,0 3076,-36\"/>\n<text text-anchor=\"middle\" x=\"3039.5\" y=\"-14.3\" font-family=\"Times,serif\" font-size=\"14.00\">Leaf: 0.00</text>\n</g>\n<!-- 135038446198144&#45;&gt;135038445674192 -->\n<g id=\"edge64\" class=\"edge\">\n<title>135038446198144&#45;&gt;135038445674192</title>\n<path fill=\"none\" stroke=\"black\" d=\"M3113.75,-88.7C3098.87,-74.73 3080.2,-57.21 3065.31,-43.23\"/>\n<polygon fill=\"black\" stroke=\"black\" points=\"3067.59,-40.57 3057.91,-36.28 3062.8,-45.67 3067.59,-40.57\"/>\n<text text-anchor=\"middle\" x=\"3096.5\" y=\"-57.8\" font-family=\"Times,serif\" font-size=\"14.00\">≤</text>\n</g>\n<!-- 135038445672144 -->\n<g id=\"node66\" class=\"node\">\n<title>135038445672144</title>\n<polygon fill=\"lightgreen\" stroke=\"black\" points=\"3167,-36 3094,-36 3094,0 3167,0 3167,-36\"/>\n<text text-anchor=\"middle\" x=\"3130.5\" y=\"-14.3\" font-family=\"Times,serif\" font-size=\"14.00\">Leaf: 1.00</text>\n</g>\n<!-- 135038446198144&#45;&gt;135038445672144 -->\n<g id=\"edge65\" class=\"edge\">\n<title>135038446198144&#45;&gt;135038445672144</title>\n<path fill=\"none\" stroke=\"black\" d=\"M3137.02,-86.97C3135.81,-74.34 3134.35,-59.14 3133.12,-46.32\"/>\n<polygon fill=\"black\" stroke=\"black\" points=\"3136.59,-45.84 3132.15,-36.22 3129.62,-46.51 3136.59,-45.84\"/>\n<text text-anchor=\"middle\" x=\"3140\" y=\"-57.8\" font-family=\"Times,serif\" font-size=\"14.00\">&gt;</text>\n</g>\n<!-- 135038446027728 -->\n<g id=\"node67\" class=\"node\">\n<title>135038446027728</title>\n<polygon fill=\"lightgreen\" stroke=\"black\" points=\"3258,-36 3185,-36 3185,0 3258,0 3258,-36\"/>\n<text text-anchor=\"middle\" x=\"3221.5\" y=\"-14.3\" font-family=\"Times,serif\" font-size=\"14.00\">Leaf: 0.00</text>\n</g>\n<!-- 135038446198144&#45;&gt;135038446027728 -->\n<g id=\"edge66\" class=\"edge\">\n<title>135038446198144&#45;&gt;135038446027728</title>\n<path fill=\"none\" stroke=\"black\" d=\"M3161.47,-87.71C3173.37,-74.1 3188.01,-57.33 3199.86,-43.77\"/>\n<polygon fill=\"black\" stroke=\"black\" points=\"3202.53,-46.04 3206.47,-36.21 3197.25,-41.44 3202.53,-46.04\"/>\n<text text-anchor=\"middle\" x=\"3209\" y=\"-57.8\" font-family=\"Times,serif\" font-size=\"14.00\">NULL</text>\n</g>\n<!-- 135038444926608 -->\n<g id=\"node69\" class=\"node\">\n<title>135038444926608</title>\n<polygon fill=\"lightgreen\" stroke=\"black\" points=\"3349,-36 3276,-36 3276,0 3349,0 3349,-36\"/>\n<text text-anchor=\"middle\" x=\"3312.5\" y=\"-14.3\" font-family=\"Times,serif\" font-size=\"14.00\">Leaf: 1.00</text>\n</g>\n<!-- 135038446030208&#45;&gt;135038444926608 -->\n<g id=\"edge68\" class=\"edge\">\n<title>135038446030208&#45;&gt;135038444926608</title>\n<path fill=\"none\" stroke=\"black\" d=\"M3312.5,-86.97C3312.5,-74.34 3312.5,-59.14 3312.5,-46.32\"/>\n<polygon fill=\"black\" stroke=\"black\" points=\"3316,-46.22 3312.5,-36.22 3309,-46.22 3316,-46.22\"/>\n<text text-anchor=\"middle\" x=\"3316.5\" y=\"-57.8\" font-family=\"Times,serif\" font-size=\"14.00\">≤</text>\n</g>\n<!-- 135038444913680 -->\n<g id=\"node70\" class=\"node\">\n<title>135038444913680</title>\n<polygon fill=\"lightgreen\" stroke=\"black\" points=\"3440,-36 3367,-36 3367,0 3440,0 3440,-36\"/>\n<text text-anchor=\"middle\" x=\"3403.5\" y=\"-14.3\" font-family=\"Times,serif\" font-size=\"14.00\">Leaf: 1.00</text>\n</g>\n<!-- 135038446030208&#45;&gt;135038444913680 -->\n<g id=\"edge69\" class=\"edge\">\n<title>135038446030208&#45;&gt;135038444913680</title>\n<path fill=\"none\" stroke=\"black\" d=\"M3336.41,-88.21C3349.83,-74.37 3366.51,-57.16 3379.88,-43.37\"/>\n<polygon fill=\"black\" stroke=\"black\" points=\"3382.48,-45.71 3386.92,-36.1 3377.45,-40.84 3382.48,-45.71\"/>\n<text text-anchor=\"middle\" x=\"3374\" y=\"-57.8\" font-family=\"Times,serif\" font-size=\"14.00\">&gt;</text>\n</g>\n<!-- 135038446064976 -->\n<g id=\"node71\" class=\"node\">\n<title>135038446064976</title>\n<polygon fill=\"lightgreen\" stroke=\"black\" points=\"3531,-36 3458,-36 3458,0 3531,0 3531,-36\"/>\n<text text-anchor=\"middle\" x=\"3494.5\" y=\"-14.3\" font-family=\"Times,serif\" font-size=\"14.00\">Leaf: 1.00</text>\n</g>\n<!-- 135038446030208&#45;&gt;135038446064976 -->\n<g id=\"edge70\" class=\"edge\">\n<title>135038446030208&#45;&gt;135038446064976</title>\n<path fill=\"none\" stroke=\"black\" d=\"M3353.8,-91.57C3383.14,-76.44 3422.41,-56.18 3452.02,-40.91\"/>\n<polygon fill=\"black\" stroke=\"black\" points=\"3453.98,-43.84 3461.26,-36.14 3450.77,-37.62 3453.98,-43.84\"/>\n<text text-anchor=\"middle\" x=\"3444\" y=\"-57.8\" font-family=\"Times,serif\" font-size=\"14.00\">NULL</text>\n</g>\n<!-- 135038446040976 -->\n<g id=\"node74\" class=\"node\">\n<title>135038446040976</title>\n<polygon fill=\"lightgreen\" stroke=\"black\" points=\"3567,-131.87 3494,-131.87 3494,-95.87 3567,-95.87 3567,-131.87\"/>\n<text text-anchor=\"middle\" x=\"3530.5\" y=\"-110.17\" font-family=\"Times,serif\" font-size=\"14.00\">Leaf: 1.00</text>\n</g>\n<!-- 135038446201152&#45;&gt;135038446040976 -->\n<g id=\"edge73\" class=\"edge\">\n<title>135038446201152&#45;&gt;135038446040976</title>\n<path fill=\"none\" stroke=\"black\" d=\"M3592.65,-192.74C3579.9,-176.76 3563.38,-156.07 3550.58,-140.03\"/>\n<polygon fill=\"black\" stroke=\"black\" points=\"3553.24,-137.75 3544.27,-132.12 3547.77,-142.12 3553.24,-137.75\"/>\n<text text-anchor=\"middle\" x=\"3580.5\" y=\"-162.54\" font-family=\"Times,serif\" font-size=\"14.00\">≤</text>\n</g>\n<!-- 135038446038992 -->\n<g id=\"node75\" class=\"node\">\n<title>135038446038992</title>\n<polygon fill=\"lightgreen\" stroke=\"black\" points=\"3658,-131.87 3585,-131.87 3585,-95.87 3658,-95.87 3658,-131.87\"/>\n<text text-anchor=\"middle\" x=\"3621.5\" y=\"-110.17\" font-family=\"Times,serif\" font-size=\"14.00\">Leaf: 1.00</text>\n</g>\n<!-- 135038446201152&#45;&gt;135038446038992 -->\n<g id=\"edge74\" class=\"edge\">\n<title>135038446201152&#45;&gt;135038446038992</title>\n<path fill=\"none\" stroke=\"black\" d=\"M3614.77,-191.68C3616.09,-176.66 3617.74,-157.76 3619.08,-142.47\"/>\n<polygon fill=\"black\" stroke=\"black\" points=\"3622.61,-142.34 3619.99,-132.07 3615.63,-141.73 3622.61,-142.34\"/>\n<text text-anchor=\"middle\" x=\"3623\" y=\"-162.54\" font-family=\"Times,serif\" font-size=\"14.00\">&gt;</text>\n</g>\n<!-- 135038446099536 -->\n<g id=\"node76\" class=\"node\">\n<title>135038446099536</title>\n<polygon fill=\"lightgreen\" stroke=\"black\" points=\"3749,-131.87 3676,-131.87 3676,-95.87 3749,-95.87 3749,-131.87\"/>\n<text text-anchor=\"middle\" x=\"3712.5\" y=\"-110.17\" font-family=\"Times,serif\" font-size=\"14.00\">Leaf: 0.00</text>\n</g>\n<!-- 135038446201152&#45;&gt;135038446099536 -->\n<g id=\"edge75\" class=\"edge\">\n<title>135038446201152&#45;&gt;135038446099536</title>\n<path fill=\"none\" stroke=\"black\" d=\"M3636.45,-193C3652.24,-176.78 3672.84,-155.61 3688.62,-139.41\"/>\n<polygon fill=\"black\" stroke=\"black\" points=\"3691.47,-141.5 3695.93,-131.89 3686.45,-136.62 3691.47,-141.5\"/>\n<text text-anchor=\"middle\" x=\"3687\" y=\"-162.54\" font-family=\"Times,serif\" font-size=\"14.00\">NULL</text>\n</g>\n<!-- 135038444389056 -->\n<g id=\"node78\" class=\"node\">\n<title>135038444389056</title>\n<ellipse fill=\"lightblue\" stroke=\"black\" cx=\"3839.5\" cy=\"-218.61\" rx=\"77.56\" ry=\"26.74\"/>\n<text text-anchor=\"middle\" x=\"3839.5\" y=\"-222.41\" font-family=\"Times,serif\" font-size=\"14.00\">Age</text>\n<text text-anchor=\"middle\" x=\"3839.5\" y=\"-207.41\" font-family=\"Times,serif\" font-size=\"14.00\">Threshold: 72.00</text>\n</g>\n<!-- 135038446042944&#45;&gt;135038444389056 -->\n<g id=\"edge77\" class=\"edge\">\n<title>135038446042944&#45;&gt;135038444389056</title>\n<path fill=\"none\" stroke=\"black\" d=\"M3839.5,-296.42C3839.5,-284.14 3839.5,-269.25 3839.5,-255.86\"/>\n<polygon fill=\"black\" stroke=\"black\" points=\"3843,-255.53 3839.5,-245.53 3836,-255.53 3843,-255.53\"/>\n<text text-anchor=\"middle\" x=\"3843.5\" y=\"-267.28\" font-family=\"Times,serif\" font-size=\"14.00\">≤</text>\n</g>\n<!-- 135038446032016 -->\n<g id=\"node85\" class=\"node\">\n<title>135038446032016</title>\n<polygon fill=\"lightgreen\" stroke=\"black\" points=\"4008,-236.61 3935,-236.61 3935,-200.61 4008,-200.61 4008,-236.61\"/>\n<text text-anchor=\"middle\" x=\"3971.5\" y=\"-214.91\" font-family=\"Times,serif\" font-size=\"14.00\">Leaf: 1.00</text>\n</g>\n<!-- 135038446042944&#45;&gt;135038446032016 -->\n<g id=\"edge84\" class=\"edge\">\n<title>135038446042944&#45;&gt;135038446032016</title>\n<path fill=\"none\" stroke=\"black\" d=\"M3869.78,-298.78C3891.29,-282.04 3920.03,-259.67 3941.47,-242.98\"/>\n<polygon fill=\"black\" stroke=\"black\" points=\"3943.85,-245.57 3949.59,-236.66 3939.55,-240.04 3943.85,-245.57\"/>\n<text text-anchor=\"middle\" x=\"3917\" y=\"-267.28\" font-family=\"Times,serif\" font-size=\"14.00\">&gt;</text>\n</g>\n<!-- 135038445748176 -->\n<g id=\"node86\" class=\"node\">\n<title>135038445748176</title>\n<polygon fill=\"lightgreen\" stroke=\"black\" points=\"4099,-236.61 4026,-236.61 4026,-200.61 4099,-200.61 4099,-236.61\"/>\n<text text-anchor=\"middle\" x=\"4062.5\" y=\"-214.91\" font-family=\"Times,serif\" font-size=\"14.00\">Leaf: 1.00</text>\n</g>\n<!-- 135038446042944&#45;&gt;135038445748176 -->\n<g id=\"edge85\" class=\"edge\">\n<title>135038446042944&#45;&gt;135038445748176</title>\n<path fill=\"none\" stroke=\"black\" d=\"M3888.15,-303.1C3924.32,-288.36 3974.62,-266.98 4017.5,-245.48 4019.91,-244.27 4022.37,-242.99 4024.84,-241.68\"/>\n<polygon fill=\"black\" stroke=\"black\" points=\"4026.63,-244.68 4033.72,-236.8 4023.27,-238.55 4026.63,-244.68\"/>\n<text text-anchor=\"middle\" x=\"3997\" y=\"-267.28\" font-family=\"Times,serif\" font-size=\"14.00\">NULL</text>\n</g>\n<!-- 135038444922048 -->\n<g id=\"node79\" class=\"node\">\n<title>135038444922048</title>\n<ellipse fill=\"lightblue\" stroke=\"black\" cx=\"3839.5\" cy=\"-113.87\" rx=\"72.66\" ry=\"26.74\"/>\n<text text-anchor=\"middle\" x=\"3839.5\" y=\"-117.67\" font-family=\"Times,serif\" font-size=\"14.00\">Shape</text>\n<text text-anchor=\"middle\" x=\"3839.5\" y=\"-102.67\" font-family=\"Times,serif\" font-size=\"14.00\">Threshold: 1.00</text>\n</g>\n<!-- 135038444389056&#45;&gt;135038444922048 -->\n<g id=\"edge78\" class=\"edge\">\n<title>135038444389056&#45;&gt;135038444922048</title>\n<path fill=\"none\" stroke=\"black\" d=\"M3839.5,-191.68C3839.5,-179.4 3839.5,-164.51 3839.5,-151.12\"/>\n<polygon fill=\"black\" stroke=\"black\" points=\"3843,-150.79 3839.5,-140.79 3836,-150.79 3843,-150.79\"/>\n<text text-anchor=\"middle\" x=\"3843.5\" y=\"-162.54\" font-family=\"Times,serif\" font-size=\"14.00\">≤</text>\n</g>\n<!-- 135038444402512 -->\n<g id=\"node83\" class=\"node\">\n<title>135038444402512</title>\n<polygon fill=\"lightgreen\" stroke=\"black\" points=\"4003,-131.87 3930,-131.87 3930,-95.87 4003,-95.87 4003,-131.87\"/>\n<text text-anchor=\"middle\" x=\"3966.5\" y=\"-110.17\" font-family=\"Times,serif\" font-size=\"14.00\">Leaf: 1.00</text>\n</g>\n<!-- 135038444389056&#45;&gt;135038444402512 -->\n<g id=\"edge82\" class=\"edge\">\n<title>135038444389056&#45;&gt;135038444402512</title>\n<path fill=\"none\" stroke=\"black\" d=\"M3869.28,-193.52C3889.77,-176.95 3916.86,-155.03 3937.24,-138.54\"/>\n<polygon fill=\"black\" stroke=\"black\" points=\"3939.67,-141.08 3945.24,-132.07 3935.27,-135.63 3939.67,-141.08\"/>\n<text text-anchor=\"middle\" x=\"3915\" y=\"-162.54\" font-family=\"Times,serif\" font-size=\"14.00\">&gt;</text>\n</g>\n<!-- 135038446098384 -->\n<g id=\"node84\" class=\"node\">\n<title>135038446098384</title>\n<polygon fill=\"lightgreen\" stroke=\"black\" points=\"4094,-131.87 4021,-131.87 4021,-95.87 4094,-95.87 4094,-131.87\"/>\n<text text-anchor=\"middle\" x=\"4057.5\" y=\"-110.17\" font-family=\"Times,serif\" font-size=\"14.00\">Leaf: 1.00</text>\n</g>\n<!-- 135038444389056&#45;&gt;135038446098384 -->\n<g id=\"edge83\" class=\"edge\">\n<title>135038444389056&#45;&gt;135038446098384</title>\n<path fill=\"none\" stroke=\"black\" d=\"M3888.23,-197.56C3923.24,-182.76 3971.33,-161.65 4012.5,-140.74 4014.9,-139.52 4017.36,-138.23 4019.82,-136.91\"/>\n<polygon fill=\"black\" stroke=\"black\" points=\"4021.63,-139.91 4028.69,-132.02 4018.25,-133.78 4021.63,-139.91\"/>\n<text text-anchor=\"middle\" x=\"3993\" y=\"-162.54\" font-family=\"Times,serif\" font-size=\"14.00\">NULL</text>\n</g>\n<!-- 135038444918288 -->\n<g id=\"node80\" class=\"node\">\n<title>135038444918288</title>\n<polygon fill=\"lightgreen\" stroke=\"black\" points=\"3785,-36 3712,-36 3712,0 3785,0 3785,-36\"/>\n<text text-anchor=\"middle\" x=\"3748.5\" y=\"-14.3\" font-family=\"Times,serif\" font-size=\"14.00\">Leaf: 1.00</text>\n</g>\n<!-- 135038444922048&#45;&gt;135038444918288 -->\n<g id=\"edge79\" class=\"edge\">\n<title>135038444922048&#45;&gt;135038444918288</title>\n<path fill=\"none\" stroke=\"black\" d=\"M3815.59,-88.21C3802.17,-74.37 3785.49,-57.16 3772.12,-43.37\"/>\n<polygon fill=\"black\" stroke=\"black\" points=\"3774.55,-40.84 3765.08,-36.1 3769.52,-45.71 3774.55,-40.84\"/>\n<text text-anchor=\"middle\" x=\"3801.5\" y=\"-57.8\" font-family=\"Times,serif\" font-size=\"14.00\">≤</text>\n</g>\n<!-- 135038444918480 -->\n<g id=\"node81\" class=\"node\">\n<title>135038444918480</title>\n<polygon fill=\"lightgreen\" stroke=\"black\" points=\"3876,-36 3803,-36 3803,0 3876,0 3876,-36\"/>\n<text text-anchor=\"middle\" x=\"3839.5\" y=\"-14.3\" font-family=\"Times,serif\" font-size=\"14.00\">Leaf: 1.00</text>\n</g>\n<!-- 135038444922048&#45;&gt;135038444918480 -->\n<g id=\"edge80\" class=\"edge\">\n<title>135038444922048&#45;&gt;135038444918480</title>\n<path fill=\"none\" stroke=\"black\" d=\"M3839.5,-86.97C3839.5,-74.34 3839.5,-59.14 3839.5,-46.32\"/>\n<polygon fill=\"black\" stroke=\"black\" points=\"3843,-46.22 3839.5,-36.22 3836,-46.22 3843,-46.22\"/>\n<text text-anchor=\"middle\" x=\"3844\" y=\"-57.8\" font-family=\"Times,serif\" font-size=\"14.00\">&gt;</text>\n</g>\n<!-- 135038444437584 -->\n<g id=\"node82\" class=\"node\">\n<title>135038444437584</title>\n<polygon fill=\"lightgreen\" stroke=\"black\" points=\"3967,-36 3894,-36 3894,0 3967,0 3967,-36\"/>\n<text text-anchor=\"middle\" x=\"3930.5\" y=\"-14.3\" font-family=\"Times,serif\" font-size=\"14.00\">Leaf: 1.00</text>\n</g>\n<!-- 135038444922048&#45;&gt;135038444437584 -->\n<g id=\"edge81\" class=\"edge\">\n<title>135038444922048&#45;&gt;135038444437584</title>\n<path fill=\"none\" stroke=\"black\" d=\"M3863.41,-88.21C3876.83,-74.37 3893.51,-57.16 3906.88,-43.37\"/>\n<polygon fill=\"black\" stroke=\"black\" points=\"3909.48,-45.71 3913.92,-36.1 3904.45,-40.84 3909.48,-45.71\"/>\n<text text-anchor=\"middle\" x=\"3914\" y=\"-57.8\" font-family=\"Times,serif\" font-size=\"14.00\">NULL</text>\n</g>\n</g>\n</svg>\n",
            "text/plain": [
              "<graphviz.graphs.Digraph at 0x7ad11683c1d0>"
            ]
          },
          "metadata": {},
          "execution_count": 31
        }
      ]
    },
    {
      "cell_type": "markdown",
      "source": [
        "# DATASET IMPUTAT AMB Fillna()"
      ],
      "metadata": {
        "id": "mmGkv0xByVqg"
      }
    },
    {
      "cell_type": "code",
      "source": [
        "from sklearn.metrics import (\n",
        "    accuracy_score,\n",
        "    precision_score,\n",
        "    recall_score,\n",
        "    f1_score,\n",
        "    confusion_matrix,\n",
        "    classification_report\n",
        ")\n",
        "\n",
        "#  Substitueix valors especials per NaN\n",
        "Xdata.replace(['?', -1, 'unknown', 'Unknown', ''], np.nan, inplace=True)\n",
        "\n",
        "#  Imputació de valors nuls amb la mitjana de cada columna numèrica\n",
        "Xdata_imputed = Xdata.copy()\n",
        "for col in Xdata_imputed.columns:\n",
        "    if Xdata_imputed[col].dtype in ['float64', 'int64']:\n",
        "        Xdata_imputed[col] = Xdata_imputed[col].fillna(Xdata_imputed[col].mean())\n",
        "\n",
        "#  Divisió en train i test amb dades imputades\n",
        "X_train, X_test, y_train, y_test = train_test_split(Xdata_imputed, ydata, test_size=0.2, random_state=42, stratify=ydata)\n",
        "\n",
        "print(\"🔍 X_test shape:\", X_test.shape)\n",
        "print(\"🔍 y_test shape:\", y_test.shape)\n",
        "\n",
        "\n",
        "#  Entrenar el model amb Random Forest personalitzat\n",
        "rf_custom = RandomForest(n_trees=25, max_depth=5, max_features=2)\n",
        "rf_custom.fit(X_train, y_train)\n",
        "\n",
        "#  Predir amb el Random Forest personalitzat\n",
        "start_time = time.time()\n",
        "\n",
        "y_pred_custom = rf_custom.predict(X_test)\n",
        "time_custom = time.time() - start_time\n",
        "\n",
        "#  Validació de resultats\n",
        "print(\"\\n Predicció del model:\")\n",
        "print(f\"Tipus: {type(y_pred_custom)}\")\n",
        "print(f\"Forma: {y_pred_custom.shape}\")\n",
        "print(f\"Primers valors: {y_pred_custom[:10].values if isinstance(y_pred_custom, pd.Series) else y_pred_custom[:10]}\")\n",
        "print(f\" Temps de predicció: {time_custom:.4f} s\")\n",
        "\n",
        "#  Avaluació amb múltiples mètriques\n",
        "print(\"\\n Mètriques de classificació:\")\n",
        "print(f\"Accuracy: {accuracy_score(y_test, y_pred_custom):.4f}\")\n",
        "print(f\"Precision: {precision_score(y_test, y_pred_custom, average='macro'):.4f}\")\n",
        "print(f\"Recall: {recall_score(y_test, y_pred_custom, average='macro'):.4f}\")\n",
        "print(f\"F1 Score: {f1_score(y_test, y_pred_custom, average='macro'):.4f}\")\n",
        "\n",
        "print(\"\\n Matriu de confusió:\")\n",
        "print(confusion_matrix(y_test, y_pred_custom))\n",
        "\n",
        "print(\"\\n Informe de classificació:\")\n",
        "print(classification_report(y_test, y_pred_custom))"
      ],
      "metadata": {
        "colab": {
          "base_uri": "https://localhost:8080/"
        },
        "id": "9Rh_9LfwySVc",
        "outputId": "67d03cb2-dd33-4d2f-925e-c37308b0c0d1"
      },
      "execution_count": 32,
      "outputs": [
        {
          "output_type": "stream",
          "name": "stderr",
          "text": [
            "<ipython-input-32-afad93781804>:11: SettingWithCopyWarning: \n",
            "A value is trying to be set on a copy of a slice from a DataFrame\n",
            "\n",
            "See the caveats in the documentation: https://pandas.pydata.org/pandas-docs/stable/user_guide/indexing.html#returning-a-view-versus-a-copy\n",
            "  Xdata.replace(['?', -1, 'unknown', 'Unknown', ''], np.nan, inplace=True)\n"
          ]
        },
        {
          "output_type": "stream",
          "name": "stdout",
          "text": [
            "🔍 X_test shape: (193, 5)\n",
            "🔍 y_test shape: (193, 1)\n",
            "\n",
            " Predicció del model:\n",
            "Tipus: <class 'pandas.core.series.Series'>\n",
            "Forma: (193,)\n",
            "Primers valors: [1 1 0 0 1 1 1 1 1 1]\n",
            " Temps de predicció: 0.3590 s\n",
            "\n",
            " Mètriques de classificació:\n",
            "Accuracy: 0.8446\n",
            "Precision: 0.8458\n",
            "Recall: 0.8477\n",
            "F1 Score: 0.8445\n",
            "\n",
            " Matriu de confusió:\n",
            "[[84 20]\n",
            " [10 79]]\n",
            "\n",
            " Informe de classificació:\n",
            "              precision    recall  f1-score   support\n",
            "\n",
            "           0       0.89      0.81      0.85       104\n",
            "           1       0.80      0.89      0.84        89\n",
            "\n",
            "    accuracy                           0.84       193\n",
            "   macro avg       0.85      0.85      0.84       193\n",
            "weighted avg       0.85      0.84      0.84       193\n",
            "\n"
          ]
        }
      ]
    },
    {
      "cell_type": "markdown",
      "source": [
        "# CROSS VALIDATION"
      ],
      "metadata": {
        "id": "GR6SYzJgvNMQ"
      }
    },
    {
      "cell_type": "code",
      "source": [
        "from sklearn.model_selection import KFold\n",
        "from sklearn.metrics import accuracy_score, precision_score, recall_score, f1_score\n",
        "\n",
        "# Configuració de cross-validation\n",
        "k = 5  # pots provar amb 5 o 10\n",
        "kf = KFold(n_splits=k, shuffle=True, random_state=42)\n",
        "\n",
        "# Guardem mètriques de cada fold\n",
        "accuracies = []\n",
        "precisions = []\n",
        "recalls = []\n",
        "f1s = []\n",
        "\n",
        "for fold, (train_index, val_index) in enumerate(kf.split(Xdata)):\n",
        "    print(f\"\\nFold {fold + 1}/{k}\")\n",
        "\n",
        "    X_train, X_val = Xdata.iloc[train_index], Xdata.iloc[val_index]\n",
        "    y_train, y_val = ydata.iloc[train_index], ydata.iloc[val_index]\n",
        "\n",
        "    # oversampling aqui\n",
        "\n",
        "    rf_custom = RandomForest(n_trees=25, max_depth=5, max_features=2)\n",
        "    rf_custom.fit(X_train, y_train)\n",
        "\n",
        "    y_pred = rf_custom.predict(X_val)\n",
        "\n",
        "    # Mètriques\n",
        "    accuracies.append(accuracy_score(y_val, y_pred))\n",
        "    precisions.append(precision_score(y_val, y_pred, average='macro'))\n",
        "    recalls.append(recall_score(y_val, y_pred, average='macro'))\n",
        "    f1s.append(f1_score(y_val, y_pred, average='macro'))\n",
        "\n",
        "# Resultats mitjans\n",
        "print(\"\\n Mitjanes Cross-Validation:\")\n",
        "print(f\"Accuracy: {np.mean(accuracies):.4f}\")\n",
        "print(f\"Precision (macro): {np.mean(precisions):.4f}\")\n",
        "print(f\"Recall (macro): {np.mean(recalls):.4f}\")\n",
        "print(f\"F1 Score (macro): {np.mean(f1s):.4f}\")"
      ],
      "metadata": {
        "colab": {
          "base_uri": "https://localhost:8080/"
        },
        "id": "1hI6keHvoAKJ",
        "outputId": "39f86b87-8bb0-47b0-b1a5-d3ef5cfd9c5a"
      },
      "execution_count": 33,
      "outputs": [
        {
          "output_type": "stream",
          "name": "stdout",
          "text": [
            "\n",
            "Fold 1/5\n",
            "\n",
            "Fold 2/5\n",
            "\n",
            "Fold 3/5\n",
            "\n",
            "Fold 4/5\n",
            "\n",
            "Fold 5/5\n",
            "\n",
            " Mitjanes Cross-Validation:\n",
            "Accuracy: 0.8429\n",
            "Precision (macro): 0.8430\n",
            "Recall (macro): 0.8401\n",
            "F1 Score (macro): 0.8406\n"
          ]
        }
      ]
    },
    {
      "cell_type": "markdown",
      "source": [
        "# XGBoost Test"
      ],
      "metadata": {
        "id": "cjZFNax2fNIt"
      }
    },
    {
      "cell_type": "code",
      "source": [
        "\n",
        "import xgboost as xgb\n",
        "\n",
        "# Substitueix valors especials per NaN\n",
        "Xdata.replace(['?', -1, 'unknown', 'Unknown', ''], np.nan, inplace=True)\n",
        "ydata = ydata.replace({2: 0, 4: 1}) #xgboost espera 0,1 ---> Pel Breast Cancer Wisconsin\n",
        "# Divisió en train i test\n",
        "#Amb stratify mantenim prorporcio de la clase en test i train\n",
        "X_train, X_test, y_train, y_test = train_test_split(Xdata, ydata, test_size=0.2, random_state=42, stratify=ydata)\n",
        "print(\" X_test shape:\", X_test.shape)\n",
        "print(\" y_test shape:\", y_test.shape)\n",
        "\n",
        "#  Entrenar el model amb XGBoost\n",
        "from xgboost import XGBClassifier\n",
        "\n",
        "xgb_clf = XGBClassifier(\n",
        "    n_estimators=20,\n",
        "    max_depth=5,\n",
        "    learning_rate=0.1,\n",
        "    eval_metric='mlogloss',\n",
        "    random_state=42\n",
        ")\n",
        "xgb_clf.fit(X_train, y_train)\n",
        "\n",
        "#  Predir amb XGBoost\n",
        "start_time = time.time()\n",
        "y_pred_xgb = xgb_clf.predict(X_test)\n",
        "time_xgb = time.time() - start_time\n",
        "\n",
        "# Validació de resultats\n",
        "print(\"\\n Predicció amb XGBoost:\")\n",
        "print(f\"Tipus: {type(y_pred_xgb)}\")\n",
        "print(f\"Forma: {y_pred_xgb.shape}\")\n",
        "print(f\"Primers valors: {y_pred_xgb[:10]}\")\n",
        "print(f\" Temps de predicció: {time_xgb:.4f} s\")\n",
        "\n",
        "#  Avaluació amb múltiples mètriques\n",
        "print(\"\\n Mètriques de classificació:\")\n",
        "\n",
        "print(f\"Accuracy: {accuracy_score(y_test, y_pred_xgb):.4f}\")\n",
        "print(f\"Precision: {precision_score(y_test, y_pred_xgb, average='macro'):.4f}\")\n",
        "print(f\"Recall: {recall_score(y_test, y_pred_xgb, average='macro'):.4f}\")\n",
        "print(f\"F1 Score: {f1_score(y_test, y_pred_xgb, average='macro'):.4f}\")\n",
        "\n",
        "print(\"\\n Matriu de confusió:\")\n",
        "print(confusion_matrix(y_test, y_pred_xgb))\n",
        "\n",
        "#  Resum complet per classe\n",
        "print(\"\\n Informe de classificació:\")\n",
        "print(classification_report(y_test, y_pred_xgb))"
      ],
      "metadata": {
        "colab": {
          "base_uri": "https://localhost:8080/"
        },
        "id": "jRhZnXMNclPY",
        "outputId": "7bcfe895-cc01-4dfa-9663-f7fb9ad5161d"
      },
      "execution_count": 34,
      "outputs": [
        {
          "output_type": "stream",
          "name": "stdout",
          "text": [
            " X_test shape: (193, 5)\n",
            " y_test shape: (193, 1)\n",
            "\n",
            " Predicció amb XGBoost:\n",
            "Tipus: <class 'numpy.ndarray'>\n",
            "Forma: (193,)\n",
            "Primers valors: [1 1 0 0 1 1 1 1 1 1]\n",
            " Temps de predicció: 0.0050 s\n",
            "\n",
            " Mètriques de classificació:\n",
            "Accuracy: 0.8290\n",
            "Precision: 0.8288\n",
            "Recall: 0.8308\n",
            "F1 Score: 0.8287\n",
            "\n",
            " Matriu de confusió:\n",
            "[[84 20]\n",
            " [13 76]]\n",
            "\n",
            " Informe de classificació:\n",
            "              precision    recall  f1-score   support\n",
            "\n",
            "           0       0.87      0.81      0.84       104\n",
            "           1       0.79      0.85      0.82        89\n",
            "\n",
            "    accuracy                           0.83       193\n",
            "   macro avg       0.83      0.83      0.83       193\n",
            "weighted avg       0.83      0.83      0.83       193\n",
            "\n"
          ]
        },
        {
          "output_type": "stream",
          "name": "stderr",
          "text": [
            "<ipython-input-34-7bdec2e862a3>:4: SettingWithCopyWarning: \n",
            "A value is trying to be set on a copy of a slice from a DataFrame\n",
            "\n",
            "See the caveats in the documentation: https://pandas.pydata.org/pandas-docs/stable/user_guide/indexing.html#returning-a-view-versus-a-copy\n",
            "  Xdata.replace(['?', -1, 'unknown', 'Unknown', ''], np.nan, inplace=True)\n"
          ]
        }
      ]
    },
    {
      "cell_type": "markdown",
      "source": [
        "# LightGBM Test"
      ],
      "metadata": {
        "id": "sqCxsTSIfURY"
      }
    },
    {
      "cell_type": "code",
      "source": [
        "import lightgbm as lgb\n",
        "\n",
        "# Substitueix valors especials per NaN\n",
        "Xdata.replace(['?', -1, 'unknown', 'Unknown', ''], np.nan, inplace=True)\n",
        "\n",
        "# Divisió en train i test\n",
        "#Amb stratify mantenim prorporcio de la clase en test i train\n",
        "X_train, X_test, y_train, y_test = train_test_split(Xdata, ydata, test_size=0.2, random_state=42, stratify=ydata)\n",
        "print(\"🔍 X_test shape:\", X_test.shape)\n",
        "print(\"🔍 y_test shape:\", y_test.shape)\n",
        "\n",
        "\n",
        "# Entrenar el model amb LightGBM\n",
        "lgbm_clf = lgb.LGBMClassifier(\n",
        "    n_estimators=20,\n",
        "    max_depth=5,\n",
        "    learning_rate=0.1,\n",
        "    random_state=42\n",
        ")\n",
        "\n",
        "lgbm_clf.fit(\n",
        "    X_train, y_train,\n",
        "    eval_set=[(X_test, y_test)],\n",
        "    eval_metric='logloss',\n",
        "    callbacks=[lgb.early_stopping(stopping_rounds=10)]\n",
        ")\n",
        "\n",
        "# Predir amb LightGBM\n",
        "start_time = time.time()\n",
        "y_pred_lgbm = lgbm_clf.predict(X_test)\n",
        "time_lgbm = time.time() - start_time\n",
        "\n",
        "# Validació de resultats\n",
        "print(\"\\n Predicció amb LightGBM:\")\n",
        "print(f\"Tipus: {type(y_pred_lgbm)}\")\n",
        "print(f\"Forma: {y_pred_lgbm.shape}\")\n",
        "print(f\"Primers valors: {y_pred_lgbm[:10]}\")\n",
        "print(f\" Temps de predicció: {time_lgbm:.4f} s\")\n",
        "\n",
        "# Avaluació amb múltiples mètriques\n",
        "print(\"\\n Mètriques de classificació:\")\n",
        "print(f\"Accuracy: {accuracy_score(y_test, y_pred_lgbm):.4f}\")\n",
        "print(f\"Precision: {precision_score(y_test, y_pred_lgbm, average='macro'):.4f}\")\n",
        "print(f\"Recall: {recall_score(y_test, y_pred_lgbm, average='macro'):.4f}\")\n",
        "print(f\"F1 Score: {f1_score(y_test, y_pred_lgbm, average='macro'):.4f}\")\n",
        "\n",
        "print(\"\\n Matriu de confusió:\")\n",
        "print(confusion_matrix(y_test, y_pred_lgbm))\n",
        "\n",
        "# Resum complet per classe\n",
        "print(\"\\n Informe de classificació:\")\n",
        "print(classification_report(y_test, y_pred_lgbm))"
      ],
      "metadata": {
        "colab": {
          "base_uri": "https://localhost:8080/"
        },
        "id": "XmrTjwqxfV9k",
        "outputId": "ffe8af65-cb5a-4dc2-ea09-460403b7eac3"
      },
      "execution_count": 35,
      "outputs": [
        {
          "output_type": "stream",
          "name": "stdout",
          "text": [
            "🔍 X_test shape: (193, 5)\n",
            "🔍 y_test shape: (193, 1)\n",
            "[LightGBM] [Info] Number of positive: 356, number of negative: 412\n",
            "[LightGBM] [Info] Auto-choosing row-wise multi-threading, the overhead of testing was 0.000134 seconds.\n",
            "You can set `force_row_wise=true` to remove the overhead.\n",
            "And if memory is not enough, you can set `force_col_wise=true`.\n",
            "[LightGBM] [Info] Total Bins 92\n",
            "[LightGBM] [Info] Number of data points in the train set: 768, number of used features: 5\n",
            "[LightGBM] [Info] [binary:BoostFromScore]: pavg=0.463542 -> initscore=-0.146093\n",
            "[LightGBM] [Info] Start training from score -0.146093\n",
            "[LightGBM] [Warning] No further splits with positive gain, best gain: -inf\n",
            "Training until validation scores don't improve for 10 rounds\n",
            "[LightGBM] [Warning] No further splits with positive gain, best gain: -inf\n",
            "[LightGBM] [Warning] No further splits with positive gain, best gain: -inf\n",
            "[LightGBM] [Warning] No further splits with positive gain, best gain: -inf\n",
            "[LightGBM] [Warning] No further splits with positive gain, best gain: -inf\n",
            "[LightGBM] [Warning] No further splits with positive gain, best gain: -inf\n",
            "[LightGBM] [Warning] No further splits with positive gain, best gain: -inf\n",
            "[LightGBM] [Warning] No further splits with positive gain, best gain: -inf\n",
            "[LightGBM] [Warning] No further splits with positive gain, best gain: -inf\n",
            "[LightGBM] [Warning] No further splits with positive gain, best gain: -inf\n",
            "[LightGBM] [Warning] No further splits with positive gain, best gain: -inf\n",
            "[LightGBM] [Warning] No further splits with positive gain, best gain: -inf\n",
            "[LightGBM] [Warning] No further splits with positive gain, best gain: -inf\n",
            "[LightGBM] [Warning] No further splits with positive gain, best gain: -inf\n",
            "[LightGBM] [Warning] No further splits with positive gain, best gain: -inf\n",
            "[LightGBM] [Warning] No further splits with positive gain, best gain: -inf\n",
            "[LightGBM] [Warning] No further splits with positive gain, best gain: -inf\n",
            "[LightGBM] [Warning] No further splits with positive gain, best gain: -inf\n",
            "[LightGBM] [Warning] No further splits with positive gain, best gain: -inf\n",
            "[LightGBM] [Warning] No further splits with positive gain, best gain: -inf\n",
            "Did not meet early stopping. Best iteration is:\n",
            "[20]\tvalid_0's binary_logloss: 0.390757\n",
            "\n",
            " Predicció amb LightGBM:\n",
            "Tipus: <class 'numpy.ndarray'>\n",
            "Forma: (193,)\n",
            "Primers valors: [1 1 0 0 1 1 1 1 1 1]\n",
            " Temps de predicció: 0.0021 s\n",
            "\n",
            " Mètriques de classificació:\n",
            "Accuracy: 0.8394\n",
            "Precision: 0.8383\n",
            "Recall: 0.8396\n",
            "F1 Score: 0.8388\n",
            "\n",
            " Matriu de confusió:\n",
            "[[87 17]\n",
            " [14 75]]\n",
            "\n",
            " Informe de classificació:\n",
            "              precision    recall  f1-score   support\n",
            "\n",
            "           0       0.86      0.84      0.85       104\n",
            "           1       0.82      0.84      0.83        89\n",
            "\n",
            "    accuracy                           0.84       193\n",
            "   macro avg       0.84      0.84      0.84       193\n",
            "weighted avg       0.84      0.84      0.84       193\n",
            "\n"
          ]
        },
        {
          "output_type": "stream",
          "name": "stderr",
          "text": [
            "<ipython-input-35-abb22a66131d>:4: SettingWithCopyWarning: \n",
            "A value is trying to be set on a copy of a slice from a DataFrame\n",
            "\n",
            "See the caveats in the documentation: https://pandas.pydata.org/pandas-docs/stable/user_guide/indexing.html#returning-a-view-versus-a-copy\n",
            "  Xdata.replace(['?', -1, 'unknown', 'Unknown', ''], np.nan, inplace=True)\n",
            "/usr/local/lib/python3.11/dist-packages/sklearn/preprocessing/_label.py:93: DataConversionWarning: A column-vector y was passed when a 1d array was expected. Please change the shape of y to (n_samples, ), for example using ravel().\n",
            "  y = column_or_1d(y, warn=True)\n",
            "/usr/local/lib/python3.11/dist-packages/sklearn/preprocessing/_label.py:129: DataConversionWarning: A column-vector y was passed when a 1d array was expected. Please change the shape of y to (n_samples, ), for example using ravel().\n",
            "  y = column_or_1d(y, dtype=self.classes_.dtype, warn=True)\n",
            "/usr/local/lib/python3.11/dist-packages/sklearn/preprocessing/_label.py:129: DataConversionWarning: A column-vector y was passed when a 1d array was expected. Please change the shape of y to (n_samples, ), for example using ravel().\n",
            "  y = column_or_1d(y, dtype=self.classes_.dtype, warn=True)\n"
          ]
        }
      ]
    }
  ],
  "metadata": {
    "colab": {
      "provenance": [],
      "collapsed_sections": [
        "R0R8FfMJwuS2",
        "Zot2xQrIPkIw",
        "rCShu3qY0QEp",
        "kS3b5hfNowK8"
      ]
    },
    "kernelspec": {
      "display_name": "Python 3",
      "name": "python3"
    },
    "language_info": {
      "name": "python"
    }
  },
  "nbformat": 4,
  "nbformat_minor": 0
}